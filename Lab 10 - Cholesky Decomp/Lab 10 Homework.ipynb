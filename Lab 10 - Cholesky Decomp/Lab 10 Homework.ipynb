{
 "cells": [
  {
   "cell_type": "markdown",
   "metadata": {},
   "source": [
    "> ## Make a copy of this notebook (File menu -> Make a Copy...)\n",
    "\n",
    "### Homework Question 1\n",
    "For larger positive definite matrices, the Cholesky function may fail due to floating point error. This is largely due to the square root of very small decimals being taken. There is an alternative decomposition: $A=LDL^T$, where $L$ is a lower-triagular matrix with ones on the diagonal, and $D$ is a diagonal matrix. \n",
    "\n",
    "  * By doing a similar analysis to the one in Question 9 in the lab, write a function called `LDLdecomp(A)` that takes a positive definite square matrix $A$ and returns $L$ and $D$ as in this decomposition.\n",
    "  >**Note: you may *not* use your existing Cholesky function, or any other Cholesky function for this question. Rather, you should do a new algebraic analysis as we originally did for Cholesky in Question 8 of the lab. Be sure to write up your formulas in the MarkDown box below.**\n",
    "  * Show tests of your code for timing and accuracy.<br><br>\n",
    "  * The LDL decomposition sometimes exists for symmetric matrices that are not positive definite. Recall that adding a matrix to its transpose gives a symmetric matrix. Generate a few random symmetric matrices like this and compute their LDL decomposition. Test your answers for accuracy. <br><br>\n",
    "  * Show that if $A$ is positive definite and $A=LDL^T$ is its LDL decomposition, then if $M = L\\sqrt{D}$, then $A = MM^T$ is the Cholesky decomposition of $A$. Why can this not be used to compute the Cholesky decomposition of non-positive definite symmetric matrices? (Hint: What do you notice about the matrix $D$ in this case vs. the positive definite case?)<br><br>\n",
    "  * Consider the matrices $L$ and $DL^T$ from the $A=LDL^T$ decomposition. For a few random symmetric matrices of different sizes, compare these two matrices to the matrices $L$ and $U$ obtained from the LU decomposition code you wrote in Lab 4. Comment on your answers. For some large ($500\\times 500$ and $1000\\times 1000$) symmetric matrices, run and comment on timing comparisons."
   ]
  },
  {
   "cell_type": "markdown",
   "metadata": {},
   "source": []
  },
  {
   "cell_type": "code",
   "execution_count": 0,
   "metadata": {},
   "outputs": [],
   "source": []
  },
  {
   "cell_type": "markdown",
   "metadata": {},
   "source": [
    "### Homework Question 2\n",
    "\n",
    "Write a `CholLeastSquares(A,v)` function that solves the least squares problem for $Ax=v$. Test your code by comparing your answers to your previous least squares code. Also provide timing comparisons for a few different matrix sizes."
   ]
  },
  {
   "cell_type": "code",
   "execution_count": 0,
   "metadata": {},
   "outputs": [],
   "source": []
  },
  {
   "cell_type": "markdown",
   "metadata": {},
   "source": []
  }
 ],
 "metadata": {
  "kernelspec": {
   "display_name": "Python 3",
   "language": "python",
   "name": "python3"
  },
  "language_info": {
   "codemirror_mode": {
    "name": "ipython",
    "version": 3
   },
   "file_extension": ".py",
   "mimetype": "text/x-python",
   "name": "python",
   "nbconvert_exporter": "python",
   "pygments_lexer": "ipython3",
   "version": "3.8.8"
  }
 },
 "nbformat": 4,
 "nbformat_minor": 2
}

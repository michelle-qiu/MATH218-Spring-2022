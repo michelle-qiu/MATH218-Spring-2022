{
 "cells": [
  {
   "cell_type": "markdown",
   "metadata": {},
   "source": [
    "On this homework, you will see the need for *pivoting* (or row swaps) in row reduction algorithms. Two significant (and related) issues arise when row reducing. The first two questions explore these issues. For both of these questions, work without any row swaps.\n",
    "\n",
    "> ## Make a copy of this notebook (File menu -> Make a Copy...)\n",
    "\n",
    "### Homework Question 1\n",
    "\n",
    "Consider the matrix $$\\begin{bmatrix} 1 & 2 & 3 & -2\\\\ 2 & 4 & 1 &  0\\\\ 3 & 3 & 2 & 5 \\\\ -1 & 6 & 2 & 1\\end{bmatrix}.$$ Row-reduce this matrix by hand, then using your `rowred()` code from lab. What happens? Explain why the issue occurs."
   ]
  },
  {
   "cell_type": "markdown",
   "metadata": {},
   "source": [
    "This error occurs because without row swapping, there is a row with a pivot in it in the wrong position. Because the code assumes that the row directly above the row whose first value we are trying to reduce to zero has a nonzero value in that same column (here, the second value in the second row is a zero, not a nonzero value) the program ends up trying to divide the row by zero in order to reduce the next row to zero. Thus, this causes an error by dividing by zero."
   ]
  },
  {
   "cell_type": "code",
   "execution_count": 2,
   "metadata": {},
   "outputs": [
    {
     "name": "stdout",
     "output_type": "stream",
     "text": [
      "[[  1.   2.   3.  -2.]\n",
      " [  0.   0.  -5.   4.]\n",
      " [ nan  nan -inf  inf]\n",
      " [ nan  nan  nan  nan]]\n"
     ]
    },
    {
     "name": "stderr",
     "output_type": "stream",
     "text": [
      "C:\\Users\\miche\\anaconda3\\envs\\dsenv\\lib\\site-packages\\ipykernel_launcher.py:17: RuntimeWarning: divide by zero encountered in double_scalars\n",
      "C:\\Users\\miche\\anaconda3\\envs\\dsenv\\lib\\site-packages\\ipykernel_launcher.py:8: RuntimeWarning: invalid value encountered in multiply\n",
      "  \n",
      "C:\\Users\\miche\\anaconda3\\envs\\dsenv\\lib\\site-packages\\ipykernel_launcher.py:17: RuntimeWarning: invalid value encountered in double_scalars\n"
     ]
    }
   ],
   "source": [
    "import numpy as np\n",
    "\n",
    "def swaprows(A,i,j):\n",
    "    A[[i, j],:] = A[[j, i],:] \n",
    "def rowmult(A,i,c):\n",
    "    A[i] = A[i]*c\n",
    "def rowaddmult(A,i,j,c):\n",
    "    A[j] = A[i]*c + A[j]\n",
    "def rowred(A):\n",
    "    rows,cols = A.shape\n",
    "    copy = A.copy()\n",
    "    pivotcol = 0\n",
    "    pivotrow = 0\n",
    "    i = 1\n",
    "    while((pivotcol<cols) & (pivotrow<rows)):\n",
    "        while(i<rows):\n",
    "            rowaddmult(copy,pivotrow,i,((-1*copy[i,pivotcol])/(copy[pivotrow,pivotcol])))\n",
    "            i+=1\n",
    "        pivotcol+=1\n",
    "        pivotrow+=1\n",
    "        i = pivotrow+1\n",
    "    return copy;\n",
    "\n",
    "A = np.array([[1.,2,3,-2],[2,4,1,0],[3,3,2,5],[-1,6,2,1]])\n",
    "print(rowred(A))"
   ]
  },
  {
   "cell_type": "markdown",
   "metadata": {},
   "source": [
    "### Homework Question 2\n",
    "\n",
    "Consider the following system of three simultaneous equations in three variables:\n",
    "\n",
    "$$\\begin{align*} 0.0001x_1 &+ 10,000x_3 &&= 10,000.0001 \\\\ 10,000x_1 &+ 0.0001x_2 &&= 10,000.0001\\\\10,000x_2 &+ x_3 &&= 10,001\\end{align*}$$\n",
    "\n",
    "1. Write this system as a matrix equation $Ax=v$. \n",
    "1. Row-reduce the system and solve it by hand. You should get a nice mand simple answer. It may help to express everything as powers of 10, and to note that $$v=\\begin{bmatrix}10^4+10^{-4}\\\\ 10^{4}+10^{-4}\\\\ 10^4+1\\end{bmatrix}.$$ You might even be able to just spot the answer by looking at that, but row-reduce anyway. We'll need the hand-done row-reduction later in this homework.\n",
    "1. Use your work from Question 11 in the lab to solve the system using NumPy. Do you get the right answer?"
   ]
  },
  {
   "cell_type": "code",
   "execution_count": 3,
   "metadata": {},
   "outputs": [
    {
     "name": "stdout",
     "output_type": "stream",
     "text": [
      "[0.99999999 2.44140625 1.        ]\n"
     ]
    }
   ],
   "source": [
    "def backsub(U,v):\n",
    "    rows,cols = U.shape\n",
    "    x = np.zeros(cols)\n",
    "    for i in range (rows-1,-1,-1):\n",
    "        x[i] += (U[i, i+1:rows]@x[i+1:rows]) # dot product version \n",
    "        x[i] = v[i] - x[i]\n",
    "        x[i] = x[i]/U[i,i]\n",
    "    return x;\n",
    "\n",
    "a = np.array([[0.0001,0,10000],[10000,.0001,0],[0,10000,1]])\n",
    "v = np.array([10000.0001,10000.0001,10001])\n",
    "\n",
    "def gauss(a,v):\n",
    "    rows,cols = a.shape #dimensions of the original matrix yet to be augmented\n",
    "    A = np.zeros(rows*(cols+1)).reshape(rows,cols+1)\n",
    "    A[:rows,:cols] = a[:,:]\n",
    "    A[:,cols] = v\n",
    "    #print(A)\n",
    "    sol = rowred(A)\n",
    "    #print(sol)\n",
    "    newsol = backsub(sol[:cols,:cols],sol[:,cols]) #here we have to separate the REF matrix into its augmented parts.\n",
    "    return (newsol)\n",
    "    \n",
    "print(gauss(a,v))"
   ]
  },
  {
   "cell_type": "markdown",
   "metadata": {},
   "source": [
    "#### What's Going On?\n",
    "\n",
    "The issue in the first question above is relatively simple: a zero appears in a pivot position. We cannot divide by zero, and so we're stuck.\n",
    "\n",
    "The second question is more subtle. What happens there is an example of *floating point error*. While a full discussion of floating point error is beyond the scope of these labs, but the following question gives some insight:\n",
    "\n",
    "### Homework Question 3\n",
    "\n",
    "Look back at your hand-computed row-reduction from Homework Question 2. For each entry in the row-reduced augemented matrix, write down how many *significant figures* you'd need to write out each number in full. For example, the number 101 requires three significant figures, whereas 100 requires only one, since it can be written as $1e+02$ (i.e. $1\\times 10^2$). Likewise, 100.001 ($1.00001e+02$) requires six, as does 0.000100001 ($1.00001e-4$).\n",
    "\n",
    "Very briefly, floating point numbers can only hold a certain number of significant figures. Numbers requiring more than the limit are rounded. Run the following code, and use the output to find the maximum number of significant figures floats in Python can represent accurately. Explain your answer.\n",
    "```python\n",
    "for i in range(20):\n",
    "    print(i,float(10**i+1)-10**i)\n",
    "```\n",
    "\n",
    "Lastly, let's look at where the incorrectly represented numbers came from. Go back to your row reduction, and find the exact places where Python could no longer represent numbers accurately. Explain the following sentence:\n",
    "> *When we add two numbers of very different magnitudes, we may create numbers that cannot be accurately represented as floats.*\n",
    "\n",
    "As you saw in Homework Question 2, it is possible to construct relatively simple examples where the limit is exceeded, resulting in very incorrect results that do not round correctly.\n",
    "\n",
    "Note that we get a floating point issue within *A* itself, even without its augmented column. This will be important in the next lab."
   ]
  },
  {
   "cell_type": "markdown",
   "metadata": {},
   "source": [
    "Here, we can see that the maximum number of significant digits that floats can hold in Python is 15, because after that, we can see here that it loses its most insignificant digit and does not recall that it initially added 1 to the very large float (when that large float encompassed more than 15 digits).\n",
    "\n",
    "Because floats in Python can only hold a certain number of digits and remain accurate, when two digits that are very disparate (like more than 15 significant digits apart from one another) are added together, the least significant one is rendered irrelevant and is assumed to be zero. We can see how this worked in the matrix above, because a very large number was added to a very small number, and this caused errors when we were using our code to reduce the matrix for the above reasons."
   ]
  },
  {
   "cell_type": "code",
   "execution_count": 4,
   "metadata": {},
   "outputs": [
    {
     "name": "stdout",
     "output_type": "stream",
     "text": [
      "0 1.0\n",
      "1 1.0\n",
      "2 1.0\n",
      "3 1.0\n",
      "4 1.0\n",
      "5 1.0\n",
      "6 1.0\n",
      "7 1.0\n",
      "8 1.0\n",
      "9 1.0\n",
      "10 1.0\n",
      "11 1.0\n",
      "12 1.0\n",
      "13 1.0\n",
      "14 1.0\n",
      "15 1.0\n",
      "16 0.0\n",
      "17 0.0\n",
      "18 0.0\n",
      "19 0.0\n"
     ]
    }
   ],
   "source": [
    "for i in range(20):\n",
    "    print(i,float(10**i+1)-10**i)"
   ]
  },
  {
   "cell_type": "markdown",
   "metadata": {},
   "source": [
    "To solve (or at least reduce) the problem we saw above, we use a strategy called *Maximal Partial Pivoting*. The idea is this: In a given row, look at all numbers in the column *below* the pivot. If there is a number whose magnitude (absolute value) is larger than the pivot, swap that row with the current one (if two rows have the same magnitude in that column, just pick the first to swap with). Then proceed with regular row reduction.\n",
    "\n",
    "### Homework Question 4\n",
    "\n",
    "By hand, carry out row reduction with MPP for the matrix $$\\begin{bmatrix} 1 & 2 & 2 \\\\ 2 & 1 & 2 \\\\ 2 & -1 & 2\\end{bmatrix}$$"
   ]
  },
  {
   "cell_type": "markdown",
   "metadata": {},
   "source": [
    "$$\\begin{bmatrix} 2 & 1 & 2 \\\\ 0 & -2 & 0 \\\\ 0 & 0 & 1\\end {bmatrix}$$"
   ]
  },
  {
   "cell_type": "markdown",
   "metadata": {},
   "source": [
    "### Homework Question 5\n",
    "\n",
    "To find the index of the largest entry of a vector, use the command `np.argmax(v)`. Use this to modify your `rowred(A)` routine to create a new routine `rowredpivot(A)` that implements MPP. Test your code on the matrix from the last question, as well as the matrix from Homework Question 1.\n",
    "\n",
    "**Note: When testing for a swap, be sure to only test entries below the current pivot. You will need to be a little careful with the output from `np.argmax()`.**"
   ]
  },
  {
   "cell_type": "code",
   "execution_count": 5,
   "metadata": {},
   "outputs": [
    {
     "name": "stdout",
     "output_type": "stream",
     "text": [
      "[[ 3.          3.          2.          5.        ]\n",
      " [ 0.          7.          2.66666667  2.66666667]\n",
      " [ 0.          0.          1.95238095 -4.04761905]\n",
      " [ 0.          0.          0.         -6.36585366]]\n"
     ]
    }
   ],
   "source": [
    "def swaprows(A,i,j):\n",
    "    A[[i, j],:] = A[[j, i],:] \n",
    "def rowmult(A,i,c):\n",
    "    A[i] = A[i]*c\n",
    "def rowaddmult(A,i,j,c):\n",
    "    A[j] = A[i]*c + A[j]\n",
    "def rowredpivot(A):\n",
    "    rows,cols = A.shape\n",
    "    copy = A.copy()\n",
    "    pivotcol = 0\n",
    "    pivotrow = 0\n",
    "    i = 1\n",
    "    while((pivotcol<cols) & (pivotrow<rows)):\n",
    "        while(i<rows):\n",
    "            maxe = np.argmax(abs(copy[:,pivotcol]))\n",
    "            if (maxe > pivotrow):\n",
    "                copyrow = (copy[pivotrow]).copy();\n",
    "                copy[pivotrow] = (copy[maxe]).copy();\n",
    "                copy[maxe] = copyrow;\n",
    "            rowaddmult(copy,pivotrow,i,((-1*copy[i,pivotcol])/(copy[pivotrow,pivotcol])))\n",
    "            i+=1\n",
    "        pivotcol+=1\n",
    "        pivotrow+=1\n",
    "        i = pivotrow+1\n",
    "    return copy;\n",
    "#A = np.array([[1,2.,2],[2,1,2],[2,-1,2]])\n",
    "A = np.array([[1.,2,3,-2],[2,4,1,0],[3,3,2,5],[-1,6,2,1]])\n",
    "print(rowredpivot(A))\n",
    "\n"
   ]
  },
  {
   "cell_type": "markdown",
   "metadata": {},
   "source": [
    "### Homework Question 6\n",
    "\n",
    "Repeat Homework Question 2 above with your new routine. You should get the right answer this time. Lastly, carry out row-reduction with MPP by hand for this system. You should still find that there are places where we get rounding errors. Can you explain why the answer you get from your routine is nonetheless correct? We will explore this more in depth on the next homework."
   ]
  },
  {
   "cell_type": "code",
   "execution_count": 7,
   "metadata": {},
   "outputs": [
    {
     "name": "stdout",
     "output_type": "stream",
     "text": [
      "[[1.00000000e+04 1.00000000e-04 0.00000000e+00 1.00000001e+04]\n",
      " [0.00000000e+00 1.00000000e+04 1.00000000e+00 1.00010000e+04]\n",
      " [0.00000000e+00 0.00000000e+00 1.00000000e+04 1.00000000e+04]]\n",
      "[1. 1. 1.]\n"
     ]
    }
   ],
   "source": [
    "a = np.array([[0.0001,0,10000],[10000,.0001,0],[0,10000,1]])\n",
    "v = np.array([10000.0001,10000.0001,10001])\n",
    "\n",
    "def gauss(a,v):\n",
    "    rows,cols = a.shape #dimensions of the original matrix yet to be augmented\n",
    "    A = np.zeros(rows*(cols+1)).reshape(rows,cols+1)\n",
    "    A[:rows,:cols] = a[:,:]\n",
    "    A[:,cols] = v\n",
    "    #print(A)\n",
    "    sol = rowredpivot(A)\n",
    "    print(sol)\n",
    "    newsol = backsub(sol[:cols,:cols],sol[:,cols]) #here we have to separate the REF matrix into its augmented parts.\n",
    "    return (newsol)\n",
    "\n",
    "print(gauss(a,v))"
   ]
  },
  {
   "cell_type": "markdown",
   "metadata": {},
   "source": [
    "Even though there are some rounding errors, the answer from this routine is still correct. Even though the ref matrices do not end up being the same due to differences in the way that it was reduced order-wise, the final answer is stil the same because there can be several different REF matrices for any given matrix, and solving with back substitution resolves this issue."
   ]
  }
 ],
 "metadata": {
  "kernelspec": {
   "display_name": "Python 3",
   "language": "python",
   "name": "python3"
  },
  "language_info": {
   "codemirror_mode": {
    "name": "ipython",
    "version": 3
   },
   "file_extension": ".py",
   "mimetype": "text/x-python",
   "name": "python",
   "nbconvert_exporter": "python",
   "pygments_lexer": "ipython3",
   "version": "3.8.8"
  }
 },
 "nbformat": 4,
 "nbformat_minor": 2
}

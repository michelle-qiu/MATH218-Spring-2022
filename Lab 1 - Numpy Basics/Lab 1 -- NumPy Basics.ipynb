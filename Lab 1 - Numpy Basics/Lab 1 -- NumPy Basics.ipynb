{
 "cells": [
  {
   "cell_type": "markdown",
   "metadata": {},
   "source": [
    "# Introduction\n",
    "\n",
    "The lab section of Math 218 will give you experience using computational tools to work with linear algebra,\n",
    "strengthening concepts from class as well as providing applications that go well beyond class material.  \n",
    "\n",
    "Our main tool for computation will be the Python programming language with the NumPy (Numerical Python) library. We will use the Jupyter environment. In fact, you are already running a Jupyter notebook right now. Python is built into Jupyter. \n",
    "\n",
    "In this lab, we will give an introduction to array processing in NumPy. You will learn about creating, manipulating, and slicing arrays (and what that last term means). This lab is foundational for all future work, and will provide a place of reference for much of what we do later. Later in the semester, if you forget how to do some basic array operations, refer back to this lab!\n",
    "\n",
    "To start, make a copy of this notebook (File menu -> Make a Copy...)\n",
    "\n",
    "**You will need to do this every time, as these master notebooks may be overwritten!**\n",
    "\n",
    "Then, type in the following command in the code box below to import the Numpy library.\n",
    "\n",
    "```python\n",
    "import numpy as np\n",
    "```\n",
    "\n",
    "Press ctrl-enter to run your commands.\n",
    "\n",
    "**Throughout this course, this is going to be the first command you type into Jupyter, as all our work will always use the NumPy library.**"
   ]
  },
  {
   "cell_type": "code",
   "execution_count": 1,
   "metadata": {},
   "outputs": [],
   "source": [
    "import numpy as np"
   ]
  },
  {
   "cell_type": "markdown",
   "metadata": {},
   "source": [
    "## NumPy Arrays\n",
    "\n",
    "An *array* is simply a line or rectangle of numbers (NumPy also supports higher dimensional arrays, but we will rarely use such objects). Lines of numbers are *one-dimensional* arrays, and rectangles of numbers are *two-dimensional* arrays. In class, we will refer to these as *vectors* and *matrices*, but let's stay simple for now.\n",
    "\n",
    "### Creating Arrays by Hand\n",
    "\n",
    "We will use the following two 1-D arrays and two 2-D arrays to start with: \n",
    "\n",
    "$$v=\\begin{bmatrix}5\\\\ 3 \\\\ -2\\end{bmatrix}\n",
    "\\mbox{, }\n",
    "w=\\begin{bmatrix}1\\\\ 5 \\\\ -1\\end{bmatrix}\n",
    "\\mbox{, }\n",
    "A=\\begin{bmatrix}\n",
    "1 & 2 & 3 \\\\\n",
    "4 & 5 & 6 \\\\\n",
    "7 & 8 & 9\n",
    "\\end{bmatrix}\n",
    "\\mbox{, and }\n",
    " B=\\begin{bmatrix}\n",
    "3 & 1 & 1 \\\\\n",
    "2 & 2 & 4 \\\\\n",
    "5 & 7 & 1\n",
    "\\end{bmatrix}$$\n",
    "\n",
    "Use the following code to enter a 1-D array:\n",
    "\n",
    "```python\n",
    "v = np.array([5,3,-2])\n",
    "```\n",
    "\n",
    "2-D arrays are entered row-by-row:\n",
    "```python\n",
    "A = np.array([[1,2,3],[4,5,6],[7,8,9]])\n",
    "```\n",
    "\n",
    "**Question 1** Initialize these and the remaining arrays in the code box below. Check your work by using the `print()` command to output variables (e.g. `print(A)`)."
   ]
  },
  {
   "cell_type": "code",
   "execution_count": 10,
   "metadata": {},
   "outputs": [
    {
     "name": "stdout",
     "output_type": "stream",
     "text": [
      "[[ 5]\n",
      " [ 3]\n",
      " [-2]]\n",
      "[[ 1]\n",
      " [ 5]\n",
      " [-1]]\n",
      "[[1 2 3]\n",
      " [4 5 6]\n",
      " [7 8 9]]\n",
      "[[3 1 1]\n",
      " [2 2 4]\n",
      " [5 7 1]]\n"
     ]
    }
   ],
   "source": [
    "v = np.array([[5],[3],[-2]])\n",
    "w = np.array([[1],[5],[-1]])\n",
    "A = np.array([[1,2,3,],[4,5,6],[7,8,9]])\n",
    "B = np.array([[3,1,1],[2,2,4],[5,7,1]])\n",
    "\n",
    "print(v)\n",
    "print(w)\n",
    "print(A)\n",
    "print(B)"
   ]
  },
  {
   "cell_type": "markdown",
   "metadata": {},
   "source": [
    "### Adding and Subtracting Arrays, and Scalar Multiples\n",
    "\n",
    "Two arrays can be added (or subtracted) if they are the same size. An array can also be multiplied by a scalar (a number)\n",
    "\n",
    "**Question 2** Print the following arrays: *v+w*, *w-v*, and *A+B*. Also print *2v* and *-3(A-B)*. Check your answers by hand."
   ]
  },
  {
   "cell_type": "code",
   "execution_count": 16,
   "metadata": {},
   "outputs": [
    {
     "name": "stdout",
     "output_type": "stream",
     "text": [
      "[[ 6]\n",
      " [ 8]\n",
      " [-3]]\n",
      "[[-4]\n",
      " [ 2]\n",
      " [ 1]]\n",
      "[[ 4  3  4]\n",
      " [ 6  7 10]\n",
      " [12 15 10]]\n",
      "[[10]\n",
      " [ 6]\n",
      " [-4]]\n",
      "[[  6  -3  -6]\n",
      " [ -6  -9  -6]\n",
      " [ -6  -3 -24]]\n"
     ]
    }
   ],
   "source": [
    "print(v+w)\n",
    "print(w-v)\n",
    "print(A+B)\n",
    "print(2*v)\n",
    "print(-3*(A-B))"
   ]
  },
  {
   "cell_type": "markdown",
   "metadata": {},
   "source": [
    "### Accessing Arrays\n",
    "\n",
    "NumPy indexes arrays from zero. That is, we access the first element of a one-dimensional array using code like `v[0]`, the second element with `v[1]`, etc. We can access the *last* element of a 1-D array using `v[-1]`, the second to last as `v[-2]` and so on. Elements of two-dimensional arrays are accessed using code like `A[1,2]`. \n",
    "\n",
    "**Question 3** Print the third element of *w* and the element in the second row, first column of *B-A*. Also print the second element of *cv*, where *c* is the element in the third row, first column of *A*. Check your answers by hand."
   ]
  },
  {
   "cell_type": "code",
   "execution_count": 25,
   "metadata": {},
   "outputs": [
    {
     "name": "stdout",
     "output_type": "stream",
     "text": [
      "[-1]\n",
      "[[1 2 3]\n",
      " [4 5 6]\n",
      " [7 8 9]]\n",
      "-2\n",
      "[[ 35]\n",
      " [ 21]\n",
      " [-14]]\n"
     ]
    }
   ],
   "source": [
    "print(w[2]) #doing print(w[-1]) will choose the last element\n",
    "X = B-A\n",
    "print(A)\n",
    "print(X[1][0])\n",
    "c = A[2][0]\n",
    "print(c*v)"
   ]
  },
  {
   "cell_type": "markdown",
   "metadata": {},
   "source": [
    "### Accessing Rows and Columns of 2-D Arrays\n",
    "\n",
    "If *A* is a 2-D array, then `A[0]` is the first *row* of *A*. Note that `A[0]` is a 1-D array! The first *column* of *A* is accessed using the command `A[:,0]`. This is our first example of a *slice* of an array. Slicing is done using the colon (`:`) operator. We will see more complex slices soon.\n",
    "\n",
    "**Question 4** Print the sum of the first row of *A* and twice the second column of *B*. Suppose you didn't know the size of an array, how would you access its second-to-last column? Check that this gives the same answer, and check by hand."
   ]
  },
  {
   "cell_type": "code",
   "execution_count": 29,
   "metadata": {},
   "outputs": [
    {
     "name": "stdout",
     "output_type": "stream",
     "text": [
      "[[1 2 3]\n",
      " [4 5 6]\n",
      " [7 8 9]]\n",
      "[1 4 7]\n",
      "[[1]\n",
      " [4]\n",
      " [7]]\n",
      "[4 5 6]\n"
     ]
    }
   ],
   "source": [
    "print(A)\n",
    "print(A[:,0]) #getting the first column\n",
    "print(A[:,[0]]) #getting the first column as a column vector\n",
    "print(A[1,:]) #getting the second row"
   ]
  },
  {
   "cell_type": "markdown",
   "metadata": {},
   "source": [
    "#### The `:` Operator in General\n",
    "\n",
    "Recall that we access the element in the second row, first column of an array using `A[1,0]`. The reason `A[:,0]` is the *entire* first column is that on its own, `:` means 'all of'. So `A[:,0]` means *in the first column, give me all the rows*.\n",
    "\n",
    "**Question 5** What will `A[0,:]` give you? Test your answer. Why is this syntax unnecessary?"
   ]
  },
  {
   "cell_type": "code",
   "execution_count": 0,
   "metadata": {},
   "outputs": [],
   "source": []
  },
  {
   "cell_type": "markdown",
   "metadata": {},
   "source": [
    "If we want the first two rows of *A*, we can use the command `A[:2]`. Note that this outputs the rows 0 and 1. That is, the syntax *does not* include row 2!\n",
    "\n",
    "**Question 6** Print the first two rows of *A* and the first two *columns* of *B*. Can you take the sum of these two arrays? Explain."
   ]
  },
  {
   "cell_type": "code",
   "execution_count": 0,
   "metadata": {},
   "outputs": [],
   "source": []
  },
  {
   "cell_type": "code",
   "execution_count": null,
   "metadata": {
    "collapsed": true
   },
   "outputs": [],
   "source": []
  },
  {
   "cell_type": "markdown",
   "metadata": {},
   "source": [
    "If we want an array composed of all but the first row of *A*, we can use the syntax `A[1:]`. Note that, in contrast to the last bit of slicing we did, this command *does* include row 1. It only excludes row 0.\n",
    "\n",
    "If we have a $4\\times 4$ array *C*, and we want the array composed the second and third rows of *C*, we can use the syntax `C[1:3]`. Note that NumPy *includes* the lower bound and *excludes* the upper bound.\n",
    "\n",
    "**Question 7** Create a $5\\times 5$ array $A$ composed of the first 25 integers using the command `np.arange(25).reshape((5,5))` (more on this later). Write a command that prints out the central $3\\times 3$ array."
   ]
  },
  {
   "cell_type": "code",
   "execution_count": 47,
   "metadata": {},
   "outputs": [
    {
     "name": "stdout",
     "output_type": "stream",
     "text": [
      "[[ 1  2  3  4  5]\n",
      " [ 6  7  8  9 10]\n",
      " [11 12 13 14 15]\n",
      " [16 17 18 19 20]\n",
      " [21 22 23 24 25]]\n",
      "[[19 20]\n",
      " [24 25]]\n"
     ]
    }
   ],
   "source": [
    "A = np.arange(1,26).reshape((5,5)) #python commands are always inclusive of the start, exclusive of end\n",
    "print(A)\n",
    "B = A\n",
    "print(B[-2:,-2:])"
   ]
  },
  {
   "cell_type": "markdown",
   "metadata": {},
   "source": [
    "**Question 8** Suppose you don't know the size of an array. Write a command that prints the $2\\times 3$ section in it bottom left-hand corner. Test your command out on the array from the previous question. (Hint: Look back at negative indices!)"
   ]
  },
  {
   "cell_type": "code",
   "execution_count": 0,
   "metadata": {},
   "outputs": [],
   "source": []
  },
  {
   "cell_type": "markdown",
   "metadata": {},
   "source": [
    "### Logical Indexing\n",
    "\n",
    "In addition to accessing known slices of arrays, NumPy also allows extraction of elements using logical conditions. For example, you may want to extract all numbers greater than zero from an array *A*. To do this, use the syntax `A[A>0]`.\n",
    "\n",
    "**Question 9** Try this out on the array *A* from above: write a line of code that returns all elements greater than 7. Is the output a 1-D or 2-D array? Why *must* this simple (relatively simple, that is...see the next question) logical indexing always give 1-D array?"
   ]
  },
  {
   "cell_type": "code",
   "execution_count": 63,
   "metadata": {},
   "outputs": [
    {
     "name": "stdout",
     "output_type": "stream",
     "text": [
      "[[ 1  2  3  4  5]\n",
      " [ 6  7  8  9 10]\n",
      " [11 12 13 14 15]\n",
      " [16 17 18 19 20]\n",
      " [21 22 23 24 25]]\n",
      "[ 8  9 10 11 12 13 14 15 16 17 18 19 20 21 22 23 24 25]\n",
      "[[False False False False False]\n",
      " [False False  True  True  True]\n",
      " [ True  True  True  True  True]\n",
      " [ True  True  True  True  True]\n",
      " [ True  True  True  True  True]]\n",
      "[0 1 2 3 4]\n",
      "[0 1 3]\n"
     ]
    }
   ],
   "source": [
    "A = np.arange(1,26).reshape((5,5))\n",
    "print(A)\n",
    "print(A[A>7])\n",
    "print(A>7)\n",
    "w = np.arange(5)\n",
    "print(w)\n",
    "print(w [[True, True, False, True, False]])\n"
   ]
  },
  {
   "cell_type": "markdown",
   "metadata": {},
   "source": [
    "### Stepping Up the Logic\n",
    "\n",
    "Logical indexing is often the most powerful data extraction tool in the NumPy toolbox. While there are many ways to achieve the data extraction results we want, logical indexing is almost always the fastest, most efficient, and most elegant. This section gives examples. \n",
    "\n",
    "**<span style=\"font-variant:small-caps;\">If everything above seemed elementary, this is the place to start paying deep attention!</span>**\n",
    "\n",
    "Now, suppose we want to return an array consisting of all columns whose sum is an even number. We need a few things:\n",
    "\n",
    "* A command that finds column sums (that is, a list of the sums of each column);\n",
    "* A command that checks if a number if even;\n",
    "* A way to extract only the right columns.\n",
    "\n",
    "#### Column and Row Aggregation\n",
    "\n",
    "To sum up the columns of an array *A*, use the command `A.sum(axis=0)`. Likewise, to sum rows, use `A.sum(axis=1)`. Since NumPy arrays are row-by-row, axis zero enumerates the *rows*. That is, it is the *vertical* axis (this may be a little confusing! Make sure you re-read and understand it!). Position zero along axis zero is is the first row, and so on. Likewise, position zero along axis one is the first column.\n",
    "\n",
    "Aggregation commands, like `sum`, `max`, `min` and so on (A complete list can be found [here](https://jakevdp.github.io/PythonDataScienceHandbook/02.04-computation-on-arrays-aggregates.html), around half way down the page.) are often applied along a given axis. The axis numbers in these commands (zero and one for 2-D arrays) refer to the *axis* that NumPy *collapses*. That is, `A.sum(axis=0)` collapses all the rows together by summing them together, giving a list of sums of each column. It adds *vertically*, along the zero axis. Likewise `A.sum(axis=1)` adds *horizontally*, along the one axis.\n",
    "\n",
    "**Question 10** We saw above that in order to extract columns 1 and 2, we can use syntax like `A[:,1:3]` (or equivalently, `A[:,[1,2]]`). If we use the same syntax, but give an array of logical (boolean) conditions instead of `1:3` or `[1,2]`, we can extract columns according to a condition: \n",
    "* Try `A[:,[True, True, False, True, False]]`. What happens?\n",
    "\n",
    "We check if a number is even by checking if its remainder when divided by two is zero: *a* is even if `a % 2 == 0` returns `True`. \n",
    "\n",
    "* Write a command that returns a logical 1-D array of five elements, with 'True' if the corresponding column sum in *A* is even, and 'False' if it is odd. Don't create this array by hand, but rather, use the ideas above.\n",
    "\n",
    "* Lastly, using all this, write a single line of code that returns only the columns in the array *A* whose sum is even. Test your code on the $5\\times 5$ array above. You want the actual columns, not just the column numbers."
   ]
  },
  {
   "cell_type": "code",
   "execution_count": 65,
   "metadata": {},
   "outputs": [
    {
     "name": "stdout",
     "output_type": "stream",
     "text": [
      "[[ 0  1  2  3  4]\n",
      " [ 5  6  7  8  9]\n",
      " [10 11 12 13 14]\n",
      " [15 16 17 18 19]\n",
      " [20 21 22 23 24]]\n",
      "[50 55 60 65 70]\n",
      "[ 0  5 10 15 20]\n"
     ]
    }
   ],
   "source": [
    "A = np.arange(25).reshape((5,5))\n",
    "print (A)\n",
    "print(A.sum(axis=0)) #axis=0 goes through the columns\n",
    "print(A.min(axis=1)) #axis=1 goes through the rows"
   ]
  },
  {
   "cell_type": "markdown",
   "metadata": {},
   "source": [
    "### Other Ways to Create Arrays\n",
    "\n",
    "#### The `reshape` command\n",
    "\n",
    "As mentioned above, we can take a 1-D array and reshape it as we want. Sometimes it is easier just to enter a long string of number, then shape an array as needed. This is what the *reshape* command does. Suppose we want the following $3\\times 4$ array:\n",
    "\n",
    "$$\\begin{bmatrix} 1 & 2 & 3 & 4 \\\\ 7 & 4 & 3 & 10 \\\\ -2 & 7 & 9 & -1\\end{bmatrix}$$\n",
    "\n",
    "We can use the following Python code:\n",
    "```python\n",
    "C = np.array([1,2,3,4,7,4,3,10,-2,7,9,-1]).reshape(3,4)\n",
    "```\n",
    "\n",
    "If *A* is an array with $mn$ entries in it, the command `A.reshape(m,n)` returns a 2-D array with $m$ rows and $n$ columns. Note that the array *A* may or may not be 1-D. We can also take a 2-D array and reshape it to be 1-D with a command like `A.reshape(n)` or take a 2-D array and reshape it to be a different 2-D array.\n",
    "\n",
    "**Question 11** Create a $3\\times 4$ array with any entries you want in it. Reshape it to be 1-D. What order do the numbers in the reshaped array appear in?"
   ]
  },
  {
   "cell_type": "code",
   "execution_count": 74,
   "metadata": {},
   "outputs": [
    {
     "name": "stdout",
     "output_type": "stream",
     "text": [
      "[[ 1  2  3  4]\n",
      " [ 7  4  3 10]\n",
      " [-2  7  9 -1]]\n",
      "[ 1  2  3  4  7  4  3 10 -2  7  9 -1]\n"
     ]
    }
   ],
   "source": [
    "C = np.array([1,2,3,4,7,4,3,10,-2,7,9,-1]).reshape(3,4)\n",
    "print(C)\n",
    "C=C.reshape(12)\n",
    "print(C)"
   ]
  },
  {
   "cell_type": "markdown",
   "metadata": {},
   "source": [
    "#### Creating Zero and One Arrays\n",
    "\n",
    "The commands `np.zeros((m,n))` and `np.ones((m,n))` create $m\\times n$ arrays filled with zeros and ones respectively. Note the double parentheses! We are passing the *tuple* `(m,n)` to the command as a *shape parameter*. If we replace `(m,n)` with a single number `n`, we get a 1-D array of length *n*.\n",
    "\n",
    "#### Creating Diagonal Arrays\n",
    "\n",
    "If *A* is a 1-D array with *n* entries, the command `np.diag(A)` returns an $n\\times n$ array whose main diagonal (from top-left to bottom-right corners) is *A*. Note that if the same command is called on a 2-D array, it returns the diagonal starting from the top-left corner.\n",
    "\n",
    "### Modifying Arrays\n",
    "\n",
    "Up to now, we have largely extracted data *from* arrays. In this section, we will see how to take existing arrays and modify them.\n",
    "\n",
    "#### Modifying Individual Elements of Arrays\n",
    "\n",
    "The easiest (and often, least efficient) way to modify arrays is element-by-element. This is straightforward: `A[1,2] = 4` changes the number in the second row, third column of the array *A* to be *4*. If you want to add a number to an array element, subtract from it, multiply it, or divide it, use inplace syntax:\n",
    "\n",
    "```python\n",
    "A[1,2] += 2 # Add two\n",
    "A[1,2] -= 2 # Subtract two\n",
    "A[1,2] *= 2 # Multiply by two\n",
    "A[1,2] /= 2 # Divide by two (Caution! See section on floats below)\n",
    "```\n",
    "\n",
    "#### Modifying Whole Rows or Columns\n",
    "There are two important ways to modify rows and columns. Since rows and columns are 1-D arrays, we can add a 1-D array of the same size. For example, if *A* is a $5\\times 4$ array, the following work:\n",
    "```python\n",
    "v = np.array([1,3,4,0])\n",
    "w = np.array([0,2,5,2,4])\n",
    "A[2] += v\n",
    "A[:,1] += w\n",
    "```\n",
    "\n",
    "Note that we can also do element-by-element multiplication and division:\n",
    "```python\n",
    "A[2] *= np.array([1,2,3,4]) # This mutiplies the first element of the row by one, the second by two, etc.\n",
    "```\n",
    "NumPy also supports modifying entire rows or columns at once, for example by adding the same number to all elements in a row:\n",
    "\n",
    "```python\n",
    "A[1] += 2 # This adds two to every element in the second row of v\n",
    "```\n",
    "\n",
    "This is an example of *broadcasting*, which we will examine in a more general case below.\n",
    "\n",
    "#### Modifying More General Slices\n",
    "Similarly to the above, if we have an $m\\times n$ slice of an array, we can either add/subtract/multiply/divide it to/by a single number, or we can add/subtract/multiply/divide its elements to/by an identically shaped array. Also see below for modifying such slices by broadcasting.\n",
    "\n",
    "\n",
    "**Question 12** Starting from a $6\\times 4$ array of ones, carry out the following operations in order:\n",
    "* Insert the number seven in the third row, fourth column;\n",
    "* Add two to every number in the second column;\n",
    "* Subtract three from every number in the fourth row;\n",
    "* Consider the $3\\times 3$ slice whose top-left corner is *A[1,1]* and whose bottom-right corner is *A[3,3]*. Multiply these entries by multiples of two, starting from zero and ending at 16. (Hint: Use the `arange` and `reshape` commands.)\n",
    "* Print out your array, and check your result by hand."
   ]
  },
  {
   "cell_type": "code",
   "execution_count": 89,
   "metadata": {},
   "outputs": [
    {
     "name": "stdout",
     "output_type": "stream",
     "text": [
      "[[ 1]\n",
      " [ 5]\n",
      " [-1]]\n",
      "[[4 0 0]\n",
      " [0 8 0]\n",
      " [0 0 2]]\n",
      "[[ 1  2  3  4]\n",
      " [ 7  4  3 10]\n",
      " [-2  7  9 -1]]\n",
      "[ 2  3 -1]\n"
     ]
    },
    {
     "ename": "TypeError",
     "evalue": "_diag_dispatcher() missing 1 required positional argument: 'v'",
     "output_type": "error",
     "traceback": [
      "\u001b[1;31m---------------------------------------------------------------------------\u001b[0m",
      "\u001b[1;31mTypeError\u001b[0m                                 Traceback (most recent call last)",
      "\u001b[1;32m<ipython-input-89-a328831bb7f6>\u001b[0m in \u001b[0;36m<module>\u001b[1;34m\u001b[0m\n\u001b[0;32m      7\u001b[0m \u001b[0mprint\u001b[0m\u001b[1;33m(\u001b[0m\u001b[0mnp\u001b[0m\u001b[1;33m.\u001b[0m\u001b[0mdiag\u001b[0m\u001b[1;33m(\u001b[0m\u001b[0mC\u001b[0m\u001b[1;33m,\u001b[0m\u001b[1;36m1\u001b[0m\u001b[1;33m)\u001b[0m\u001b[1;33m)\u001b[0m\u001b[1;33m\u001b[0m\u001b[1;33m\u001b[0m\u001b[0m\n\u001b[0;32m      8\u001b[0m \u001b[1;33m\u001b[0m\u001b[0m\n\u001b[1;32m----> 9\u001b[1;33m \u001b[0mnp\u001b[0m\u001b[1;33m.\u001b[0m\u001b[0mdiag\u001b[0m\u001b[1;33m(\u001b[0m\u001b[1;33m)\u001b[0m\u001b[1;33m\u001b[0m\u001b[1;33m\u001b[0m\u001b[0m\n\u001b[0m",
      "\u001b[1;32m<__array_function__ internals>\u001b[0m in \u001b[0;36mdiag\u001b[1;34m(*args, **kwargs)\u001b[0m\n",
      "\u001b[1;31mTypeError\u001b[0m: _diag_dispatcher() missing 1 required positional argument: 'v'"
     ]
    }
   ],
   "source": [
    "w = np.array([[1],[5],[-1]])\n",
    "print(w)\n",
    "A = np.diag((1,5,-1)) + np.diag((3,3,3))\n",
    "print(A)\n",
    "C = np.array([1,2,3,4,7,4,3,10,-2,7,9,-1]).reshape(3,4)\n",
    "print(C)\n",
    "print(np.diag(C,1))\n",
    "\n",
    "np.diag()"
   ]
  },
  {
   "cell_type": "markdown",
   "metadata": {},
   "source": [
    "#### Transposes\n",
    "The *transpose* of an array is the same array, but with rows and columns swapped. We will see throughout 218 that transposes play a very important role in linear algebra, starting with the next lab. For now, though, we can view transposition as a physical modification of an array.\n",
    "\n",
    "If *A* is an $m\\times n$ NumPy array, then its transpose is `A.T`.\n",
    "\n",
    "#### Broadcasting: Adding a Row to all Rows (or a Column to all Columns)\n",
    "If we want to add one to all entries of an 2-D array, we can just use the syntax `A += 1`. Suppose, however, we want to add one to the first column, two to the second, three to the third, and so on. We could write a command for each column, but NumPy lets us do better!\n",
    "\n",
    "**Question 13** \n",
    "* Create a 1-D array *v* that contains the numbers one through ten (use `np.arange()` and add to the result, or take a slice of it). Then create a $5\\times 10$ *A* array all of whose entries are two. Then add the two arrays and examine your output. Explain what happened.\n",
    "* Now try the same with columns. Take that same array *A*. Create a 1-D array *w* with the numbers one through five. Try adding *A* to *w*. \n",
    "* The last operation should failed. Use tranposes (twice) to fix it."
   ]
  },
  {
   "cell_type": "code",
   "execution_count": 0,
   "metadata": {},
   "outputs": [],
   "source": []
  },
  {
   "cell_type": "markdown",
   "metadata": {},
   "source": [
    "**Question 14** Start from a $6\\times 6$ array containing sequential integers from zero to 35. Consider the sub-array whose top left corner is the entry in the second row, first column, and whose bottom right corner is the entry in the fifth row, third column. Multiply each element in this sub-array by ten. Then, by using slices and broadcasting, add the sequence *1, 2, 3* to each row of this slice. Print your answer and check it by hand."
   ]
  },
  {
   "cell_type": "code",
   "execution_count": 0,
   "metadata": {},
   "outputs": [],
   "source": []
  },
  {
   "cell_type": "markdown",
   "metadata": {},
   "source": [
    "## References and Copies\n",
    "\n",
    "Unless it has to, NumPy avoids creating new copies of arrays, passing them *by reference* intsead. This can be very useful at times, but has its pitfalls. We work to understand this here.\n",
    "\n",
    "**Question 15** Declare the array $$A=\\begin{bmatrix}\n",
    "1 & 2 & 3 \\\\\n",
    "4 & 5 & 6 \\\\\n",
    "7 & 8 & 9\n",
    "\\end{bmatrix}$$<br><br>\n",
    "Then, create what appears to be a new array $B$, which is identical to $A$: `B = A`. Change the entry in the second row, second column of $B$ to 10, then print $A$ and $B$."
   ]
  },
  {
   "cell_type": "code",
   "execution_count": 0,
   "metadata": {},
   "outputs": [],
   "source": []
  },
  {
   "cell_type": "markdown",
   "metadata": {},
   "source": [
    "What you saw in the last question also applies to arrays that are *views* into a given array. For example:\n",
    "\n",
    "**Question 16** Create the $5\\times 5$ array *A* containing sequential integers from zero to 24. Declare *B* to be the $3\\times 3$ array in its center. Multiply *B* by ten, then output *A*."
   ]
  },
  {
   "cell_type": "code",
   "execution_count": 0,
   "metadata": {},
   "outputs": [],
   "source": []
  },
  {
   "cell_type": "markdown",
   "metadata": {},
   "source": [
    "To create a copy of *A* or a slice, use the syntax `B = A.copy()`. Slices work similarly. If you don't need to keep a copy of the original array, taking advantage of NumPy's passing by reference leads to highly efficient code!\n",
    "\n",
    "## Integers and Floats: The Biggest Headache in 218L\n",
    "\n",
    "By default, NumPy arrays contain integers. Sometimes, that is what we want, but it often leads to problematic results. The following question shows a couple of examples:\n",
    "\n",
    "**Question 17** \n",
    "* Declare the same $5\\times 5$ array *A* as in the previous question. Try to multiply its first row by 1.5 in two ways:\n",
    "  * First, try `A[0] *= 1.5`;\n",
    "  * When you see that fails, try `A[0] = 1.5 * A[0]`, then print *A*. What happened?\n",
    "* With the same array, try dividing it by two using both methods. Comment on your results."
   ]
  },
  {
   "cell_type": "code",
   "execution_count": 0,
   "metadata": {},
   "outputs": [],
   "source": []
  },
  {
   "cell_type": "markdown",
   "metadata": {},
   "source": [
    "It is almost always better to use the inline method (`A[0] *= 1.5`, etc) so that code gives an error explicitly. Using the second method is both more typing and will silently give unexpected results, as we saw above.\n",
    "\n",
    "If you know ahead of time that you will need floating point numbers, you can declare an array to be floating point: \n",
    "```python \n",
    "A = np.arange(25,dtype='float').reshape(5,5)```\n",
    "\n",
    "You can also convert an existing array to be floating point:\n",
    "```python\n",
    "A = A.astype(float)\n",
    "```\n",
    "Lastly, if you are explicitly entering an array, adding a decimal point to any entry will make it a float:\n",
    "```python\n",
    "A = np.array([1,2,3])  # This is an integer array\n",
    "B = np.array([1.,2,3]) # This is a float array\n",
    "```"
   ]
  },
  {
   "cell_type": "code",
   "execution_count": 0,
   "metadata": {},
   "outputs": [],
   "source": []
  }
 ],
 "metadata": {
  "kernelspec": {
   "display_name": "Python 3",
   "language": "python",
   "name": "python3"
  },
  "language_info": {
   "codemirror_mode": {
    "name": "ipython",
    "version": 3
   },
   "file_extension": ".py",
   "mimetype": "text/x-python",
   "name": "python",
   "nbconvert_exporter": "python",
   "pygments_lexer": "ipython3",
   "version": "3.8.8"
  }
 },
 "nbformat": 4,
 "nbformat_minor": 2
}

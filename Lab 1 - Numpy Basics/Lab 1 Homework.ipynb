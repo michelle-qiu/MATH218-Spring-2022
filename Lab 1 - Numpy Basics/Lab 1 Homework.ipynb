{
 "cells": [
  {
   "cell_type": "markdown",
   "metadata": {},
   "source": [
    "# Homework Policy\n",
    "\n",
    "Homework in this class will largely constitute answers written into Jupyter notebooks, like this one. You will be expected to hand in homework assignments with your partner. All homework must be done with a partner - individual assignments will not be accepted. The name of the homework notebook submitted should contain the names of all students who worked on it.\n",
    "\n",
    "You may work on homework with others in the class, but are expected to hand in your own work. Specifically, any submitted code and text must be your own, written by you and your partner.  Copying and modifying code found either online or from a colleague will constitute plagiarism and will be treated as such.\n",
    "\n",
    "To submit homework, use Sakai. Each assignment will have a space for submission under the Assignments section of the Sakai site for this class. You may submit a Jupyter workbook and any additional materials required. To download a copy of this notebook, use **File menu -> Download as -> Notebook (.ipynb)** after renaming this worksheet.  All files submitted should be named with all partners' names. Each assignment will have a deadline. Late work will not be accepted without explicit permission from your instructor.\n",
    "\n",
    "All your text should be in Markdown (see a reference [here](https://github.com/adam-p/markdown-here/wiki/Markdown-Cheatsheet)). Mathematical notation should be typeset in LaTeX. If you double click on this box, you can see how to typeset 1-D arrays. By double clicking in various boxes in the lab, you can see how to typeset 2-D arrays and other useful notation. You should research basic LaTeX as needed online, or ask your teacher or TA. We'll be more than glad to help! \n",
    "\n",
    "You may insert as many code and text boxes as you need in these homework sheets.\n",
    "\n",
    "All your code should be clearly commented, including references to the question you are answering. If your instructor needs to dig through the questions and your answers to understand what you are doing, your grade will be lower. All your code should be executable by your instructor. If a block of code gives errors, your grade will be lowered. Variables with meaning should have sensible names.\n",
    "\n",
    "You will get a letter grade and brief comments on each of your assignments. In general, your grade and comments will be identical to your partners'. This class will not have a final or tests. Your grade will be based on homework. The class is not curved: you will be graded on your own work, not in comparison to others.\n",
    "\n",
    "> ## Make a copy of this notebook (File menu -> Make a Copy...)\n",
    "\n",
    "### Homework Question 1\n",
    "Write code to do the following:\n",
    "1. Create the 1-D arrays $v=\\begin{bmatrix} 4 & 4 & 8 & 10 & -2 & -7\\end{bmatrix}$, $w=\\begin{bmatrix} 5 & -10 & 3 & 9 & -1 & 12\\end{bmatrix}$, and $r=\\begin{bmatrix} 1 & -2 & 3 & -5 & 7 & -11\\end{bmatrix}$;\n",
    "1. Create $6\\times6$ arrays $A$ and $B$ with $v$ and $w$ on their respective diagonals.\n",
    "1. Multiply the two arrays pointwise to get a matrix $C$.\n",
    "1. Insert $r$ into the third row of $C$;\n",
    "1. Insert $v$ into the fourth column of $C$;\n",
    "1. Add the second row of $C$ to its fifth row;\n",
    "1. Divide the array whose top-left corner is the entry in the second row, third column, and whose bottom-right corner is the entry in the fourth row, fifth column of $C$ by 1.5.\n",
    "\n",
    "Print your final array."
   ]
  },
  {
   "cell_type": "code",
   "execution_count": 148,
   "metadata": {},
   "outputs": [
    {
     "name": "stdout",
     "output_type": "stream",
     "text": [
      "[[ 20   0   0   4   0   0]\n",
      " [  0 -40   0   4   0   0]\n",
      " [  1  -2   3   8   7 -11]\n",
      " [  0   0   0  10   0   0]\n",
      " [  0 -40   0   2   2   0]\n",
      " [  0   0   0  -7   0 -84]]\n",
      "[0.         5.33333333 0.        ]\n"
     ]
    }
   ],
   "source": [
    "import numpy as np;\n",
    "v = [4,4,8,10,-2,-7]\n",
    "w = [5,-10,3,9,-1,12]\n",
    "r = [1,-2,3,-5,7,-11]\n",
    "\n",
    "A = np.diag(v)\n",
    "B = np.diag(w)\n",
    "\n",
    "C = A*B\n",
    "\n",
    "C[2] = r\n",
    "\n",
    "C[:,3] = v\n",
    "\n",
    "C[4] = C[4] + C[1]\n",
    "\n",
    "D = (np.diag(C,1)[1:4]) / 1.5\n",
    "print(C)\n",
    "print(D)\n"
   ]
  },
  {
   "cell_type": "markdown",
   "metadata": {},
   "source": [
    "Later in the semester, we will need to do some array manipulation and data extraction in specific ways. The following questions will give you a chance to practice the techniques we will need.\n",
    "\n",
    "### Homework Question 2: Extracting Non-zero Columns\n",
    "\n",
    "Given a large array *A* of non-negative numbers, write code to return two arrays from it:\n",
    "1. The 1-D array listing the column indices of all columns of *A* whose sum is non-zero;\n",
    "2. The sub-array of *A* called *nonzerocols* consisting only of columns of *A* whose sum is non-zero.\n",
    "\n",
    "Your code should use ideas from lab, and should contain no loops. It maybe be useful for you to read the documentation of the `np.nonzero()` command (Careful! This command returns a tuple. Read the documentation carefully). Use the following command to load an array and use it to test your code: `A = np.load('./data/hw1array.npy')`.\n",
    "\n",
    "Print the following:\n",
    "* The array of non-zero column indices from the matrix *A* above (the output from the code you wrote in 1. above).\n",
    "* The array of average values of columns of *nonzerocols* for the same array."
   ]
  },
  {
   "cell_type": "code",
   "execution_count": 147,
   "metadata": {},
   "outputs": [
    {
     "name": "stdout",
     "output_type": "stream",
     "text": [
      "(array([0, 1, 2, 3, 5], dtype=int64),)\n",
      "[[ 4.5 -3.   5.5  9.5  2.5]]\n"
     ]
    }
   ],
   "source": [
    "#A = np.load('./data/hw1array.npy')\n",
    "A = np.array([[4,4,8,10,0,-7], [5,-10,3,9,0,12]])\n",
    "D = A.sum(axis=0)\n",
    "nozero = np.nonzero(D)\n",
    "#print(D)\n",
    "print(nozero)\n",
    "\n",
    "#array[:, [i, j]] helps you get the columns for the array of indices we have.\n",
    "cols = A[:,nozero]\n",
    "print(np.average(cols, axis=0))"
   ]
  },
  {
   "cell_type": "markdown",
   "metadata": {},
   "source": [
    "### Homework Question 3: Inserting a Column\n",
    "\n",
    "Given an array, write code to insert a new given column at the end of it. Your code should *not* use the `np.concatenate()` command. Rather, it should create a new array of the correct size, and insert the given array and column into it in the right places. Note that the code `rows,cols = A.shape` assigns the number of rows and columns of *A* to the *rows* and *cols* variables respectively.\n",
    "\n",
    "Show a test of your code on a $4\\times 5$ array."
   ]
  },
  {
   "cell_type": "code",
   "execution_count": 146,
   "metadata": {},
   "outputs": [
    {
     "name": "stdout",
     "output_type": "stream",
     "text": [
      "[[ 1  2  3  4  5]\n",
      " [ 6  7  8  9 10]\n",
      " [11 12 13 14 15]\n",
      " [16 17 18 19 20]]\n",
      "[[ 1.  2.  3.  3.  4.  5.]\n",
      " [ 6.  7.  6.  8.  9. 10.]\n",
      " [11. 12.  9. 13. 14. 15.]\n",
      " [16. 17. 12. 18. 19. 20.]]\n"
     ]
    }
   ],
   "source": [
    "A = np.arange(1,21).reshape(4,5)\n",
    "test = np.array([[3],[6],[9],[12]])\n",
    "num = 2\n",
    "print(A)\n",
    "rows, cols = A.shape\n",
    "\n",
    "B = np.zeros((rows, cols+1))\n",
    "B[:,:num]= A[:,:num]\n",
    "B[:,num] = test[:,0]\n",
    "rest = cols - num +1\n",
    "B[:,(num+1):] = A[:,num:]\n",
    "print(B)"
   ]
  },
  {
   "cell_type": "markdown",
   "metadata": {},
   "source": [
    "### Homework Question 4: A Random Sample of Columns\n",
    "Given an $m\\times n$ array and an integer $r<n$, write code to return a random sample of *r* out of the *n* columns. Your code should return both the list of column indices chosen and the columns themselves.  You should read the [documention for the `np.random` module](https://docs.scipy.org/doc/numpy/reference/routines.random.html) to find commands that help you.\n",
    "\n",
    "Use the code `A = np.random.randint(10,size=(10,20))` to generate a random $10\\times 20$ array of integers less than 10 to test your code."
   ]
  },
  {
   "cell_type": "code",
   "execution_count": 142,
   "metadata": {},
   "outputs": [
    {
     "name": "stdout",
     "output_type": "stream",
     "text": [
      "[[9 4 7 2 9 7 0 4 2 3 9 9 9 2 7 1 7 6 0 2]\n",
      " [0 9 8 1 0 7 1 0 0 2 3 2 1 4 5 8 2 0 8 1]\n",
      " [9 4 4 8 2 4 1 7 2 9 8 6 2 3 8 3 8 7 0 3]\n",
      " [2 8 6 7 6 1 2 2 6 8 7 2 2 5 2 7 3 3 9 7]\n",
      " [2 2 9 1 0 1 4 7 9 6 7 1 8 8 6 6 7 0 6 1]\n",
      " [5 3 2 0 7 3 5 1 9 2 7 0 3 4 6 5 2 1 2 0]\n",
      " [8 2 1 6 3 1 8 9 0 2 4 0 9 8 2 4 6 1 2 8]\n",
      " [2 0 4 7 0 9 1 2 4 6 9 3 6 0 4 6 0 1 0 8]\n",
      " [0 6 1 7 2 7 8 7 8 7 2 7 5 0 7 3 8 1 8 7]\n",
      " [4 2 8 8 2 9 1 6 2 3 0 8 7 7 0 3 6 3 6 4]]\n",
      "[ 8 13  7  5  9  1]\n",
      "[[2 2 4 7 3 4]\n",
      " [0 4 0 7 2 9]\n",
      " [2 3 7 4 9 4]\n",
      " [6 5 2 1 8 8]\n",
      " [9 8 7 1 6 2]\n",
      " [9 4 1 3 2 3]\n",
      " [0 8 9 1 2 2]\n",
      " [4 0 2 9 6 0]\n",
      " [8 0 7 7 7 6]\n",
      " [2 7 6 9 3 2]]\n"
     ]
    }
   ],
   "source": [
    "A = np.random.randint(10,size=(10,20))\n",
    "print(A)\n",
    "cols = A.shape[1]\n",
    "randnum = np.random.randint(cols)\n",
    "rand = np.random.randint(cols, size = (randnum))\n",
    "print(rand)\n",
    "print(A[:,rand])"
   ]
  }
 ],
 "metadata": {
  "kernelspec": {
   "display_name": "Python 3",
   "language": "python",
   "name": "python3"
  },
  "language_info": {
   "codemirror_mode": {
    "name": "ipython",
    "version": 3
   },
   "file_extension": ".py",
   "mimetype": "text/x-python",
   "name": "python",
   "nbconvert_exporter": "python",
   "pygments_lexer": "ipython3",
   "version": "3.8.8"
  }
 },
 "nbformat": 4,
 "nbformat_minor": 2
}

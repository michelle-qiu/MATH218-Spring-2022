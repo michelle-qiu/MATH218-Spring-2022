{
 "cells": [
  {
   "cell_type": "markdown",
   "metadata": {},
   "source": [
    "> ## Make a copy of this notebook (File menu -> Make a Copy...)\n",
    "\n",
    "### Homework Question 1\n",
    "\n",
    "By giving examples, explain all meanings of the `@` operator we covered in lab. You may use the examples from the lab. You should include both code and text explanation."
   ]
  },
  {
   "cell_type": "code",
   "execution_count": 19,
   "metadata": {},
   "outputs": [
    {
     "name": "stdout",
     "output_type": "stream",
     "text": [
      "[5]\n",
      "[30 36 42]\n",
      "[[ 5]\n",
      " [23]\n",
      " [41]]\n",
      "[[22 26 12]\n",
      " [52 56 30]\n",
      " [82 86 48]]\n",
      "[ 5 23 41]\n",
      "[[ 5]\n",
      " [23]\n",
      " [41]]\n"
     ]
    }
   ],
   "source": [
    "import numpy as np\n",
    "v = np.array([[5],[3],[-2]])\n",
    "x = np.array([1,2,3])\n",
    "\n",
    "A = np.arange(1,10).reshape((3,3))\n",
    "B = np.array([[3,1,1],[2,2,4],[5,7,1]]) \n",
    "#print(A)\n",
    "#print(v)\n",
    "print(x@v)\n",
    "print(x@A)\n",
    "print(A@v)\n",
    "print(A@B)\n",
    "print(5*A[:,0]+3*A[:,1]-2*A[:,2])\n",
    "print(np.array([A[0]@v,A[1]@v,A[2]@v]))"
   ]
  },
  {
   "cell_type": "markdown",
   "metadata": {},
   "source": [
    "The first printed statement demonstrates what happens with a dot product between a row vector and a column vector; this results in a single value because the multiplication of vectors with $1\\times 3$ and $3\\times 1$ dimensions respectively will create a matrix of size $1\\times 1$. The second statement shows how the dot product between a $1\\times 3$ row vector and a $3\\times 3$ matrix prints out a row vector of dimensions $1\\times 3$. The third statement shows the dot product between a $3\\times 3$ matrix and a $3\\times 1$ column vector, and how it creates a column vector of dimensions $1\\times 3$. The fourth statement demonstrates the dot product between two $3\\times 3$ matrices that results in another $3\\times 3$ matrix. The fifth statement  is essentially creating a row vector by multiplying each column in $A$ by every value in column vector $v$ and summing these columns together to create a single row vector. Finally, the sixth statement basically does the same thing as the third statement; it takes every row of $A$ and makes the dot product between these rows and column vector $v$ each value in the final column vector."
   ]
  },
  {
   "cell_type": "markdown",
   "metadata": {},
   "source": [
    "### Homework Question 2\n",
    "\n",
    "Explain how Questions 3 and 6 from the lab demonstrate the *column* and *row* pictures of matrix multiplication respectively. Be sure to use the terms *dot product* and *linear combination* in your answer. Again, use both text and code."
   ]
  },
  {
   "cell_type": "code",
   "execution_count": 25,
   "metadata": {},
   "outputs": [
    {
     "name": "stdout",
     "output_type": "stream",
     "text": [
      "[[1 2 3]\n",
      " [4 5 6]\n",
      " [7 8 9]]\n",
      "[[3 1 1]\n",
      " [2 2 4]\n",
      " [5 7 1]]\n",
      "[[22 26 12]\n",
      " [52 56 30]\n",
      " [82 86 48]]\n",
      "[[22 26 12]\n",
      " [52 56 30]\n",
      " [82 86 48]]\n",
      "[[22 26 12]\n",
      " [52 56 30]\n",
      " [82 86 48]]\n",
      "30\n"
     ]
    }
   ],
   "source": [
    "print(A)\n",
    "print(B)\n",
    "print(A@B)\n",
    "print(np.array([A@B[:,0], A@B[:,1], A@B[:,2]]).T)\n",
    "\n",
    "c1 = B[0,0]*A[:,0] + B[1,0]*A[:,1] + B[2,0]*A[:,2]\n",
    "c2 = B[0,1]*A[:,0] + B[1,1]*A[:,1] + B[2,1]*A[:,2]\n",
    "c3 = B[0,2]*A[:,0] + B[1,2]*A[:,1] + B[2,2]*A[:,2]\n",
    "print(np.array([ c1,c2,c3 ]).T)\n",
    "\n",
    "print((A[1]@B[:,2]))"
   ]
  },
  {
   "cell_type": "markdown",
   "metadata": {},
   "source": [
    "Each of the first three print statements demonstrate how to take the dot product between matrices $A$ and $B$. The first print statement is the simplest way to get the dot product of these matrices by directly multiplying them. The second print statement demonstrates how we can compute the dot product between $A$ and each individual column of $B$ in order to get a matrix whose rows are the columns of the dot product of $A$ and $B$. By transposing this matrix, we receive the same result as the first print statement because swapping the $(i,j)$ value for the $(j,i)$ value essentially just makes each row into a column and vice versa. Similarly, the third print statement demonstrates the exact same idea, except it explicitly states the process for finding each value of the resulting matrix, by multiplying individual values in $B$ by each column in $A$ (making the final matrix a linear combination using values in matrix $B$ as the weights multiplied against matrix $A$). The final print statement shows how we can extract a single value from a matrix; if we want to retrieve the second row, third column, we can compute a dot product using the second row of $A$ and the third column of $B$ to find this value."
   ]
  },
  {
   "cell_type": "markdown",
   "metadata": {},
   "source": [
    "### Homework Question 3\n",
    "\n",
    "Submit your answers to Question 10 from the lab. You should typeset all matrices in LaTeX as part of your text below. Be sure to write complete sentences and full explanations."
   ]
  },
  {
   "cell_type": "markdown",
   "metadata": {},
   "source": [
    "\\begin{bmatrix}\n",
    "1 & 0 & 0\\\\\n",
    "0 & 1 & 1\\\\\n",
    "0 & 1 & 0\\\\\n",
    "1&0&1\\\\\n",
    "1&1&1\\\\\n",
    "1&1&0\\\\\n",
    "0&0&1\\\\\n",
    "1&0&1\\\\\n",
    "\\end{bmatrix}\t\n",
    "* 2) $A^T \\times A$  \n",
    "* 2a) The size of this matrix is $3\\times3$\t\n",
    "* 2b) Rows and columns represent the different organizations.\n",
    "* 2c) N/A\n",
    "* 2d) The ith value on the diagonal tells us the amount of people who are in that organization. In order to compute this entry, we essentially just tallied up the numbers for each column (representing each organization)\n",
    "* 2e) if $i$ is not equal to $j$, then $(i,j)$ represents the the amount of people who are in both the $ith$ and the $jth$ organization. This makes sense because when we compute the dot product between $A^T$ and $A$ and do this on $A^T$'s ith row and $A$'s jth column, we are only going to get non zero values within each row/column when both corresponding values in the row and column are equal to one, meaning that they are both in that organization. Thus, this represents the sum of all people in both organizations.\n",
    "* 2f) $(i,j)$ and $(j,i)$ are the same because they represent the same two organizations, just in opposite order.\n",
    "* 5a) The significance of nonzero nondiagonal entries $(i,j)$ represent the amount of organizations that the $ith$ row person shares with the $jth$ column person.\n",
    "* 5b) Compute the number for each of the 8 people:\n",
    "\\begin{bmatrix}\n",
    "4&6&3&6&7&6&4&6\\\\\n",
    "\\end{bmatrix}"
   ]
  },
  {
   "cell_type": "markdown",
   "metadata": {},
   "source": [
    "### Homework Question 4\n",
    "\n",
    "Other than Paul Revere, pick one of the central actors identified at the end of the lab. Do some research on that person and submit a paragraph describing them and their role in the Revolutionary War. Submit this in the last textbox below, again using Markdown to format your answers. Be sure to cite your sources!"
   ]
  },
  {
   "cell_type": "markdown",
   "metadata": {},
   "source": [
    "I selected William Molineux and analyzed his role in the Revolutionary War. Although he was clearly one of the war's most prominent participants, with 154 connections within the network of rebels, he was not nearly as recognizable as some of the other members on this list. Upon doing some research, I found that the reason for this was that he had actually died before the Revolutionary War had even begun. Due to this, as well as his revolutionary ideas that were considered radical for the time by some of his colleagues, he is largely unmentioned for his contributions in history. However, by leading boycotts and large demonstrations against the Townshend Acts, and even by becoming one of the organizers of the Boston Tea Party, he certainly did not play an insignificant role in the rising tension between Great Britain and the American colonies that spilled over into war.\n",
    "\n",
    "Sources:$\\newline$\n",
    "https://en.wikipedia.org/wiki/William_Molineux $\\newline$\n",
    "https://www.nps.gov/articles/000/william-molineux.htm"
   ]
  },
  {
   "cell_type": "markdown",
   "metadata": {},
   "source": [
    "### Homework Question 5\n",
    "\n",
    "Explain what the following code does, then rewrite it in a more NumPy-ish way. See Lab 1 for hints! You should be able to get the same result with one line of code! Test your code by taking any $4\\times 5$ matrix and checking that your code and this routine give the same answer on it.\n",
    "\n",
    "```python\n",
    "def addrows(A):\n",
    "    rows,cols = A.shape\n",
    "    \n",
    "    rowsum = np.zeros(rows)\n",
    "    \n",
    "    for row in range(rows):\n",
    "        for col in range(cols):\n",
    "            rowsum[row] += A[row,col]\n",
    "    \n",
    "    return rowsum\n",
    "```"
   ]
  },
  {
   "cell_type": "markdown",
   "metadata": {},
   "source": [
    "This code basically just takes the sum of all the rows and places these values into a row vector."
   ]
  },
  {
   "cell_type": "code",
   "execution_count": 26,
   "metadata": {},
   "outputs": [
    {
     "name": "stdout",
     "output_type": "stream",
     "text": [
      "[[3 1 1 3]\n",
      " [2 2 4 5]\n",
      " [5 7 1 2]]\n",
      "[ 8 13 15]\n"
     ]
    }
   ],
   "source": [
    "test = np.array([[3,1,1,3],[2,2,4,5],[5,7,1,2]])                          \n",
    "#def addrows(A):\n",
    "#    rows,cols = A.shape\n",
    "#\n",
    "#    rowsum = np.zeros(rows)\n",
    "#\n",
    "#    for row in range(rows):\n",
    "#        for col in range(cols):\n",
    "#            rowsum[row] += A[row,col]\n",
    "#\n",
    "#    return rowsum\n",
    "def addrows(A):\n",
    "    return(A.sum(axis=1))\n",
    "\n",
    "print(test)\n",
    "print(addrows(test))"
   ]
  },
  {
   "cell_type": "markdown",
   "metadata": {},
   "source": [
    "### Homework Question 6\n",
    "\n",
    "Write routines that take a matrix and return results as follows. It is also perfectly fine (perhaps better!) to give single lines of code that achieve the same result instead of routines. This is possible with all these, but much easier for second and third than the first.\n",
    "\n",
    "* *swaprows(A,i,j)* should take an array and return the same array, but with rows *i* and *j* swapped.\n",
    "* *rowmult(A,i,c)* should take an array, a row number *i* and a constant *c*, and return the same array, but with row *i* multiplied by *c*.\n",
    "* *rowaddmult(A,i,j,c)* should take an array, row numbers *i* and *j*, and a constant *c*, and return the same array, but with *c* multiplied by row *i* added to row *j*.\n",
    "\n",
    "As always, show examples of your code. Use a $4\\times 5$ array of your choice.\n",
    "\n",
    "> **Note:** We will use these routines/lines of code extensively in the coming labs. Get them right!"
   ]
  },
  {
   "cell_type": "code",
   "execution_count": 4,
   "metadata": {},
   "outputs": [
    {
     "name": "stdout",
     "output_type": "stream",
     "text": [
      "[[3 1 1 3]\n",
      " [2 2 4 5]\n",
      " [5 7 1 2]]\n",
      "[[3 1 1 3]\n",
      " [5 7 1 2]\n",
      " [2 2 4 5]]\n",
      "[[ 3  1  1  3]\n",
      " [ 5  7  1  2]\n",
      " [ 8  8 16 20]]\n"
     ]
    }
   ],
   "source": [
    "def swaprows(A,i,j):\n",
    "    A[[i, j],:] = A[[j, i],:] \n",
    "def rowmult(A,i,c):\n",
    "    A[i] = A[i]*c\n",
    "def rowaddmult(A,i,j,c):\n",
    "    A[j] = A[i]*c + A[j]\n",
    "    \n",
    "A = np.array([[3,1,1,3],[2,2,4,5],[5,7,1,2]])                          \n",
    "print(A)\n",
    "swaprows(A,1,2)\n",
    "print(A)\n",
    "rowaddmult(A,2,2,3)\n",
    "print(A)"
   ]
  }
 ],
 "metadata": {
  "kernelspec": {
   "display_name": "Python 3",
   "language": "python",
   "name": "python3"
  },
  "language_info": {
   "codemirror_mode": {
    "name": "ipython",
    "version": 3
   },
   "file_extension": ".py",
   "mimetype": "text/x-python",
   "name": "python",
   "nbconvert_exporter": "python",
   "pygments_lexer": "ipython3",
   "version": "3.8.8"
  }
 },
 "nbformat": 4,
 "nbformat_minor": 2
}

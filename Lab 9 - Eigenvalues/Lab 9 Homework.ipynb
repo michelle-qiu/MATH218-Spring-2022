{
 "cells": [
  {
   "cell_type": "markdown",
   "metadata": {},
   "source": [
    "> ## Make a copy of this notebook (File menu -> Make a Copy...)\n",
    "\n",
    "### Homework Question 1\n",
    "Consider the same situation as in Question 15 from the lab, but on a pentagon instead of a square. That is, there are five corners instead of four. Show that the corresponding Markov chain is not periodic, and that its transition matrix is regular."
   ]
  },
  {
   "cell_type": "markdown",
   "metadata": {},
   "source": [
    "Here, after taking A^k @ v0 for a variety of initial vectors (one that starts in corner A, one that has equal probability of starting in any corner, and one with an unequal distribution of starting probabilities), we can see that regardless of the initial state, with a high enough exponent value, vn becomes a matrix of all 0.2 values. When we do different exponents that vary by 1, we still get the same matrix, demonstrating it is not periodic since it will eventually reduce to the same probabilities. We also know the transition matrix is regular because after taking various different exponents with A, they all get the same matrix that is column stochastic and each element is non-zero."
   ]
  },
  {
   "cell_type": "code",
   "execution_count": 1,
   "metadata": {},
   "outputs": [
    {
     "name": "stdout",
     "output_type": "stream",
     "text": [
      "[[0.  0.5 0.  0.  0.5]\n",
      " [0.5 0.  0.5 0.  0. ]\n",
      " [0.  0.5 0.  0.5 0. ]\n",
      " [0.  0.  0.5 0.  0.5]\n",
      " [0.5 0.  0.  0.5 0. ]]\n",
      "[0.1  0.15 0.2  0.25 0.3 ]\n",
      "[0.2 0.2 0.2 0.2 0.2]\n",
      "[0.2 0.2 0.2 0.2 0.2]\n",
      "[0.2 0.2 0.2 0.2 0.2]\n",
      "[0.2 0.2 0.2 0.2 0.2]\n",
      "[0.2 0.2 0.2 0.2 0.2]\n"
     ]
    }
   ],
   "source": [
    "import numpy as np\n",
    "A = np.array([[0,0.5,0,0,0.5],[0.5,0,0.5,0,0],[0,0.5,0,0.5,0],[0,0,0.5,0,0.5],[0.5,0,0,0.5,0]])\n",
    "#we start in node A with V\n",
    "v0 = np.array([1.,0,0,0,0])\n",
    "v0 = np.array([0.2,0.2,0.2,0.2,0.2])\n",
    "v0 = np.array([0.1,0.15,0.2,0.25,0.3])\n",
    "v200 = np.linalg.matrix_power(A,200)@v0\n",
    "v201 = np.linalg.matrix_power(A,201)@v0\n",
    "v202 = np.linalg.matrix_power(A,202)@v0\n",
    "v203 = np.linalg.matrix_power(A,203)@v0\n",
    "v204 = np.linalg.matrix_power(A,204)@v0\n",
    "\n",
    "print(A)\n",
    "print(v0)\n",
    "print(v200)\n",
    "print(v201)\n",
    "print(v202)\n",
    "print(v203)\n",
    "print(v204)"
   ]
  },
  {
   "cell_type": "markdown",
   "metadata": {},
   "source": [
    "### Homework Question 2\n",
    "Consider a Markov chain with transition matrix given by the following code:\n",
    "  ```python\n",
    "  A= np.array([\n",
    "               [ 0.    ,  0.    ,  0.    ,  0.    ,  0.    ,  0.5   ,  0.25  ],\n",
    "               [ 0.    ,  0.    ,  0.    ,  0.    ,  0.    ,  0.5   ,  0.75  ],\n",
    "               [ 0.5   ,  0.3333,  0.    ,  0.    ,  0.    ,  0.    ,  0.    ],\n",
    "               [ 0.25  ,  0.    ,  0.    ,  0.    ,  0.    ,  0.    ,  0.    ],\n",
    "               [ 0.25  ,  0.6667,  0.    ,  0.    ,  0.    ,  0.    ,  0.    ],\n",
    "               [ 0.    ,  0.    ,  0.3333,  0.5   ,  0.75  ,  0.    ,  0.    ],\n",
    "               [ 0.    ,  0.    ,  0.6667,  0.5   ,  0.25  ,  0.    ,  0.    ]])\n",
    "   ```\n",
    "  \n",
    "1. Draw a state space diagram for this chain (use [this link](https://graphonline.ru/en/)). If you're having trouble putting the nodes and arrows in sensible places, you may want to do the rest of this question first.<br><br>\n",
    "1. Show that this chain is periodic. What is the period?<br><br>\n",
    "1. By again considering powers of this matrix, show that the seven nodes divide into three *cyclic classes*. That is, show that there are three subsets of nodes, $A$, $B$, and $C$, each with the property 'if we start at a node in a given class, we can only return to the class $p$ steps later, where $p$ is the period of the chain'. Numbering the nodes from 1 to 7, which nodes are in each cyclic class?<br><br>"
   ]
  },
  {
   "cell_type": "markdown",
   "metadata": {},
   "source": [
    "It has a period of 3.\n",
    "A = 6,7\n",
    "B = 1,2\n",
    "C = 3,4,5"
   ]
  },
  {
   "cell_type": "code",
   "execution_count": 2,
   "metadata": {
    "scrolled": true
   },
   "outputs": [
    {
     "name": "stdout",
     "output_type": "stream",
     "text": [
      "[[0.     0.     0.     0.     0.     0.5    0.25  ]\n",
      " [0.     0.     0.     0.     0.     0.5    0.75  ]\n",
      " [0.5    0.3333 0.     0.     0.     0.     0.    ]\n",
      " [0.25   0.     0.     0.     0.     0.     0.    ]\n",
      " [0.25   0.6667 0.     0.     0.     0.     0.    ]\n",
      " [0.     0.     0.3333 0.5    0.75   0.     0.    ]\n",
      " [0.     0.     0.6667 0.5    0.25   0.     0.    ]]\n",
      "[1. 0. 0. 0. 0. 0. 0.]\n",
      "0.0  0.0  0.0  0.0  0.0  0.5596592157052928  0.4403407842947032\n",
      "0.38991480392632216  0.6100851960736737  0.0  0.0  0.0  0.0  0.0\n",
      "0.0  0.0  0.39829879781451655  0.09747870098158054  0.5042225012038988  0.0  0.0\n",
      "0.0  0.0  0.0  0.0  0.0  0.5596592157052928  0.44034078429470314\n",
      "0.38991480392632216  0.6100851960736738  0.0  0.0  0.0  0.0  0.0\n"
     ]
    }
   ],
   "source": [
    "A= np.array([\n",
    "               [ 0.    ,  0.    ,  0.    ,  0.    ,  0.    ,  0.5   ,  0.25  ],\n",
    "               [ 0.    ,  0.    ,  0.    ,  0.    ,  0.    ,  0.5   ,  0.75  ],\n",
    "               [ 0.5   ,  0.3333,  0.    ,  0.    ,  0.    ,  0.    ,  0.    ],\n",
    "               [ 0.25  ,  0.    ,  0.    ,  0.    ,  0.    ,  0.    ,  0.    ],\n",
    "               [ 0.25  ,  0.6667,  0.    ,  0.    ,  0.    ,  0.    ,  0.    ],\n",
    "               [ 0.    ,  0.    ,  0.3333,  0.5   ,  0.75  ,  0.    ,  0.    ],\n",
    "               [ 0.    ,  0.    ,  0.6667,  0.5   ,  0.25  ,  0.    ,  0.    ]])\n",
    "v0 = np.array([1.,0,0,0,0,0,0])\n",
    "#v0 = np.array([0.14285714285,0.14285714285,0.14285714285,0.14285714285,0.14285714285,0.14285714285,0.14285714285])\n",
    "#v0 = np.array([0.05,0.05,0.10,0.15,0.20,0.25])\n",
    "v200 = np.linalg.matrix_power(A,200)@v0\n",
    "v201 = np.linalg.matrix_power(A,201)@v0\n",
    "v202 = np.linalg.matrix_power(A,202)@v0\n",
    "v203 = np.linalg.matrix_power(A,203)@v0\n",
    "v204 = np.linalg.matrix_power(A,204)@v0\n",
    "\n",
    "print(A)\n",
    "print(v0)\n",
    "#print(v200)\n",
    "#print(v201)\n",
    "#print(v202)\n",
    "#print(v203)\n",
    "#print(v204)\n",
    "for line in v200,v201,v202,v203,v204:\n",
    "    print ('  '.join(map(str,line)))\n",
    "    "
   ]
  },
  {
   "cell_type": "markdown",
   "metadata": {},
   "source": [
    "### Homework Question 3\n",
    "\n",
    "For this question, you will write code that generates sensible random words that are (mostly) pronounceable in English. You will do this by creating a Markov chain whose nodes are letters in English words, and whose transition probabilities are given by analyzing a large set of existing English words.<br><br>\n",
    "\n",
    "1. You will find a set of approximately 275,000 English words in the file *en.txt*. We will use this to figure out what the probability of a letter occuring in a word is, given the previous letter. For example, if the current letter is 'q', the next letter is 'u' with very high probability. Generate the transition matrix between all 26 states (a.k.a. English letters). Here are some code snippets that might help: \n",
    "```python\n",
    "      # This opens the file and prints every line.\n",
    "      f = open('en.txt')\n",
    "      for word in f:\n",
    "         print(word)\n",
    "\n",
    "      # After you're done with a file, close it:\n",
    "      f.close()\n",
    "\n",
    "      # Each line has an extra character at the end (the endline character). The following code strips it:\n",
    "      word = word.rstrip()\n",
    "\n",
    "      # Strings can be accessed like one-dimensional arrays:\n",
    "      for i in len(word):\n",
    "         print(word[i])\n",
    "\n",
    "      # The following function will return a number correponding to the letter input.\n",
    "      # e.g. testletter('a') will return 0, and testletter('z') will return 25\n",
    "      import string\n",
    "      def let2num(letter):\n",
    "          dictionary = {letter: index for index, letter in enumerate(string.ascii_lowercase)}\n",
    "          return dictionary[letter]\n",
    "```\n",
    "After you've written your code, check the probabilities of different letters following 'q'. This is a good indicator that your code is correct!<br><br>"
   ]
  },
  {
   "cell_type": "code",
   "execution_count": 3,
   "metadata": {},
   "outputs": [
    {
     "name": "stdout",
     "output_type": "stream",
     "text": [
      "[[2.0800e+02 6.4590e+03 1.4813e+04 4.6000e+03 1.0534e+04 2.9270e+03\n",
      "  5.3920e+03 9.3570e+03 1.0521e+04 1.0560e+03 1.8010e+03 1.6576e+04\n",
      "  1.2675e+04 1.1254e+04 2.5910e+03 8.6700e+03 3.8000e+01 2.4503e+04\n",
      "  7.1290e+03 1.4206e+04 2.9480e+03 3.6130e+03 4.0080e+03 6.0000e+02\n",
      "  1.2240e+03 2.0030e+03]\n",
      " [8.5970e+03 1.5180e+03 1.0000e+01 3.5100e+02 2.1870e+03 3.7000e+01\n",
      "  1.5400e+02 2.5300e+02 3.0070e+03 0.0000e+00 2.5100e+02 4.7300e+02\n",
      "  3.3830e+03 7.9700e+02 3.3290e+03 1.6400e+02 0.0000e+00 2.3770e+03\n",
      "  4.2000e+02 4.8200e+02 3.2760e+03 0.0000e+00 2.2600e+02 1.8000e+01\n",
      "  4.5100e+02 1.6000e+01]\n",
      " [1.1180e+04 2.2200e+02 1.5520e+03 1.8900e+02 9.3680e+03 1.6000e+01\n",
      "  2.5000e+01 1.0800e+02 2.0891e+04 0.0000e+00 6.5000e+01 8.3100e+02\n",
      "  6.9000e+01 8.9520e+03 6.6190e+03 9.5000e+01 0.0000e+00 3.6570e+03\n",
      "  7.0020e+03 1.6350e+03 3.3490e+03 0.0000e+00 6.3000e+01 3.9100e+02\n",
      "  1.4250e+03 1.0000e+01]\n",
      " [6.8840e+03 2.4400e+02 4.4000e+01 1.6710e+03 2.6209e+04 1.6000e+01\n",
      "  7.7000e+01 8.2000e+01 7.6820e+03 2.0000e+00 7.1000e+01 1.8580e+03\n",
      "  5.8000e+01 9.9700e+03 4.7840e+03 7.8000e+01 0.0000e+00 4.0650e+03\n",
      "  2.0100e+02 1.6800e+02 2.2900e+03 7.0000e+00 2.5100e+02 4.0000e+00\n",
      "  8.3500e+02 2.0000e+00]\n",
      " [2.1000e+03 6.2990e+03 9.5300e+03 1.6161e+04 6.1410e+03 3.7750e+03\n",
      "  9.0470e+03 1.3903e+04 1.7008e+04 8.1800e+02 6.1520e+03 2.4148e+04\n",
      "  1.3718e+04 2.3410e+04 1.9330e+03 1.2170e+04 2.0000e+00 2.9853e+04\n",
      "  2.2732e+04 3.0734e+04 2.5590e+03 1.1990e+04 2.8730e+03 1.1510e+03\n",
      "  1.3550e+03 5.2540e+03]\n",
      " [1.6420e+03 7.9000e+01 0.0000e+00 2.5900e+02 2.8350e+03 2.5190e+03\n",
      "  8.4000e+01 1.7400e+02 3.9960e+03 0.0000e+00 1.5800e+02 6.8900e+02\n",
      "  2.2000e+02 1.9760e+03 1.4000e+03 1.2900e+02 2.0000e+00 1.1560e+03\n",
      "  4.0400e+02 5.5300e+02 8.4400e+02 0.0000e+00 1.2200e+02 3.1000e+01\n",
      "  1.3300e+02 0.0000e+00]\n",
      " [6.0940e+03 3.7000e+01 0.0000e+00 9.3100e+02 3.1490e+03 1.0000e+01\n",
      "  1.9950e+03 5.8000e+01 5.1990e+03 0.0000e+00 3.7000e+01 5.0700e+02\n",
      "  2.9000e+01 2.9347e+04 8.1070e+03 6.2000e+01 0.0000e+00 2.3480e+03\n",
      "  2.2400e+02 2.7000e+02 1.9150e+03 5.0000e+00 3.9000e+01 8.0000e+00\n",
      "  4.8100e+02 8.0000e+00]\n",
      " [1.0000e+03 1.2200e+02 1.3647e+04 3.1500e+02 9.9600e+02 3.4000e+01\n",
      "  2.4300e+03 6.5000e+01 2.3200e+02 4.0000e+00 3.4500e+02 1.9500e+02\n",
      "  4.9000e+01 7.8000e+02 5.0300e+02 9.6270e+03 2.0000e+00 1.1620e+03\n",
      "  9.1610e+03 1.0480e+04 8.0000e+01 1.0000e+00 1.2950e+03 1.3400e+02\n",
      "  1.2900e+02 2.0000e+01]\n",
      " [5.4160e+03 6.9760e+03 8.3030e+03 1.3920e+04 2.9860e+03 5.4760e+03\n",
      "  6.7010e+03 1.0521e+04 1.0300e+02 3.8100e+02 4.3190e+03 2.5282e+04\n",
      "  1.2613e+04 1.4541e+04 3.6330e+03 7.7350e+03 2.6000e+01 2.5586e+04\n",
      "  1.2560e+04 3.7948e+04 3.0550e+03 5.1790e+03 2.7940e+03 1.4670e+03\n",
      "  1.3040e+03 2.1710e+03]\n",
      " [2.1200e+02 1.9400e+02 0.0000e+00 1.7700e+02 2.9500e+02 5.0000e+00\n",
      "  2.0000e+01 1.1000e+01 8.6000e+01 6.0000e+00 2.3000e+01 1.0000e+01\n",
      "  1.5000e+01 3.3600e+02 1.4000e+02 2.4000e+01 0.0000e+00 1.2400e+02\n",
      "  6.4000e+01 7.2000e+01 4.9000e+01 0.0000e+00 9.0000e+00 0.0000e+00\n",
      "  1.6000e+01 2.0000e+00]\n",
      " [2.1970e+03 2.5000e+01 6.3050e+03 2.9000e+01 5.6700e+02 5.0000e+00\n",
      "  1.9000e+01 5.8000e+01 1.5140e+03 3.0000e+00 1.2500e+02 7.7200e+02\n",
      "  2.0000e+01 1.9120e+03 1.5260e+03 5.0000e+01 0.0000e+00 1.7980e+03\n",
      "  1.6910e+03 4.5000e+01 4.6000e+02 5.0000e+00 1.6700e+02 2.0000e+00\n",
      "  7.7000e+01 1.6000e+01]\n",
      " [2.5556e+04 7.9700e+03 3.8100e+03 2.0700e+03 1.2918e+04 3.2640e+03\n",
      "  3.8550e+03 1.1370e+03 1.1995e+04 4.0000e+00 9.9100e+02 1.3095e+04\n",
      "  2.7100e+02 9.3200e+02 1.3038e+04 5.2110e+03 0.0000e+00 1.9230e+03\n",
      "  2.6240e+03 2.2970e+03 9.1450e+03 2.7000e+01 5.1200e+02 4.5000e+01\n",
      "  2.1140e+03 2.5600e+02]\n",
      " [7.9800e+03 1.4300e+02 2.4000e+01 4.1700e+02 8.3820e+03 1.8000e+01\n",
      "  5.8000e+02 6.2600e+02 6.2090e+03 0.0000e+00 1.5900e+02 8.8800e+02\n",
      "  2.8310e+03 6.9500e+02 1.0763e+04 1.2900e+02 0.0000e+00 4.1920e+03\n",
      "  5.5570e+03 5.8200e+02 6.0720e+03 0.0000e+00 1.1500e+02 1.6000e+01\n",
      "  1.5090e+03 2.1000e+01]\n",
      " [2.4451e+04 9.3000e+01 1.0300e+02 9.9700e+02 2.6860e+04 3.4000e+01\n",
      "  1.9390e+03 7.9700e+02 5.1819e+04 6.0000e+00 6.3700e+02 8.2000e+02\n",
      "  5.5000e+02 2.8080e+03 3.0883e+04 2.8900e+02 0.0000e+00 3.0300e+03\n",
      "  2.2610e+03 5.3100e+02 1.3461e+04 2.3000e+01 9.0100e+02 8.0000e+00\n",
      "  1.3850e+03 9.0000e+00]\n",
      " [1.8400e+02 5.6910e+03 1.6732e+04 5.2140e+03 3.2000e+03 3.8460e+03\n",
      "  3.4080e+03 1.0418e+04 1.6324e+04 8.2100e+02 8.2900e+02 1.3321e+04\n",
      "  8.4010e+03 9.5180e+03 6.3610e+03 8.7580e+03 6.0000e+00 1.9703e+04\n",
      "  6.0860e+03 1.3907e+04 6.4000e+02 1.8850e+03 2.6690e+03 4.5600e+02\n",
      "  9.8500e+02 1.1910e+03]\n",
      " [7.2730e+03 7.7000e+01 1.0000e+01 1.7000e+02 5.6820e+03 2.2000e+01\n",
      "  3.5000e+01 1.2500e+02 4.5520e+03 2.0000e+00 1.1400e+02 8.4800e+02\n",
      "  5.2370e+03 8.3100e+02 9.0220e+03 2.8770e+03 0.0000e+00 2.3240e+03\n",
      "  6.2180e+03 3.3100e+02 3.5090e+03 0.0000e+00 1.1000e+02 6.8000e+02\n",
      "  2.2510e+03 1.2000e+01]\n",
      " [2.4200e+02 0.0000e+00 1.4100e+02 8.0000e+00 6.2500e+02 0.0000e+00\n",
      "  0.0000e+00 8.0000e+00 3.9700e+02 0.0000e+00 0.0000e+00 1.4000e+01\n",
      "  5.0000e+00 3.0700e+02 2.2400e+02 0.0000e+00 0.0000e+00 1.1800e+02\n",
      "  6.8400e+02 7.0000e+00 2.8000e+01 2.0000e+00 0.0000e+00 5.0000e+00\n",
      "  2.0000e+00 4.0000e+00]\n",
      " [2.1702e+04 4.1720e+03 6.0820e+03 3.4210e+03 4.9981e+04 2.1380e+03\n",
      "  5.8380e+03 2.4480e+03 5.5810e+03 1.2000e+01 3.0300e+02 1.2800e+02\n",
      "  8.1000e+01 8.5700e+02 1.9956e+04 8.9570e+03 0.0000e+00 3.9750e+03\n",
      "  2.0700e+02 1.4153e+04 1.0228e+04 8.8000e+01 6.1000e+02 6.0000e+00\n",
      "  1.1180e+03 0.0000e+00]\n",
      " [1.4391e+04 1.2870e+03 1.2630e+03 4.2210e+03 6.0367e+04 4.7500e+02\n",
      "  4.4400e+03 1.4200e+03 3.0259e+04 4.0000e+00 2.7080e+03 4.2210e+03\n",
      "  4.1220e+03 1.5307e+04 1.0218e+04 3.1600e+03 8.0000e+00 1.4718e+04\n",
      "  1.6476e+04 9.8960e+03 1.0865e+04 3.9000e+01 8.7100e+02 7.4000e+01\n",
      "  2.5940e+03 5.0000e+00]\n",
      " [3.0830e+04 3.1700e+02 7.0410e+03 1.0700e+02 1.2896e+04 1.0890e+03\n",
      "  1.3700e+02 1.8420e+03 1.7586e+04 2.0000e+00 1.9200e+02 2.7310e+03\n",
      "  4.6000e+01 1.9429e+04 8.7000e+03 2.7550e+03 0.0000e+00 5.9800e+03\n",
      "  2.6453e+04 4.9140e+03 7.3380e+03 1.0000e+00 1.7300e+02 7.8700e+02\n",
      "  1.4110e+03 4.0000e+00]\n",
      " [3.8880e+03 3.5550e+03 5.0390e+03 2.5000e+03 2.2890e+03 2.8540e+03\n",
      "  2.6830e+03 1.9880e+03 1.1570e+03 9.6000e+02 3.6300e+02 4.6960e+03\n",
      "  3.1250e+03 2.1470e+03 1.2889e+04 2.7730e+03 4.1070e+03 4.3850e+03\n",
      "  6.5530e+03 5.1650e+03 4.2000e+01 3.6400e+02 9.3000e+01 2.4600e+02\n",
      "  1.5300e+02 1.1700e+02]\n",
      " [2.5350e+03 9.5000e+01 0.0000e+00 2.8300e+02 2.4990e+03 2.0000e+00\n",
      "  2.0000e+00 1.4000e+01 5.5480e+03 0.0000e+00 4.0000e+01 7.1000e+02\n",
      "  6.5000e+01 1.0910e+03 4.2670e+03 8.0000e+00 0.0000e+00 1.1650e+03\n",
      "  8.7000e+01 5.4000e+01 3.2600e+02 7.7000e+01 2.0000e+00 3.0000e+00\n",
      "  5.3000e+01 2.3000e+01]\n",
      " [1.6950e+03 6.5000e+01 1.0000e+01 3.9400e+02 2.0090e+03 1.7000e+01\n",
      "  1.3400e+02 2.9200e+02 1.0100e+02 4.0000e+00 2.0100e+02 2.0300e+02\n",
      "  6.9000e+01 5.6500e+02 3.9550e+03 1.1400e+02 3.0000e+00 5.9900e+02\n",
      "  1.2710e+03 9.3400e+02 1.0000e+01 0.0000e+00 4.4000e+01 1.9000e+01\n",
      "  2.4900e+02 1.9000e+01]\n",
      " [8.7100e+02 0.0000e+00 0.0000e+00 0.0000e+00 3.6330e+03 0.0000e+00\n",
      "  0.0000e+00 0.0000e+00 5.5200e+02 0.0000e+00 0.0000e+00 5.0000e+00\n",
      "  0.0000e+00 7.1000e+01 1.3090e+03 0.0000e+00 0.0000e+00 1.0000e+00\n",
      "  0.0000e+00 0.0000e+00 2.5700e+02 0.0000e+00 0.0000e+00 0.0000e+00\n",
      "  9.3000e+01 0.0000e+00]\n",
      " [2.1260e+03 4.0500e+02 1.8740e+03 1.0930e+03 1.4770e+03 6.2500e+02\n",
      "  1.2050e+03 4.3010e+03 8.4000e+01 4.0000e+00 5.2100e+02 1.1141e+04\n",
      "  1.2430e+03 1.0630e+03 8.8500e+02 1.0730e+03 0.0000e+00 4.0580e+03\n",
      "  2.0590e+03 4.0880e+03 1.0900e+02 8.8000e+01 9.2000e+01 3.8800e+02\n",
      "  4.0000e+00 3.0800e+02]\n",
      " [1.1610e+03 8.0000e+00 2.7000e+01 5.0000e+01 3.6700e+02 0.0000e+00\n",
      "  1.5000e+01 6.0000e+00 7.0820e+03 0.0000e+00 0.0000e+00 4.6000e+01\n",
      "  1.9000e+01 2.8600e+02 5.4900e+02 2.0000e+00 0.0000e+00 9.9000e+01\n",
      "  5.0000e+00 3.3400e+02 2.5500e+02 2.0000e+00 2.6000e+01 0.0000e+00\n",
      "  1.5900e+02 6.7100e+02]]\n"
     ]
    }
   ],
   "source": [
    "import string\n",
    "def main(file):\n",
    "    A = np.zeros((26,26))\n",
    "    f = open(file)\n",
    "    for word in f:\n",
    "        word = word.rstrip()\n",
    "        getCounts(word,A)\n",
    "    f.close()\n",
    "    return(A)\n",
    "\n",
    "def getCounts(word, A):\n",
    "    for i in range (len(word)-1):\n",
    "        A[let2num(word[i+1]),let2num(word[i])] +=1\n",
    "        \n",
    "def let2num(letter):\n",
    "       dictionary = {letter: index for index, letter in enumerate(string.ascii_lowercase)}\n",
    "       return dictionary[letter]\n",
    "A = main('en.txt')\n",
    "print(A)"
   ]
  },
  {
   "cell_type": "code",
   "execution_count": 8,
   "metadata": {},
   "outputs": [
    {
     "name": "stdout",
     "output_type": "stream",
     "text": [
      "[[0.01764019 0.1842837  0.00385796 0.        ]\n",
      " [0.05979319 0.03795708 0.11691363 0.00143062]\n",
      " [0.00522044 0.05383569 0.03840609 0.        ]\n",
      " [0.00192861 0.00133664 0.         0.        ]]\n"
     ]
    }
   ],
   "source": [
    "def prob(A):\n",
    "    ct = np.sum(A,axis = 0)\n",
    "    for i in range (0, 26):\n",
    "        A[:,i] = A[:,i]/ ct[i];\n",
    "    return(A)\n",
    "    \n",
    "#print(A)\n",
    "col = let2num(\"q\")\n",
    "row = let2num(\"u\")\n",
    "probs = prob(A)\n",
    "print (probs[13:17,13:17])"
   ]
  },
  {
   "cell_type": "markdown",
   "metadata": {},
   "source": [
    "1. Since this is a large matrix, it would not be efficient to use our row-reduction code to find its eigenvalues and eigenvectors. Instead, we use a NumPy built-in function. By investigating the *np.linalg.eig(A)* function using its documentation, find the eigenvector corresponding to the eigenvalue 1 for your transition matrix. Scale it to ensure that its sum is 1!\n",
    "> **Note: In general, eigenvalues and eigenvectors may be complex (i.e. contain numbers of the form $a+bi$, where $i=\\sqrt{-1}$). The correct eigenvector here has no complex entries. Nonetheless, NumPy will represent the vector using its complex data type. After you're sure you have the right vector, you can cast it to real numbers by using `np.real(v)`.**\n"
   ]
  },
  {
   "cell_type": "code",
   "execution_count": 9,
   "metadata": {},
   "outputs": [
    {
     "name": "stdout",
     "output_type": "stream",
     "text": [
      "[ 0.29064632+0.j         -0.2567369 +0.j          0.01019684-0.05928236j\n",
      "  0.01019684+0.05928236j -0.12893632-0.01285013j -0.12893632+0.01285013j\n",
      " -0.13406265-0.02212672j -0.13406265+0.02212672j  0.03796078+0.j\n",
      " -0.05259845+0.13113855j -0.05259845-0.13113855j  0.34903539+0.j\n",
      " -0.35051321+0.j         -0.02536474-0.05464059j -0.02536474+0.05464059j\n",
      " -0.01120474+0.11599301j -0.01120474-0.11599301j  0.28341647+0.j\n",
      "  0.3544472 -0.08185921j  0.3544472 +0.08185921j  0.19448492-0.07829215j\n",
      "  0.19448492+0.07829215j -0.2045911 +0.04687643j -0.2045911 -0.04687643j\n",
      "  0.33339054+0.j         -0.34852248+0.j        ]\n",
      "[ 1.         -0.41896294 -0.13612269 -0.13612269 -0.04863557 -0.04863557\n",
      "  0.0799718   0.0799718   0.1153666   0.08615932  0.08615932 -0.08815771\n",
      "  0.08547136  0.06522184  0.06522184 -0.02368839 -0.02368839  0.03809778\n",
      " -0.03281825 -0.03281825 -0.01159883 -0.01159883  0.01048189  0.01048189\n",
      " -0.00206151  0.00722392]\n"
     ]
    }
   ],
   "source": [
    "w, v = np.linalg.eig(probs) \n",
    "print(v[0])\n",
    "w = np.real(w)\n",
    "v = np.real(v)\n",
    "\n",
    "print(w)\n",
    "eig1 = v[0]\n",
    "#print(eig1)\n",
    "\n",
    "eig1 = eig1/((eig1@eig1)**.5)\n",
    "#print(eig1)\n",
    "#print(np.sum(eig1))\n",
    " \n",
    "    \n",
    "    #frequencies of each letter\n",
    "    #sum across each row, and divide by the total letters. "
   ]
  },
  {
   "cell_type": "markdown",
   "metadata": {},
   "source": [
    "1. Explain why the entries of this eigenvector should be very close to the frequencies of each letter in the word set.<br><br>\n",
    "1. Write code to check that this is indeed the case.<br><br>\n"
   ]
  },
  {
   "cell_type": "code",
   "execution_count": 7,
   "metadata": {},
   "outputs": [
    {
     "name": "stdout",
     "output_type": "stream",
     "text": [
      "[-0.08598826  0.00297592  0.05358757  0.0209346  -0.03871503 -0.00407941\n",
      "  0.01341147  0.0257357  -0.00953003 -0.00042708  0.01124407  0.045994\n",
      "  0.04509506  0.06627904 -0.05528456  0.0214891   0.00171068  0.02628411\n",
      "  0.08969186  0.126269   -0.01392337  0.00692869  0.00723115  0.00133247\n",
      "  0.00850638 -0.01183315]\n"
     ]
    }
   ],
   "source": [
    "print(probs@eig1)"
   ]
  },
  {
   "cell_type": "markdown",
   "metadata": {},
   "source": [
    "1. What is the probability that the letter following 'q' is 'u'? Find some words in the list for which a letter other than 'u' follows a 'q'.<br><br>\n"
   ]
  },
  {
   "cell_type": "code",
   "execution_count": 10,
   "metadata": {},
   "outputs": [
    {
     "name": "stdout",
     "output_type": "stream",
     "text": [
      "['buqsha', 'buqshas', 'burqa', 'burqas', 'faqir', 'faqirs', 'fiqh', 'fiqhs', 'guqin', 'guqins', 'inqilab', 'inqilabs', 'mbaqanga', 'mbaqangas', 'muqaddam', 'muqaddams', 'niqab', 'niqabs', 'qabala', 'qabalah', 'qabalahs', 'qabalas', 'qabalism', 'qabalisms', 'qabalist', 'qabalistic', 'qabalists', 'qadi', 'qadis', 'qaid', 'qaids', 'qaimaqam', 'qaimaqam', 'qaimaqams', 'qaimaqams', 'qalamdan', 'qalamdans', 'qanat', 'qanats', 'qasida', 'qasidas', 'qat', 'qats', 'qawwal', 'qawwali', 'qawwalis', 'qawwals', 'qi', 'qibla', 'qiblas', 'qigong', 'qigongs', 'qin', 'qindar', 'qindarka', 'qindars', 'qinghaosu', 'qinghaosus', 'qins', 'qintar', 'qintarka', 'qintars', 'qis', 'qiviut', 'qiviuts', 'qoph', 'qophs', 'qorma', 'qormas', 'qwerties', 'qwerty', 'qwertys', 'sheqalim', 'sheqel', 'sheqels', 'suqs', 'talaqs', 'tranqs', 'tsaddiqim', 'tsaddiqs', 'tzaddiqim', 'tzaddiqs', 'umiaqs', 'waqf', 'waqfs', 'yaqona', 'yaqonas']\n",
      "0.9792560801144492\n"
     ]
    }
   ],
   "source": [
    "def qu(file):\n",
    "    qwords = []\n",
    "    f = open(file)\n",
    "    for word in f:\n",
    "        word = word.rstrip()\n",
    "        getQs(qwords,word)\n",
    "    f.close()\n",
    "    return(qwords)\n",
    "\n",
    "def getQs(qwords,word):\n",
    "    for i in range (len(word)-1):\n",
    "        if ((word[i]==\"q\") and (word[i+1]!=\"u\")):\n",
    "            qwords.append(word)\n",
    "        \n",
    "print(qu('en.txt'))\n",
    "\n",
    "col = let2num(\"q\")\n",
    "row = let2num(\"u\")\n",
    "probs = prob(A)\n",
    "\n",
    "print(probs[row,col])"
   ]
  },
  {
   "cell_type": "markdown",
   "metadata": {},
   "source": [
    "1. Lastly, write a *namegen(n)* function that generates words of length $n$ using your transition matrix. You may find the following code snippets helpful:\n",
    "```python\n",
    "      # This returns a string containing all lowercase letters:\n",
    "      import string\n",
    "      string.ascii_lowercase\n",
    "\n",
    "      # This returns a random number between 0 and 25, with probability distribution given by the vector v:\n",
    "      np.random.choice(26,p=v)\n",
    "\n",
    "      # You can add a letter to string as follows:\n",
    "      mystring = 'co'\n",
    "      mystring += 'w'\n",
    "      mystring\n",
    "```\n",
    "\n",
    "Test out your code by generating words of different lengths. Are most of them pronounceable? Explain why they are not all pronounceable. \n",
    "  \n",
    "  \n",
    "**Extra Credit** Write down a few ideas that would increase the likelihood of pronounceable randomly generated words. Implement them in code."
   ]
  },
  {
   "cell_type": "code",
   "execution_count": 15,
   "metadata": {},
   "outputs": [
    {
     "name": "stdout",
     "output_type": "stream",
     "text": [
      "zescti\n"
     ]
    }
   ],
   "source": [
    "import string\n",
    "def namegen(n):\n",
    "    abc = list('abcdefghijklmnopqrstuvwxyz')\n",
    "    v = np.sum(probs,axis=0)\n",
    "    v = v/np.sum(v)\n",
    "    start = abc[np.random.choice(26,p=v)]\n",
    "    while n>0:\n",
    "        v = probs[:,let2num(start[-1])]\n",
    "        next = np.random.choice(26,p=v)\n",
    "        start += abc[next]\n",
    "        n-=1\n",
    "    return(start)\n",
    "print(namegen(5))"
   ]
  }
 ],
 "metadata": {
  "kernelspec": {
   "display_name": "Python 3",
   "language": "python",
   "name": "python3"
  },
  "language_info": {
   "codemirror_mode": {
    "name": "ipython",
    "version": 3
   },
   "file_extension": ".py",
   "mimetype": "text/x-python",
   "name": "python",
   "nbconvert_exporter": "python",
   "pygments_lexer": "ipython3",
   "version": "3.8.8"
  }
 },
 "nbformat": 4,
 "nbformat_minor": 2
}

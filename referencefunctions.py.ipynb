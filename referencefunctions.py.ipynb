{
 "cells": [
  {
   "cell_type": "code",
   "execution_count": 1,
   "id": "6fe558ea",
   "metadata": {},
   "outputs": [],
   "source": [
    "import numpy as np"
   ]
  },
  {
   "cell_type": "code",
   "execution_count": 2,
   "id": "5da22af5",
   "metadata": {},
   "outputs": [],
   "source": [
    "def swaprows(A,i,j):\n",
    "    A[[i, j],:] = A[[j, i],:] \n",
    "def rowmult(A,i,c):\n",
    "    A[i] = A[i]*c\n",
    "def rowaddmult(A,i,j,c):\n",
    "    A[j] = A[i]*c + A[j]\n"
   ]
  },
  {
   "cell_type": "code",
   "execution_count": 6,
   "id": "c9e3b896",
   "metadata": {},
   "outputs": [],
   "source": [
    "def rowred(A):\n",
    "    rows,cols = A.shape\n",
    "    copy = A.copy()\n",
    "    pivotcol = 0\n",
    "    pivotrow = 0\n",
    "    i = 1\n",
    "    while((pivotcol<cols) & (pivotrow<rows)):\n",
    "        while(i<rows):\n",
    "            rowaddmult(copy,pivotrow,i,((-1*copy[i,pivotcol])/(copy[pivotrow,pivotcol])))\n",
    "            i+=1\n",
    "        pivotcol+=1\n",
    "        pivotrow+=1\n",
    "        i = pivotrow+1\n",
    "    return copy;"
   ]
  },
  {
   "cell_type": "code",
   "execution_count": 3,
   "id": "dcafd782",
   "metadata": {},
   "outputs": [],
   "source": [
    "def backsub(U,v):\n",
    "    rows,cols = U.shape\n",
    "    x = np.zeros(cols)\n",
    "    for i in range (rows-1,-1,-1):\n",
    "        x[i] += (U[i, i+1:rows]@x[i+1:rows]) # dot product version \n",
    "        x[i] = v[i] - x[i]\n",
    "        x[i] = x[i]/U[i,i]\n",
    "    return x;"
   ]
  },
  {
   "cell_type": "code",
   "execution_count": 4,
   "id": "636bb430",
   "metadata": {},
   "outputs": [],
   "source": [
    "def gauss(a,v):\n",
    "    rows,cols = a.shape #dimensions of the original matrix yet to be augmented\n",
    "    A = np.zeros(rows*(cols+1)).reshape(rows,cols+1)\n",
    "    A[:rows,:cols] = a[:,:]\n",
    "    A[:,cols] = v\n",
    "    #print(A)\n",
    "    sol = rowred(A)\n",
    "    #print(sol)\n",
    "    newsol = backsub(sol[:cols,:cols],sol[:,cols]) #here we have to separate the REF matrix into its augmented parts.\n",
    "    return (newsol)\n",
    "def gausswithpivot(a,v):\n",
    "    rows,cols = a.shape #dimensions of the original matrix yet to be augmented\n",
    "    A = np.zeros(rows*(cols+1)).reshape(rows,cols+1)\n",
    "    A[:rows,:cols] = a[:,:]\n",
    "    A[:,cols] = v\n",
    "    #print(A)\n",
    "    sol = rowredpivot(A)\n",
    "    print(sol)\n",
    "    newsol = backsub(sol[:cols,:cols],sol[:,cols]) #here we have to separate the REF matrix into its augmented parts.\n",
    "    return (newsol)"
   ]
  },
  {
   "cell_type": "code",
   "execution_count": 5,
   "id": "7fe93fe6",
   "metadata": {},
   "outputs": [],
   "source": [
    "def rowredpivot(A):\n",
    "    rows,cols = A.shape\n",
    "    copy = A.copy()\n",
    "    pivotcol = 0\n",
    "    pivotrow = 0\n",
    "    i = 1\n",
    "    while((pivotcol<cols) & (pivotrow<rows)):\n",
    "        while(i<rows):\n",
    "            maxe = np.argmax(abs(copy[pivotrow:,pivotcol]))+pivotrow\n",
    "            if (maxe > pivotrow):\n",
    "                copyrow = (copy[pivotrow]).copy();\n",
    "                copy[pivotrow] = (copy[maxe]).copy();\n",
    "                copy[maxe] = copyrow;\n",
    "            rowaddmult(copy,pivotrow,i,((-1*copy[i,pivotcol])/(copy[pivotrow,pivotcol])))\n",
    "            i+=1\n",
    "        pivotcol+=1\n",
    "        pivotrow+=1\n",
    "        i = pivotrow+1\n",
    "    return copy;"
   ]
  }
 ],
 "metadata": {
  "kernelspec": {
   "display_name": "Python 3",
   "language": "python",
   "name": "python3"
  },
  "language_info": {
   "codemirror_mode": {
    "name": "ipython",
    "version": 3
   },
   "file_extension": ".py",
   "mimetype": "text/x-python",
   "name": "python",
   "nbconvert_exporter": "python",
   "pygments_lexer": "ipython3",
   "version": "3.8.8"
  }
 },
 "nbformat": 4,
 "nbformat_minor": 5
}

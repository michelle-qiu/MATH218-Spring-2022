{
 "cells": [
  {
   "cell_type": "markdown",
   "metadata": {},
   "source": [
    "In today's class, you solved the exact same system of equations using LU as you did last week using row-reduction of an augmented matrix and back substitution. It certainly seems you had to do more work this time when you already had a way of solving equations. What is the advantage of using LU decomposition? This homework will explore this question.\n",
    "\n",
    "> ## Make a copy of this notebook (File menu -> Make a Copy...)\n",
    "\n",
    "Suppose that you are doing the same experiment on a number of different samples. You measure your outputs at the same time points, but get different results each time, depending on your sample. You want to fit polynomials to each of your data sets. As we saw when we fitted polynomials to data, this will involve solving an equation $Ax=b$ for different $b$'s, but always the same $A$.\n",
    "\n",
    "Consider the following table, showing the results of three such experiments:\n",
    "\n",
    "$t$ | 1 | 2 | 3 | 4 | 5 | 6 | 7\n",
    "--- | :---: | :---: | :---: |:---: |:---: |:---: |:---: |\n",
    "$y_1$ | 10 | 15 | -1 | 2 | -4 | 5 | 10\n",
    "$y_2$ | 10 | 13 | 0 | 2 | -3 | 5 | 11\n",
    "$y_3$ | 11 | 14 | -1 | 3 | -5 | 4 | 9\n",
    "\n",
    "We will fit polynomials to each of these and compare using row-reduction and back-substitution to LU decomposition. To do so, we'll need to do the following:\n",
    "* Understand the role of pivoting.<br><br>\n",
    "* Solve the equations using row-reduction and back-substitution.<br><br>\n",
    "* Lastly, compare this to solving them using LU decomposition, followed by forward- and back-substitution.\n",
    "\n",
    "## Pivoting\n",
    "\n",
    "Recall that LU decomposition with pivoting takes a matrix $A$ and returns matrices $P$, $L$, and $U$ so that $$PA=LU$$\n",
    "\n",
    "We are trying to solve $Ax=v$. If we have a matrix $P$, then we can multiply both sides by it to get $$PAx=Pv$$ But $PA=LU$, so this is equivalent to $$LUx=Pv.$$\n",
    "\n",
    "So all we need to do is multiply our $v$ by $P$ before we begin foward- or back-substitutions! Remember that each row in an augmented matrix represents one of the equations in the system. So all we are really doing here is swapping around the equations."
   ]
  },
  {
   "cell_type": "markdown",
   "metadata": {},
   "source": [
    "### Homework Question 1 \n",
    "\n",
    "Use your row-reduction code and your `backsub(U,v)` function to find the coefficients of a sixth degree polynomial that fits each of the above data sets. In each case, this will involve solving $Ax=b$. \n",
    "1. Explain why the matrix $A$ is the same in each case. What is it?<br><br>\n",
    "1. Write down the sixth degree polynomials in each case. Write the coefficients of each power to two decimal places."
   ]
  },
  {
   "cell_type": "code",
   "execution_count": 1,
   "metadata": {},
   "outputs": [
    {
     "name": "stdout",
     "output_type": "stream",
     "text": [
      "[[     1.      1.      1.      1.      1.      1.      1.]\n",
      " [    64.     32.     16.      8.      4.      2.      1.]\n",
      " [   729.    243.     81.     27.      9.      3.      1.]\n",
      " [  4096.   1024.    256.     64.     16.      4.      1.]\n",
      " [ 15625.   3125.    625.    125.     25.      5.      1.]\n",
      " [ 46656.   7776.   1296.    216.     36.      6.      1.]\n",
      " [117649.  16807.   2401.    343.     49.      7.      1.]]\n",
      "[  -0.29861111    7.27083333  -70.09027778  339.47916667 -859.61111111\n",
      " 1052.25       -459.        ]\n",
      "[  -0.23888889    5.80833333  -55.88888889  270.125      -682.37222222\n",
      "  832.56666667 -360.        ]\n",
      "[  -0.33055556    8.00833333  -76.68055556  368.125      -921.98888889\n",
      " 1114.86666667 -481.        ]\n"
     ]
    }
   ],
   "source": [
    "import numpy as np\n",
    "from Qiureferencefunctions import backsub, fwdsub, LU\n",
    "def LUSolve(L,U,P,v):\n",
    "    v = P@v\n",
    "    y = fwdsub(L,v)\n",
    "    x = backsub(U,y)\n",
    "    return x\n",
    "\n",
    "t = np.array([1.,2,3,4,5,6,7])\n",
    "y1 = np.array([10,15,-1,2,-4,5,10])\n",
    "y2 = np.array([10,13,0,2,-3,5,11])\n",
    "y3 = np.array([11.,14,-1,3,-5,4,9])\n",
    "rows = t.shape[0]\n",
    "A = np.zeros((rows,rows))\n",
    "for i in range(0,rows):\n",
    "    x = pow(t,i)\n",
    "    A[:,i] = x\n",
    "A = np.fliplr(A)\n",
    "#np.set_printoptions(precision=10)\n",
    "np.set_printoptions(suppress=True)\n",
    "print(A)\n",
    "\n",
    "U,L,P = LU(A)\n",
    "print(LUSolve(L,U,P,y1))\n",
    "print(LUSolve(L,U,P,y2))\n",
    "print(LUSolve(L,U,P,y3))"
   ]
  },
  {
   "cell_type": "markdown",
   "metadata": {},
   "source": [
    "The matrix $A$ is going to be the same in every case because here we are using the same values of t (time) as our \"x\" in order to generate a 6-degree polynomial that fits the data given. In utilizing the data from $y_1$, $y_2$, and $y_3$, we can generate coefficients for each of the \"x\" values in the polynomial (the values that are in our $A$ matrix) that best fit each data set. Here, $A$ is represented by the following matrix.\n",
    "\n",
    "$$\\begin{bmatrix} \n",
    "1&1&1&1&1&1&1\\\\\n",
    "64&32&16&8&4&2&1\\\\\n",
    "729&243&81&27&9&3&1\\\\\n",
    "4096&1024&256&64&16&4&1\\\\\n",
    "15625&3125&625&125&25&5&1\\\\\n",
    "46656&7776&1296&216&36&6&1\\\\\n",
    "117649&16807&2401&343&49&7&1\\end{bmatrix}$$\n",
    "\n",
    "\n",
    "$$\\begin{align*} y_1 = -0.30x^6 + 7.27x^5 - 70.09x^4 + 339.48x^3 - 859.61x^2 + 1052.25x - 459 \\\\ y_2 = -0.24x^6 + 5.81x^5 - 55.89x^4 + 270.13x^3 - 682.37x^2 + 832.57x - 360 \\\\ y_3 = -0.33x^6 +8.01x^5 - 76.68x^4 + 368.13x^3 - 921.99x^2 + 1114.87x - 481\\end{align*}$$"
   ]
  },
  {
   "cell_type": "markdown",
   "metadata": {},
   "source": [
    "### Homework Question 2\n",
    "Write a function called `LUSolve(L,U,P,v)` that does the following given an LU decomposition of a matrix $A$:\n",
    "1. First, multiplies the vector $v$ by $P$, as we discussed was needed.<br><br>\n",
    "1. Solves $Ly=Pv$ by forward substition.<br><br>\n",
    "1. Lastly, solves $Ux=y$ to find the solution of $Ax=v$.\n",
    "\n",
    "Test your function on the data above. "
   ]
  },
  {
   "cell_type": "code",
   "execution_count": 25,
   "metadata": {},
   "outputs": [
    {
     "name": "stdout",
     "output_type": "stream",
     "text": [
      "[  -0.2986111111    7.2708333333  -70.0902777778  339.4791666666\n",
      " -859.6111111111 1052.25         -459.          ]\n",
      "[  -0.2388888889    5.8083333333  -55.8888888889  270.125\n",
      " -682.3722222222  832.5666666666 -360.          ]\n",
      "[  -0.3305555556    8.0083333333  -76.6805555556  368.125\n",
      " -921.9888888888 1114.8666666666 -481.          ]\n"
     ]
    }
   ],
   "source": [
    "def LUSolve(L,U,P,v):\n",
    "    v = P@v\n",
    "    y = fwdsub(L,v)\n",
    "    x = backsub(U,y)\n",
    "    return x\n",
    "\n",
    "\n",
    "print(LUSolve(L,U,P,y1))\n",
    "print(LUSolve(L,U,P,y2))\n",
    "print(LUSolve(L,U,P,y3))"
   ]
  },
  {
   "cell_type": "markdown",
   "metadata": {},
   "source": [
    "Note that since the matrix $A$ is always the same, we only have to use our $LU$ decomposition code once! This is much faster than having to do the row-reduction over and over for each output vector. The LU decomposition encodes the process of row-reduction in the lower-triangular matrix $L$, thus avoiding the need to recompute it.\n",
    "\n",
    "Lastly, if you look at the data sets given above, you may notice that they are all quite similar to each other numerically. Yet the polynomials you generated are rather vastly different from each other. This is a serious problem. We say that the polynomial model has high *variance*. We will study this further in future labs.\n",
    "\n",
    "### Homework Question 3\n",
    "\n",
    "Write code that takes a set of *n* times (as a vector) and the outcomes of a number (say, *m*) of different experiments with measurements at those times (as an $m\\times n$ array), and returns the coefficients of polynomials that fit each set of measurements. Your code should use LU decomposition and your `LUSolve(L,U,P,v)` function to make it as efficient as possible. Test your code on the above data."
   ]
  },
  {
   "cell_type": "code",
   "execution_count": 31,
   "metadata": {},
   "outputs": [
    {
     "name": "stdout",
     "output_type": "stream",
     "text": [
      "[[  -0.2986111111    7.2708333333  -70.0902777778  339.4791666666\n",
      "  -859.6111111111 1052.25         -459.          ]\n",
      " [  -0.2388888889    5.8083333333  -55.8888888889  270.125\n",
      "  -682.3722222222  832.5666666666 -360.          ]\n",
      " [  -0.3305555556    8.0083333333  -76.6805555556  368.125\n",
      "  -921.9888888888 1114.8666666666 -481.          ]]\n"
     ]
    }
   ],
   "source": [
    "def nxm(n,m):\n",
    "    rows = n.shape[0]\n",
    "    A = np.zeros((rows,rows))\n",
    "    for i in range(0,rows):\n",
    "        x = pow(n,i)\n",
    "        A[:,i] = x\n",
    "    A = np.fliplr(A)\n",
    "    U,L,P = LU(A)\n",
    "    ret = np.zeros((m.shape[0],m.shape[1]))\n",
    "    for i in range(m.shape[0]):\n",
    "       ret[i] = (LUSolve(L,U,P,m[i]))\n",
    "    return ret\n",
    "    \n",
    "t = np.array([1.,2,3,4,5,6,7])\n",
    "y1 = np.array([10,15,-1,2,-4,5,10])\n",
    "y2 = np.array([10,13,0,2,-3,5,11])\n",
    "y3 = np.array([11.,14,-1,3,-5,4,9])\n",
    "y = np.array([[10,15,-1,2,-4,5,10],[10,13,0,2,-3,5,11],[11.,14,-1,3,-5,4,9]])\n",
    "\n",
    "print(nxm(t,y))"
   ]
  },
  {
   "cell_type": "markdown",
   "metadata": {},
   "source": [
    "### Homework Question 4 \n",
    "\n",
    "Suppose you have a number of different output vectors $\\vec{c}$ for the same set of equations. We have two different ways of solving $A\\vec{x}=\\vec{c}$:\n",
    "\n",
    "* Row reduce the augmented matrix $[A|\\vec{c}]$, then back substitute. Repeat for every different $\\vec{c}$.<br><br>\n",
    "\n",
    "* Find the $PA=LU$ decomposition of $A$, then use our `LUSolve(L,U,P,v)` function we wrote above.\n",
    "\n",
    "Explain why we expect the second method to be far more efficient than the first if we have many different output vectors."
   ]
  },
  {
   "cell_type": "markdown",
   "metadata": {},
   "source": [
    "If we try to do Gaussian elimination for many different output vectors, this means we have to reduce the augmented matrix for every single output vector even though the left side of the matrix is the exact same every time. This takes an immense amount of time and floating point operations. On the other hand, using decomposition takes $n^2$ floating point operations and is much cheaper/faster. This is because although the initial decomposition of$A$ into $PA=LU$ is fairly expensive, the subsequent operations necessary to solve for a number of different output vectors are just back-substitution and forward-substitution, which are fairly fast, and we simply reuse the matrices we found in the decomposition step for these fast operations."
   ]
  },
  {
   "cell_type": "markdown",
   "metadata": {},
   "source": [
    "### Homework Question 5\n",
    "\n",
    "Let's examine once again the *LU* decomposition of the matrix from the last homework: $$A=\\begin{bmatrix} 10^{-4} & 0 & 10^4 \\\\ 10^4 & 10^{-4} & 0 \\\\ 0 & 10^4 & 1\\end{bmatrix}.$$\n",
    "\n",
    "As you saw in the lab, the code for *LU* decomposition without pivoting results in matrices *L* and *U* such that $A\\neq LU$.\n",
    "\n",
    "* By looking back at Question 4 from the lab and the work you did on floating point errors on Homework 3, explain exactly why you get the incorrect result you saw.\n",
    "\n",
    "* Compute by hand the *PA=LU* decomposition for this matrix. Do you still expect a floating point error to occur? Explain why in this case, we still get the right answer using our `LU(A)` code."
   ]
  },
  {
   "cell_type": "markdown",
   "metadata": {},
   "source": [
    "This is because without pivoting here, we end up having to do various functions between values that are extremely disparate (ie one is very small and the other is very large), like subtracting a very small number from a very large number. Because python can only retain 15 significant digits of information, when we use over 15 significant digits with LU decomposition here, we lose information. However, if we include pivoting, we will not encounter a floating point error. This is because by placing the largest pivot at the top of the matrix, and using that large pivot to eliminate smaller non-pivot values in that column, we eliminate by dividing this large value and its row's values, and no longer have the risk of adding a very large number to a much smaller number that may occur when we choose a very small pivot to eliminate other rows."
   ]
  },
  {
   "cell_type": "code",
   "execution_count": 35,
   "metadata": {},
   "outputs": [
    {
     "name": "stdout",
     "output_type": "stream",
     "text": [
      "[[    0.0001     0.     10000.    ]\n",
      " [10000.         0.0001     0.    ]\n",
      " [    0.     10000.         1.    ]]\n",
      "[[10000.         0.0001     0.    ]\n",
      " [    0.     10000.         1.    ]\n",
      " [    0.0001     0.     10000.    ]]\n",
      "[[10000.         0.0001     0.    ]\n",
      " [    0.     10000.         1.    ]\n",
      " [    0.0001     0.     10000.    ]]\n"
     ]
    }
   ],
   "source": [
    "a = np.array([[0.0001,0,10000],[10000,.0001,0],[0,10000,1]])\n",
    "print(a)\n",
    "\n",
    "U,L,P = LU(a)\n",
    "print(P@a)\n",
    "print(L@U)"
   ]
  },
  {
   "cell_type": "markdown",
   "metadata": {},
   "source": [
    "### Optional Bonus Question\n",
    "\n",
    "Write code that takes the coefficients of a polynomial and prints the polynomial with the coefficients printed to two decimal places. You should research Python functions that help you."
   ]
  },
  {
   "cell_type": "code",
   "execution_count": 53,
   "metadata": {},
   "outputs": [
    {
     "name": "stdout",
     "output_type": "stream",
     "text": [
      "[  -0.2388888889    5.8083333333  -55.8888888889  270.125\n",
      " -682.3722222222  832.5666666666 -360.          ]\n",
      "[  -0.24    5.81  -55.89  270.12 -682.37  832.57 -360.  ]\n"
     ]
    }
   ],
   "source": [
    "def coefficients(poly,decimal):\n",
    "    copy = np.full_like(poly,0.)\n",
    "    num = poly.shape[0]\n",
    "    for i in range (num) :\n",
    "        copy[i] = '%.2f' %poly[i]\n",
    "    return copy\n",
    "example = nxm(t,y)\n",
    "print(example[1])\n",
    "print(coefficients(example[1],2))\n",
    "\n",
    "# %.2f gets 2 decimal places and print out the matrix here."
   ]
  }
 ],
 "metadata": {
  "kernelspec": {
   "display_name": "Python 3",
   "language": "python",
   "name": "python3"
  },
  "language_info": {
   "codemirror_mode": {
    "name": "ipython",
    "version": 3
   },
   "file_extension": ".py",
   "mimetype": "text/x-python",
   "name": "python",
   "nbconvert_exporter": "python",
   "pygments_lexer": "ipython3",
   "version": "3.8.8"
  }
 },
 "nbformat": 4,
 "nbformat_minor": 2
}

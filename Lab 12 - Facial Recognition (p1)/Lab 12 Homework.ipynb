{
 "cells": [
  {
   "cell_type": "markdown",
   "metadata": {},
   "source": [
    "> ## Make a copy of this notebook (File menu -> Make a Copy...)\n",
    "\n",
    "### Homework Question 1\n",
    "Consider a line through the origin that makes an angle $\\frac{\\theta}{2}$ with $x$ axis (that is, the line you get when you rotate the $x$ axis $\\frac{\\theta}{2}$ anti-clockwise). \n",
    "* If you reflect the vector $e_1=\\begin{bmatrix}1\\\\0\\end{bmatrix}$ and $e_2=\\begin{bmatrix}0\\\\1\\end{bmatrix}$ in this line, what vectors result? Justify your answer with a sketch or otherwise.<br><br>\n",
    "* Show that this reflection is the same as the action of the matrix $B=\\begin{bmatrix}\\cos\\theta & \\sin\\theta \\\\ \\sin\\theta & -\\cos\\theta\\end{bmatrix}$<br><br>\n",
    "* Carry out the a similar analysis for the other $2\\times 2$ orthogonal matrix with determinant $-1$.<br><br>"
   ]
  },
  {
   "cell_type": "markdown",
   "metadata": {},
   "source": []
  },
  {
   "cell_type": "markdown",
   "metadata": {},
   "source": [
    "### Homework Question 2\n",
    "Suppose that we have a $2\\times n$ matrix $X$ representing $n$ points in the plane. Suppose that the average value of the points is $(0,0)$ (or just subtract their average), and that $X=USV^T$ is the reduced SVD of $X$. By reference to Questions 15 and 16 from the lab, explain what the matrix $\\sqrt{n}V^T$ represents in terms of the data.<br><br>\n",
    "\n",
    "**Note:** The matrix $\\sqrt{n}V^T$ is sometimes referred to as the *standardized scores* of the data."
   ]
  },
  {
   "cell_type": "markdown",
   "metadata": {},
   "source": []
  },
  {
   "cell_type": "markdown",
   "metadata": {},
   "source": [
    "### Homework Question 3\n",
    "Let $U_n$ be the first $n$ columns of $U$ (in our case, $U_1$ is the first column, and $U_2=U$, since there are only two columns). Consider the product $U_1^TX$, where $X$ is our normalized (avg = 0) data. Compute it and compare it to $S_1V^T_1$. Explain your result. How would you compute the projection onto the first principal direction using $U_1^TX$ instead of computing $U_1S_1V^T_1$?<br><br>\n",
    "\n",
    "**Note:** The method this question is far more efficient than the one in the lab, as it requires multiplication of smaller matrices. We will use this idea in the next lab. We can view the product $U_1^TX$ as the position along the first principal axis of a given face. In other words, it's a set of *coordinates*, one for each face."
   ]
  },
  {
   "cell_type": "markdown",
   "metadata": {},
   "source": []
  },
  {
   "cell_type": "markdown",
   "metadata": {},
   "source": [
    "### Homwork Question 4\n",
    "Hand in your six plots with brief explanations of each."
   ]
  },
  {
   "cell_type": "markdown",
   "metadata": {},
   "source": []
  },
  {
   "cell_type": "code",
   "execution_count": 0,
   "metadata": {},
   "outputs": [],
   "source": []
  }
 ],
 "metadata": {
  "kernelspec": {
   "display_name": "Python 3",
   "language": "python",
   "name": "python3"
  },
  "language_info": {
   "codemirror_mode": {
    "name": "ipython",
    "version": 3
   },
   "file_extension": ".py",
   "mimetype": "text/x-python",
   "name": "python",
   "nbconvert_exporter": "python",
   "pygments_lexer": "ipython3",
   "version": "3.8.8"
  }
 },
 "nbformat": 4,
 "nbformat_minor": 2
}

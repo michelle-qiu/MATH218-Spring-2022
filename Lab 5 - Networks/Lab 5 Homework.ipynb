{
 "cells": [
  {
   "cell_type": "markdown",
   "metadata": {},
   "source": [
    "> ## Make a copy of this notebook (File menu -> Make a Copy...)\n",
    "\n",
    "### Homework Question 1\n",
    "\n",
    "Rewrite your `PageRank(A)` function to compute the PageRank vector given our new defintion. It should now be `PageRank(A,p)`, given a value of $p$. You may want to use the `np.ones_like(A)` command to help you create the matrix $B$. Don't forget to account for dangling nodes!"
   ]
  },
  {
   "cell_type": "code",
   "execution_count": 33,
   "metadata": {},
   "outputs": [
    {
     "name": "stdout",
     "output_type": "stream",
     "text": [
      "[0.36815068 0.14180936 0.28796163 0.20207834]\n",
      "[0.21276596 0.21276596 0.57446809]\n",
      "[0.2 0.2 0.2 0.2 0.2]\n"
     ]
    }
   ],
   "source": [
    "import numpy as np\n",
    "from rref import rref \n",
    "\n",
    "def PageRank(A,p):\n",
    "    rows,cols = A.shape\n",
    "    for i in range (cols):\n",
    "        if (np.all(A[:,i] == 0)):\n",
    "            A[:,i] = 1/cols\n",
    "    B = (p/rows)*np.ones_like(A)\n",
    "    P = (1-p)*A + B\n",
    "    I = np.identity(rows)\n",
    "    newA = rref(P-I)\n",
    "    v = newA[:,rows-1]\n",
    "    v = -v\n",
    "    v[rows-1] = 1\n",
    "    v = v/(np.sum(v))\n",
    "    return v\n",
    "    \n",
    "    \n",
    "A1 = np.array([[0,0,1,.5],[1/3,0,0,0],[1/3,.5,0,.5],[1/3,.5,0,0]])\n",
    "A2 = np.array([[0,0,0],[0.,0,0],[1,1,0]])\n",
    "A3 = np.array([[0,1,0,0,0],[1,0,0,0,0],[0,0,0,.5,.5],[0,0,.5,0,.5],[0,0,.5,.5,0]])\n",
    "print(PageRank(A1,.15))\n",
    "print(PageRank(A2,.15))\n",
    "print(PageRank(A3,.15))"
   ]
  },
  {
   "cell_type": "markdown",
   "metadata": {},
   "source": [
    "### Homework Question 2\n",
    "\n",
    "Draw a disconnected network with three nodes in one component and five in the other. Write down the link matrix for your network. Generate PageRank vectors for your network with various damping factors ranging from zero to one. Comment on and attempt to explain your results. Pay attention to the pattern of individual node probabilities as the damping factors increases, as well as to the probability of being in each component in the long-term. \n",
    "\n",
    "**Note:** Use [this link](https://graphonline.ru/en/) to draw your network. Once you have put in the vertices and the links, you can use Algorithms $\\rightarrow$ Arrange the Graph to make your network look nice. Then download the image and embed it in your MarkDown below (see the images in the lab to get code to do this)."
   ]
  },
  {
   "cell_type": "markdown",
   "metadata": {},
   "source": [
    "![alt text](pagerank.png \"pagerank\")\n"
   ]
  },
  {
   "cell_type": "code",
   "execution_count": 45,
   "metadata": {},
   "outputs": [
    {
     "name": "stdout",
     "output_type": "stream",
     "text": [
      "[0.33333333 0.33333333 0.33333333]\n",
      "[0.33333333 0.33333333 0.33333333]\n",
      "[0.33333333 0.33333333 0.33333333]\n",
      "[0.33333333 0.33333333 0.33333333]\n",
      "[0.33333333 0.33333333 0.33333333] \n",
      "\n",
      "[-0. -0. -0. -0.  1.]\n",
      "[-0. -0. -0. -0.  1.]\n",
      "[-0. -0. -0. -0.  1.]\n",
      "[-0. -0. -0. -0.  1.]\n",
      "[-0. -0. -0. -0.  1.]\n",
      "[-0. -0. -0. -0.  1.]\n",
      "[-0. -0. -0. -0.  1.]\n",
      "[-0. -0. -0. -0.  1.]\n",
      "[-0. -0. -0. -0.  1.]\n",
      "[0.2 0.2 0.2 0.2 0.2]\n"
     ]
    }
   ],
   "source": [
    "A1 = np.array([[0,1,0],[1,0,0],[1,0,0]])\n",
    "A2 = np.array([[0,0,1,0,1],[0,0,0,1,0],[1,1,0,1,0],[0,0,0,0,1],[1,1,0,1,0]])\n",
    "print(PageRank(A1,.0))\n",
    "print(PageRank(A1,.20))\n",
    "print(PageRank(A1,.30))\n",
    "print(PageRank(A1,.40))\n",
    "print(PageRank(A1,.50), \"\\n\")\n",
    "print(PageRank(A2,.10))\n",
    "print(PageRank(A2,.20))\n",
    "print(PageRank(A2,.30))\n",
    "print(PageRank(A2,.40))\n",
    "print(PageRank(A2,.50))\n",
    "print(PageRank(A2,.60))\n",
    "print(PageRank(A2,.70))\n",
    "print(PageRank(A2,.80))\n",
    "print(PageRank(A2,.90))\n",
    "print(PageRank(A2,1))\n"
   ]
  },
  {
   "cell_type": "markdown",
   "metadata": {},
   "source": [
    "### Homework Question 3\n",
    "\n",
    "Draw a four node connected network such that three of the nodes all connect to one another, and the fourth has links from the other three, but does not link to anything. Then do a similar analysis to the one in the previous question. Include a picture of your network."
   ]
  },
  {
   "cell_type": "markdown",
   "metadata": {},
   "source": []
  },
  {
   "cell_type": "code",
   "execution_count": 0,
   "metadata": {},
   "outputs": [],
   "source": []
  },
  {
   "cell_type": "markdown",
   "metadata": {},
   "source": [
    "### Homework Question 4\n",
    "\n",
    "This question will ask you to explore some properties of link matrices for networks with different properties.\n",
    "\n",
    "  1. Show that the link matrix for a connected network with dangling nodes is necesarily *not* Markov.<br><br>\n",
    "  1. Show that the link matrix for a disconnected network is necessarily non-positive (that is, it has some entries that are not positive numbers).<br><br>\n",
    "  1. Use the probabilistic interpretation of the link matrix to argue why, for the link matrix $A$ of a disconnected network, $A^k$ is never positive for all integers $k>0$ (that is, for any value of $k$, explain why $A^k$ will always have zero entries).<br><br>\n",
    "  1. Suppose that in a network, a particular page has links to other pages, but no page links to it. What can you say about the entry corresponding to that page in the PageRank vector with damping factor 0? Explain.<br><br>\n",
    "  1. Show that by if $B$ is a Markov matrix of the same size as a given Markov link matrix for a network, in which all entries are equal, then for $0<p<1$, the matrix $(1-p)A+pB$ is positive and Markov.<br><br>\n",
    "  1. Draw a connected network such that a subset of nodes can only be reached on even steps, and the rest can only be reached on odd steps. Such a network is called a *2-periodic* network. Examine powers $A^k$ of the link matrix for your network for various $k$ and comment on them. (Bonus points: can you draw a 3-periodic network all of whose nodes have both incoming and outgoing links?)"
   ]
  },
  {
   "cell_type": "markdown",
   "metadata": {},
   "source": [
    "1. Each of Markov matrices' columns sum to one. A link matrix with dangling nodes can't be markov because there is bound to be a zero column when at least one node does not point to the others.\n",
    "2. A disconnected network must have non-positive (zero) entries because groupings of disconnected nodes can't point to each others.\n",
    "3. There will always be zero entries because the non-positive values are going to be multiplied against each other (they match up)\n",
    "4. In the pagerank vector, this must be zero because we can never access this page unless we start on it because we have a damping value of 0.\n",
    "5. We know it's positive because we know B has all positive, equal values. We know it's markov because A and B are Markov.\n",
    "6. (describes a partition matrix whose nodes are only connected to those on the opposite partition)."
   ]
  }
 ],
 "metadata": {
  "kernelspec": {
   "display_name": "Python 3",
   "language": "python",
   "name": "python3"
  },
  "language_info": {
   "codemirror_mode": {
    "name": "ipython",
    "version": 3
   },
   "file_extension": ".py",
   "mimetype": "text/x-python",
   "name": "python",
   "nbconvert_exporter": "python",
   "pygments_lexer": "ipython3",
   "version": "3.8.8"
  }
 },
 "nbformat": 4,
 "nbformat_minor": 2
}

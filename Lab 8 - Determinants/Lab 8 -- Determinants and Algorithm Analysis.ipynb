{
 "cells": [
  {
   "cell_type": "markdown",
   "metadata": {},
   "source": [
    "# Determinants\n",
    "\n",
    "In class, we encountered the notion of the *determinant* of a square matrix. Today, we will study how determinants are computed in practice. Along the way, we will experimentally do some *algorithm analysis*. That is, we will find that certain ways of computing the very same quantity can be much more efficient than others.\n",
    "\n",
    "> ## Make a copy of this notebook (File menu -> Make a Copy...)\n",
    "\n",
    "First, a reminder of work from class:\n",
    "\n",
    "**Question 1** \n",
    "1. If $I_n$ is the $n\\times n$ identity matrix, then what is $det(I_n)=|I_n|$?<br><br>\n",
    "1. If $A$ and $B$ are two $n\\times n$ matrices, then what is another way to express $|AB|$?<br><br>\n",
    "1. Suppose that $A$ is an $n\\times n$ matrix, and let its $(i,j)$ entry be denoted $a_{i,j}$. What is the definition of the *minor* $M_{i,j}$?<br><br>\n",
    "1. Suppose that $i=1$. Write a formula for $|A|$ in terms of $a_{1,j}$ and $M_{1,j}$ for $1\\leq j\\leq n$ (or take $i=0$ and $0\\leq j < n$ if you prefer NumPy notation).<br><br>\n",
    "1. Suppose that $U$ is an upper triangular matrix. Use the formula you wrote down above to find a simple expression for $|U|$.<br><br>\n",
    "1. What can you say about the determinant of $A^T$, the transpose of $A$?<br><br>\n",
    "1. Use your answer to the second question above, and the question you just answered, to show that the determinant of an orthonormal matrix $Q$ must be $1$ or $-1$.\n",
    "\n",
    "\n",
    "## Computing Determinants\n",
    "\n",
    "**Question 2** First, write a function called `det2(A)` that takes a $2\\times 2$ matrix and returns its determinant. While you're at it, build in some error-checking: make sure that your function only accepts $2\\times 2$ matrices. In Python, errors are *raised*:\n",
    "```python\n",
    "raise ValueError('The matrix is not a 2x2!')\n",
    "```"
   ]
  },
  {
   "cell_type": "code",
   "execution_count": 6,
   "metadata": {},
   "outputs": [
    {
     "data": {
      "text/plain": [
       "-3"
      ]
     },
     "execution_count": 6,
     "metadata": {},
     "output_type": "execute_result"
    }
   ],
   "source": [
    "import numpy as np\n",
    "def det2(A):\n",
    "    row, col = A.shape\n",
    "    if (row==2 | col==2):\n",
    "        return A[0][0]*A[1][1] - A[0][1]*A[1][0]\n",
    "    else:\n",
    "        raise ValueError('The matrix is not a 2x2!')\n",
    "A = np.array([[-1,1],[1,2]])\n",
    "det2(A)"
   ]
  },
  {
   "cell_type": "markdown",
   "metadata": {},
   "source": [
    "**Question 3** Write a function `minor(A,i,j)` that returns the $(i,j)$ minor of a matrix $A$. Two ways to do this are: create a matrix of the right size, then fill it with four different slices of your original matrix (this is the fastest, I believe); or research and use the `np.delete()` function. There are also other ways!"
   ]
  },
  {
   "cell_type": "code",
   "execution_count": 9,
   "metadata": {},
   "outputs": [
    {
     "name": "stdout",
     "output_type": "stream",
     "text": [
      "[[-1  1  0]\n",
      " [ 1  2  3]\n",
      " [ 0  1  2]]\n"
     ]
    },
    {
     "data": {
      "text/plain": [
       "array([[-1,  1],\n",
       "       [ 0,  1]])"
      ]
     },
     "execution_count": 9,
     "metadata": {},
     "output_type": "execute_result"
    }
   ],
   "source": [
    "def minor(A,i,j):\n",
    "    B = np.delete(A,i, axis=0)\n",
    "    B = np.delete(B,j, axis=1)\n",
    "    return B\n",
    "A = np.array([[1,2,3],[4,5,6],[7,8,9]])\n",
    "B = np. array([[-1,1,0],[1,2,3],[0,1,2]])\n",
    "\n",
    "print(B)\n",
    "minor(B,1,2)"
   ]
  },
  {
   "cell_type": "markdown",
   "metadata": {},
   "source": [
    "**Question 4** Use the two functions you just wrote and the answer to the question in the fourth bullet point of Question 1 to write a function called `det3(A)` that computes the determinant of a $3\\times 3$ matrix. Test out your code."
   ]
  },
  {
   "cell_type": "code",
   "execution_count": 10,
   "metadata": {},
   "outputs": [
    {
     "name": "stdout",
     "output_type": "stream",
     "text": [
      "3\n"
     ]
    }
   ],
   "source": [
    "def det3(A):\n",
    "    totaldet = 0\n",
    "    i = 0\n",
    "    for j in range (0,3):\n",
    "        m = minor(A,i,j)\n",
    "        d2 = det2(m)\n",
    "        totaldet+= ((-1)**(i+j))*A[i,j]* d2\n",
    "    return totaldet\n",
    "\n",
    "A = np.array([[1,2,3],[4,5,6],[7,8,9]])\n",
    "B = np. array([[1,1,0],[-1,2,3],[0,1,2]])\n",
    "print (det3(B))"
   ]
  },
  {
   "cell_type": "markdown",
   "metadata": {},
   "source": [
    "**Question 5** A *recursive* function is a function that calls itself. For example, consider the function:\n",
    "```python\n",
    "def prod(lst):\n",
    "    ans = 1    \n",
    "    if len(lst) == 1:\n",
    "        ans = lst[0]\n",
    "    else:\n",
    "        ans = lst[0] * prod(lst[1:])    \n",
    "    return ans\n",
    "```\n",
    "\n",
    "Explain what this function does given a list of numbers and how it does it."
   ]
  },
  {
   "cell_type": "code",
   "execution_count": 0,
   "metadata": {},
   "outputs": [],
   "source": []
  },
  {
   "cell_type": "markdown",
   "metadata": {},
   "source": [
    "**Question 6** Write a recursive function `det(A)` that takes a square matrix (make sure you check it's square!) and returns its determinant."
   ]
  },
  {
   "cell_type": "code",
   "execution_count": 11,
   "metadata": {},
   "outputs": [
    {
     "name": "stdout",
     "output_type": "stream",
     "text": [
      "-2\n"
     ]
    }
   ],
   "source": [
    "def det(A):\n",
    "    rows,cols = A.shape\n",
    "    i = 0\n",
    "    totaldet = 0\n",
    "    if (rows!=cols):\n",
    "        raise ValueError('The matrix is not square!')\n",
    "    if (rows == cols ==2):\n",
    "        return det2(A)\n",
    "    for j in range (rows):\n",
    "        m = minor(A,i,j)\n",
    "        totaldet+= ((-1)**(i+j))*A[i,j]* det(m)\n",
    "    return totaldet\n",
    "\n",
    "B = np. array([[1,1,0],[-1,2,3],[0,1,2]])\n",
    "C = np.array([[1,-1,-1,1],[1,2,3,4],[0,1,2,3],[1,2,4,6]])\n",
    "print (det(C)) "
   ]
  },
  {
   "cell_type": "markdown",
   "metadata": {},
   "source": [
    "## Analyzing your Code\n",
    "\n",
    "**Question 7** By using the `np.random.randint(n,n)` command, generate a series of square matrices from size $3\\times 3$ to $9\\times 9$. Then run \n",
    "```python\n",
    "%timeit det(A)\n",
    "```\n",
    "on each of them. Comment on your results. Approximately how long do you think it would take your code to compute the determinant of a $10\\times 10$ matrix? Test that out!"
   ]
  },
  {
   "cell_type": "code",
   "execution_count": 12,
   "metadata": {},
   "outputs": [
    {
     "name": "stdout",
     "output_type": "stream",
     "text": [
      "137 µs ± 3.9 µs per loop (mean ± std. dev. of 7 runs, 10000 loops each)\n",
      "697 µs ± 25.9 µs per loop (mean ± std. dev. of 7 runs, 1000 loops each)\n",
      "3.69 ms ± 199 µs per loop (mean ± std. dev. of 7 runs, 100 loops each)\n",
      "21.7 ms ± 502 µs per loop (mean ± std. dev. of 7 runs, 10 loops each)\n",
      "150 ms ± 2.41 ms per loop (mean ± std. dev. of 7 runs, 10 loops each)\n",
      "1.23 s ± 35.2 ms per loop (mean ± std. dev. of 7 runs, 1 loop each)\n",
      "11.2 s ± 348 ms per loop (mean ± std. dev. of 7 runs, 1 loop each)\n"
     ]
    }
   ],
   "source": [
    "for i in range (3,10):\n",
    "    A = np.random.randint(10,size = (i,i))\n",
    "    %timeit det(A)"
   ]
  },
  {
   "cell_type": "markdown",
   "metadata": {},
   "source": [
    "I believe it will take approximately 10x more time than it took to compute a 9x9 matrix."
   ]
  },
  {
   "cell_type": "markdown",
   "metadata": {},
   "source": [
    "**Question 8** By considering how many multiplications your code executes to compute the determinant of an $n\\times n$ matrix, explain your timing results above.\n",
    "\n",
    "As you can probably see now, it would be really impractical to use this code to compute the determinant of, say, a $100\\times 100$ matrix. We need to find a better way!"
   ]
  },
  {
   "cell_type": "markdown",
   "metadata": {},
   "source": [
    "## Using Decompositions to Compute Determinants\n",
    "\n",
    "**Question 9** Suppose you had an QR decomposition of a matrix $A$. That is, you know that $A=QR$, where $Q$ is orthonormal and $R$ is upper triangular. \n",
    "1. What do you know about the determinant of $Q$?<br><br>\n",
    "1. Suppose you knew the determinant of $R$. Would you be able to determine the determinant of $A$? If not, how close could you get?<br><br>\n",
    "1. Why is it very easy (and quick!) to compute the deteminant of $R$?<br><br>\n",
    "1. Write a function called `QRdet(A)` that uses your QR code from the last lab to compute the determinant of $A$ as best you can (given the limitation you wrote down above). Test your code by generating some matrices and comparing to the determinants your previous function computed.<br><br>\n",
    "1. Run timing tests for your new function on random matrices from size 3 to size 9. How do your answers compare to the ones above? Is it feasible to use your code to compute the determinant of a $100\\times 100$ matrix? If you think so, try! "
   ]
  },
  {
   "cell_type": "code",
   "execution_count": 0,
   "metadata": {},
   "outputs": [],
   "source": []
  },
  {
   "cell_type": "markdown",
   "metadata": {},
   "source": [
    "**Question 10** Suppose we have an $LU$ decomposition of a matrix $A$: $PA=LU$. \n",
    "1. How can you easily (and quickly) compute the determinant of $U$?<br><br>\n",
    "1. What is the determinant of $L$? Why?<br><br>\n",
    "1. What else do you need to know to completely determine the determinant of $A$?"
   ]
  },
  {
   "cell_type": "markdown",
   "metadata": {},
   "source": [
    "1. To compute the determinant of U we can just multiply all of the diagonals together because it is an upper triangular matrix.\n",
    "2. To compute the determinant of L, we know it must be 1 because its diagonals are all 1.\n",
    "3. To compute P, if it is an even # row swaps, it is +1, if it is negative, it is negative 1."
   ]
  },
  {
   "cell_type": "markdown",
   "metadata": {},
   "source": [
    "### Determinants of Permutation Matrices\n",
    "\n",
    "The matrix $P$ in the decomposition $PA=LU$ is a permutation matrix. Recall that all it does is swap the rows of $A$. \n",
    "\n",
    "**Question 11** \n",
    "1. How do you transform the identity matrix into a permutation matrix?<br><br>\n",
    "1. Starting from the identity matrix, swap two of its rows. What is the determinant of the resulting matrix?<br><br>\n",
    "1. Swap rows again. What is the determinant now?<br><br>\n",
    "1. Once more! What is the determinant now?<br><br>\n",
    "1. Suppose that to get $P$, we swapped rows $k$ times. What is the determinant of $P$?\n",
    "\n",
    "**Question 12** Based on your LU code, write a function called `LUdet(A)` that uses the LU decompsition to compute the determinant of $A$. Test your code and run some timing tests. How does this compare to your QR-based determinant code above?"
   ]
  },
  {
   "cell_type": "code",
   "execution_count": 38,
   "metadata": {
    "scrolled": true
   },
   "outputs": [
    {
     "name": "stdout",
     "output_type": "stream",
     "text": [
      "-2.0\n",
      "-1.9999999999999996\n"
     ]
    }
   ],
   "source": [
    "from Qiureferencefunctions import swaprows, rowaddmult\n",
    "def LUdet(A):\n",
    "    rows,cols = A.shape\n",
    "    copy = A.copy()\n",
    "    pivotcol = 0\n",
    "    pivotrow = 0\n",
    "    i = 1\n",
    "    numswaps =0\n",
    "    zero = np.zeros((rows,cols))\n",
    "    perm = np.eye(rows)\n",
    "    cool = (copy,zero,perm) #U,L,P, \n",
    "    while((pivotcol<cols) & (pivotrow<rows)):\n",
    "        while(i<rows):\n",
    "            maxe = np.argmax(abs(copy[pivotrow:,pivotcol])) +pivotrow\n",
    "            if (maxe > pivotrow):\n",
    "                swaprows(perm,maxe,pivotrow)\n",
    "                swaprows(zero,maxe,pivotrow)\n",
    "                numswaps+=1\n",
    "                copyrow = (copy[pivotrow]).copy();\n",
    "                copy[pivotrow] = (copy[maxe]).copy();\n",
    "                copy[maxe] = copyrow;\n",
    "            multval = (-1*copy[i,pivotcol])/(copy[pivotrow,pivotcol])\n",
    "            rowaddmult(copy,pivotrow,i,(multval))\n",
    "            zero[i,pivotrow] = -multval\n",
    "            i+=1\n",
    "        pivotcol+=1\n",
    "        pivotrow+=1\n",
    "        i = pivotrow+1\n",
    "    np.fill_diagonal(zero,1.)\n",
    "    Udet = np.prod(np.diag(copy))\n",
    "    numswaps = numswaps%2\n",
    "    Pdet = (-1)**numswaps\n",
    "    return Udet*Pdet\n",
    "\n",
    "\n",
    "B = np. array([[1,1,0],[-1,2.,3],[0,1,2]])\n",
    "C = np.array([[1,-1,-1,1],[1,2,3,4],[0.,1,2,3],[1,2,4,6]])\n",
    "print (det(C)) \n",
    "print(LUdet(C))"
   ]
  },
  {
   "cell_type": "code",
   "execution_count": 40,
   "metadata": {},
   "outputs": [
    {
     "name": "stdout",
     "output_type": "stream",
     "text": [
      "56.3 µs ± 4.66 µs per loop (mean ± std. dev. of 7 runs, 10000 loops each)\n",
      "285 µs ± 29 µs per loop (mean ± std. dev. of 7 runs, 1000 loops each)\n",
      "1.51 ms ± 122 µs per loop (mean ± std. dev. of 7 runs, 1000 loops each)\n",
      "9.9 ms ± 652 µs per loop (mean ± std. dev. of 7 runs, 100 loops each)\n",
      "71.8 ms ± 6.29 ms per loop (mean ± std. dev. of 7 runs, 10 loops each)\n",
      "594 ms ± 67.5 ms per loop (mean ± std. dev. of 7 runs, 1 loop each)\n",
      "4.69 s ± 136 ms per loop (mean ± std. dev. of 7 runs, 1 loop each)\n",
      "72.7 µs ± 3.87 µs per loop (mean ± std. dev. of 7 runs, 10000 loops each)\n",
      "116 µs ± 6.47 µs per loop (mean ± std. dev. of 7 runs, 10000 loops each)\n",
      "185 µs ± 8.73 µs per loop (mean ± std. dev. of 7 runs, 10000 loops each)\n",
      "245 µs ± 19.2 µs per loop (mean ± std. dev. of 7 runs, 1000 loops each)\n",
      "273 µs ± 25.7 µs per loop (mean ± std. dev. of 7 runs, 1000 loops each)\n",
      "390 µs ± 47.4 µs per loop (mean ± std. dev. of 7 runs, 1000 loops each)\n",
      "430 µs ± 38.7 µs per loop (mean ± std. dev. of 7 runs, 1000 loops each)\n"
     ]
    }
   ],
   "source": [
    "for i in range (3,10):\n",
    "    A = np.random.randint(10,size = (i,i))\n",
    "    %timeit det(A)\n",
    "for i in range (3,10):\n",
    "    A = np.random.randint(10,size = (i,i))\n",
    "    %timeit LUdet(A)"
   ]
  }
 ],
 "metadata": {
  "kernelspec": {
   "display_name": "Python 3",
   "language": "python",
   "name": "python3"
  },
  "language_info": {
   "codemirror_mode": {
    "name": "ipython",
    "version": 3
   },
   "file_extension": ".py",
   "mimetype": "text/x-python",
   "name": "python",
   "nbconvert_exporter": "python",
   "pygments_lexer": "ipython3",
   "version": "3.8.8"
  }
 },
 "nbformat": 4,
 "nbformat_minor": 2
}

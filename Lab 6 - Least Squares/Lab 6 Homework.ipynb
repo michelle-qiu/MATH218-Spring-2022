{
 "cells": [
  {
   "cell_type": "markdown",
   "metadata": {},
   "source": [
    "> ## Make a copy of this notebook (File menu -> Make a Copy...)\n",
    "\n",
    "### Homework Question 1\n",
    "\n",
    "Write succinct and clear answers to the following questions:\n",
    "\n",
    "* Why do we want a predictor not to be *biased*?\n",
    "* Why do we want a predictor not to have large *variance*?\n",
    "* Why do these two often work in opposition to one another?"
   ]
  },
  {
   "cell_type": "markdown",
   "metadata": {},
   "source": [
    "We do not want to have bias in a predictor because large bias indicates a large difference between the predicted value and the expected value that we obtain, which would produce undesirable/incorrect/inaccurate results. We do not want to have variance because large variance indicates that the prediction model has high variability in its predictions for a given point, which could also produce faulty or unreliable results and shows that this model is very inconsistent in its predictions. \n",
    "\n",
    "Both of these often work in opposition to one another because decreasing one typically results in an increase in the other; for instance, if there is high bias, it is probable that there is low variance if the model is consistently predicting the same value, albeit the wrong one."
   ]
  },
  {
   "cell_type": "markdown",
   "metadata": {},
   "source": [
    "### Homework Question 2\n",
    "For the same set of points as in Question 8 from the lab, find the best fit line. Also find a cubic function that passes through all the points precisely. Plot these functions, as well as the quadratic from Question 8, and your points. Rank the three functions in order of bias as a model for the data points, then in order of variance. \n",
    "\n",
    "**Note:** we have no real way of quantifying variance. Your answer should include some detail as to how you decide on your ranking. Question 3 from the lab may help."
   ]
  },
  {
   "cell_type": "code",
   "execution_count": 1,
   "metadata": {},
   "outputs": [
    {
     "name": "stdout",
     "output_type": "stream",
     "text": [
      "[-0.01694915 -0.72881356]\n",
      "[ 2.24246231 -6.82035176 -3.99748744]\n",
      "[ 0.44166667  0.225      -6.21666667 -2.        ]\n"
     ]
    },
    {
     "data": {
      "text/plain": [
       "[<matplotlib.lines.Line2D at 0x22acc6d8850>]"
      ]
     },
     "execution_count": 1,
     "metadata": {},
     "output_type": "execute_result"
    },
    {
     "data": {
      "image/png": "[encoded data removed]",
      "text/plain": [
       "<Figure size 432x288 with 1 Axes>"
      ]
     },
     "metadata": {
      "needs_background": "light"
     },
     "output_type": "display_data"
    }
   ],
   "source": [
    "import numpy as np\n",
    "from Qiureferencefunctions import rowred, rowaddmult, swaprows,backsub,rowredpivot,LU,fwdsub\n",
    "import matplotlib.pyplot as plt\n",
    "a = np.array([-1,2,0,4])\n",
    "v = np.array([4,-10,-2,5])\n",
    "\n",
    "#line of best fit\n",
    "rows = a.shape[0]\n",
    "Al = np.zeros((rows,2))\n",
    "for i in range(0,rows-2):\n",
    "    x = pow(a,i)\n",
    "    Al[:,i] = x\n",
    "Al =np.fliplr(Al)\n",
    "\n",
    "Alt = Al.T @ Al\n",
    "V = Al.T @ v\n",
    "U,L,P = LU(Alt)\n",
    "V = P@V\n",
    "y = fwdsub(L,V)\n",
    "print(backsub(U,y))\n",
    "x = np.linspace(-25,25,100) \n",
    "y1 =  -0.01694915*x  -0.72881356\n",
    "plt.plot(x,y1,'g')\n",
    "plt.scatter(a,v)\n",
    "\n",
    "#quadratic\n",
    "rows = a.shape[0]\n",
    "Aq = np.zeros((rows,3))\n",
    "for i in range(0,rows-1):\n",
    "    x = pow(a,i)\n",
    "    Aq[:,i] = x\n",
    "Aq =np.fliplr(Aq)\n",
    "\n",
    "Aqt = Aq.T @ Aq\n",
    "V = Aq.T @ v\n",
    "U,L,P = LU(Aqt)\n",
    "V = P@V\n",
    "y = fwdsub(L,V)\n",
    "print(backsub(U,y))\n",
    "x = np.linspace(-25,25,100) \n",
    "y1 =  2.24246231*x**2 -6.82035176*x -3.99748744\n",
    "plt.plot(x,y1,'b')\n",
    "plt.scatter(a,v)\n",
    "\n",
    "#cubic\n",
    "Ac = np.zeros((rows,rows))\n",
    "for i in range(0,rows):\n",
    "    x = pow(a,i)\n",
    "    Ac[:,i] = x\n",
    "Ac =np.fliplr(Ac)\n",
    "\n",
    "U,L,P = LU(Ac)\n",
    "v = P@v\n",
    "y = fwdsub(L,v)\n",
    "print(backsub(U,y))\n",
    "x = np.linspace(-25,25,100) \n",
    "y1 =  0.441666*x**3 +0.225*x**2 - 6.21666666*x -2\n",
    "plt.plot(x,y1,'r')\n"
   ]
  },
  {
   "cell_type": "markdown",
   "metadata": {},
   "source": [
    "Ranking the models in order of least to most bias is cubic, quadratic, and linear, and the rankings for variability from least to most is linear, quadratic, and cubic. The model with the least bias here is the cubic function because it is the one that is directly fitting each of the points that we are giving it (because we have four points, and in order to create a cubic function, we need to have a 4x4 A matrix, which would guarantee with a set of four points that there is in fact a function that goes through each of those points). Thus, it is technically the most \"accurate\" model for the points that we are giving it.\n",
    "\n",
    "As for variance, the rankings from least to most is linear, quadratic, and cubic. This is because if we repeated this function with a different set of data, it would be most generalizable to a variety of different points with a linear function, in comparison with a quadratic or cubic, which increase in their specificity to the given points as the degree increases."
   ]
  },
  {
   "cell_type": "markdown",
   "metadata": {},
   "source": [
    "### Homework Question 3\n",
    "Given your classifier from Question 14 in the lab, and given a point from your combined set of points, consider the question \"Is this point in the cluster on the top left?' Compute the following and explain your answers (note, this is similar to Question 15 from the lab):\n",
    "1. The probability of getting a false positive (that is, a 'yes' answer when the correct answer is 'no'.);\n",
    "1. The probability of getting a false negative (that is, a 'no' answer when the correct answer is 'yes'.).\n",
    "    \n",
    "**Note:** You may do this question using code, or using mathematical analysis of your line and clusters. Bonus points for doing both and explaining why your answers (may) differ."
   ]
  },
  {
   "cell_type": "markdown",
   "metadata": {},
   "source": [
    "1. The probability of getting a false positive in this case is the probability of getting a blue dot above the line. By calculating the given y-values that are above the expected value from our classifier line, and then calculating the proportion of these values above the classifier that are in fact blue, we got a total of 96 points above the classifier, and 10 above the classifier that are actually blue. This is 10/96 or approximately 0.104167.\n",
    "Analyzing the probability using the area of the cluster, for the false positive, we just have to find the portion of the blue cluster above the line divided by the portion of the red cluster above the line.\n",
    "\n",
    "2. The probability of getting a false negative in this case is the probability of getting a red dot below the line. By calculating the given y-values that are below the expected value from our classifier line, and then calculating the proportion of these values above the classifier that are in fact red, we got a total of 104 points below the classifier, and 14 below the classifier that are actually red. This is 14/104 or approximately 0.134615.\n",
    "Analyzing the area of the clusters to solve this, we can find the area of overlap of the blue cluster contained in (8,4) and (12,8) and the red cluster contained in (5,5) and (10,10). "
   ]
  },
  {
   "cell_type": "code",
   "execution_count": 2,
   "metadata": {},
   "outputs": [
    {
     "name": "stdout",
     "output_type": "stream",
     "text": [
      "[-0.34884877  0.21474861  1.55619634]\n",
      "96 10\n",
      "104 14\n"
     ]
    },
    {
     "data": {
      "image/png": "[encoded data removed]",
      "text/plain": [
       "<Figure size 432x288 with 1 Axes>"
      ]
     },
     "metadata": {
      "needs_background": "light"
     },
     "output_type": "display_data"
    }
   ],
   "source": [
    "def rectangle(array, corner1x, corner1y, corner2x, corner2y):\n",
    "    np.random.seed(20)\n",
    "    array[:,0] = (corner2x-corner1x)*np.random.rand(100)+corner1x \n",
    "    array[:,1] = (corner2y-corner1y)*np.random.rand(100)+corner1y \n",
    "    return array\n",
    "red = np.zeros((100,2))\n",
    "blue = np.zeros((100,2))\n",
    "red = rectangle(red, 5,5,10,10)\n",
    "blue = rectangle(blue, 8,4,12,8)\n",
    "A = np.ones((200,3))\n",
    "A[0:100,0:2] = red\n",
    "A[100:200,0:2] = blue\n",
    "\n",
    "v = np.ones((200,1))\n",
    "v[100:,0] = -1\n",
    "At = A.T @ A\n",
    "V = A.T @ v\n",
    "U,L,P = LU(At)\n",
    "V = P@V\n",
    "y = fwdsub(L,V)\n",
    "print(backsub(U,y))\n",
    "\n",
    "plt.scatter(red[:,0],red[:,1],c='r')\n",
    "plt.scatter(blue[:,0],blue[:,1],c='b')\n",
    "y1 =  (0.34884877*x  - 1.55619634)/0.21474861\n",
    "plt.plot(x,y1,'purple')\n",
    "\n",
    "totalpos = 0;\n",
    "fpos= 0;\n",
    "for i in range (0,200):\n",
    "    x1 = A[i][0]\n",
    "    y1 = A[i][1]\n",
    "    y = (0.34884877*x1  - 1.55619634)/0.21474861\n",
    "    if y1>=y:\n",
    "        totalpos+=1\n",
    "        if i >=100:\n",
    "            fpos+=1\n",
    "print(totalpos, fpos)\n",
    "\n",
    "totalneg = 0;\n",
    "fneg= 0;\n",
    "for i in range (0,200):\n",
    "    x1 = A[i][0]\n",
    "    y1 = A[i][1]\n",
    "    y = (0.34884877*x1  - 1.55619634)/0.21474861\n",
    "    if y1<=y:\n",
    "        totalneg+=1\n",
    "        if i <100:\n",
    "            fneg+=1\n",
    "print(totalneg, fneg)"
   ]
  },
  {
   "cell_type": "markdown",
   "metadata": {},
   "source": [
    "### Homework Question 4\n",
    "\n",
    "In Question 15 of the lab and Question 3 above, you likely used the criterion 'Is $f(x,y)$ positive or negative?' to decide which cluster the point was in. This may not be the best possible criterion given the data you generated. You might get better results if the question was 'Is $f(x,y)>c?$' for some non-zero number c.\n",
    "\n",
    "1. Given the data you generated, find the number c that gives the best classifier. Write code that zeros in on the best c by examining a series of possible numbers c between $-1$ and $1$. Perhaps start by looking at different c's separated by 0.1, then 'zoom in' once you know which two of those are 'best'. You should aim to get the best c (i.e. the one that minimizes the total error - false positives plus false negatives) to two or three decimal places. What criteria did you use to decide what the ideal c was?\n",
    "1. Generate another set of data in the same clusters, and apply your classifier to it with your ideal c from the first part of this question. Do you get the same error rate? Why or why not? "
   ]
  },
  {
   "cell_type": "code",
   "execution_count": 3,
   "metadata": {},
   "outputs": [
    {
     "name": "stdout",
     "output_type": "stream",
     "text": [
      "[-0.34154203  0.18262083  1.76717492]\n",
      "85 8 0.09411764705882353\n",
      "115 23 0.2\n",
      "0.29411764705882354\n"
     ]
    }
   ],
   "source": [
    "def rectangle(array, corner1x, corner1y, corner2x, corner2y):\n",
    "    np.random.seed(10)\n",
    "    array[:,0] = (corner2x-corner1x)*np.random.rand(100)+corner1x \n",
    "    array[:,1] = (corner2y-corner1y)*np.random.rand(100)+corner1y \n",
    "    return array\n",
    "red = np.zeros((100,2))\n",
    "blue = np.zeros((100,2))\n",
    "red = rectangle(red, 5,5,10,10)\n",
    "blue = rectangle(blue, 8,4,12,8)\n",
    "A = np.ones((200,3))\n",
    "A[0:100,0:2] = red\n",
    "A[100:200,0:2] = blue\n",
    "v = np.ones((200,1))\n",
    "v[100:,0] = -1\n",
    "At = A.T @ A\n",
    "V = A.T @ v\n",
    "U,L,P = LU(At)\n",
    "V = P@V\n",
    "y = fwdsub(L,V)\n",
    "print(backsub(U,y))\n",
    "#print(A)\n",
    "totalpos = 0;\n",
    "fpos= 0;\n",
    "totalneg = 0;\n",
    "fneg= 0;\n",
    "for i in range (0,200):\n",
    "    x1 = A[i][0]\n",
    "    y1 = A[i][1]\n",
    "    a = -0.34154203*x1+  0.18262083*y1+  1.76717492\n",
    "    if a>=0.1:\n",
    "        totalpos+=1\n",
    "        if i >=100:\n",
    "            fpos+=1\n",
    "    if a<0.1:\n",
    "        totalneg+=1\n",
    "        if i <100:\n",
    "            fneg+=1\n",
    "print(totalpos, fpos, fpos/totalpos)\n",
    "print(totalneg, fneg, fneg/totalneg)\n",
    "print(fpos/totalpos + fneg/totalneg)\n",
    "\n",
    "#0  :0.23878205128205127\n",
    "#0.1:0.18831168831168832\n",
    "#0.2:0.20833333333333331\n",
    "#0.3:0.2248062015503876\n",
    "\n",
    "\n",
    "# f(x,y) =-0.34884877x+  0.21474861y+  1.55619634"
   ]
  },
  {
   "cell_type": "markdown",
   "metadata": {},
   "source": [
    "1. We got our c, based on our random seed iteration of data, to be 0.1, and the criteria we used to decide what this ideal c would be is that it is the c value that minimizes the total error of false positives plus false negatives. In our case, due to the data that we happened to randomly generate, even going into three decimal places, we were not able to get any better c value than 0.1.\n",
    "2. We don't get the same error rate, because we are working with a completely different data set that has slightly different values, even though they are made within the same boundaries."
   ]
  }
 ],
 "metadata": {
  "kernelspec": {
   "display_name": "Python 3",
   "language": "python",
   "name": "python3"
  },
  "language_info": {
   "codemirror_mode": {
    "name": "ipython",
    "version": 3
   },
   "file_extension": ".py",
   "mimetype": "text/x-python",
   "name": "python",
   "nbconvert_exporter": "python",
   "pygments_lexer": "ipython3",
   "version": "3.8.8"
  }
 },
 "nbformat": 4,
 "nbformat_minor": 2
}

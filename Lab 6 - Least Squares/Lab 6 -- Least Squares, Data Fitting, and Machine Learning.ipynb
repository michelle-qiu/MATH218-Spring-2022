{
 "cells": [
  {
   "cell_type": "markdown",
   "metadata": {},
   "source": [
    "# Least Squares\n",
    "\n",
    "## Pre-lab Reading: Bias-Variance (do this *before* the lab!)\n",
    "\n",
    "Read about bias-variance [here](http://scott.fortmann-roe.com/docs/BiasVariance.html). Make sure you can answer the following questions:\n",
    "* Why do we want a predictor not to be *biased*?\n",
    "* Why do we want a predictor not to have large *variance*?\n",
    "* Why do these two often work in opposition to one another?\n",
    "\n",
    "> ## Make a copy of this notebook (File menu -> Make a Copy...)\n",
    "\n",
    "## Least Squares as an Overdetermined System\n",
    "\n",
    "**Question 1** Consider the three points $(1,5)$, $(2,12)$, and $(4,26)$. \n",
    "1. Using high-school algebra, find an equation for line passing through these three points.<br><br>\n",
    "1. Write a matrix equation $Ax=b$ whose solution gives the line above. (Hint: If $y=mx+c$, write three equations that must be satisfied by $m$ and $c$, then translate your system into matrix form.)<br><br>\n",
    "1. Since there is a solution to your system, the vector $b$ must be in what fundamental space of the matrix $A$?\n",
    "\n"
   ]
  },
  {
   "cell_type": "code",
   "execution_count": 2,
   "metadata": {},
   "outputs": [
    {
     "name": "stdout",
     "output_type": "stream",
     "text": [
      "[[ 1  1  1]\n",
      " [ 4  2  1]\n",
      " [16  4  1]]\n",
      "[[ 5]\n",
      " [12]\n",
      " [26]]\n"
     ]
    }
   ],
   "source": [
    "import numpy as np\n",
    "from Qiureferencefunctions import rowred, rowaddmult, swaprows,backsub,rowredpivot,LU,fwdsub\n",
    "\n",
    "from rref import rref\n",
    "A = np.array([[1,1,1],[4,2,1],[16,4,1]]) #really just to have 2 cols but for the sake of being able to use the numpy thing\n",
    "b = np.array([[5],[12],[26]])\n",
    "print(A)\n",
    "print(b)\n",
    "#print(np.linalg.inv(A) @b) "
   ]
  },
  {
   "cell_type": "markdown",
   "metadata": {},
   "source": [
    "**Question 2** Now consider the points $(1,4.7)$, $(2,11.6)$, and $(4,26.4)$. Is there a line that passes through these three points? Justify your answer using the language of linear algebra (matrices and fundamental spaces).\n",
    "\n",
    "As you may have noticed, these points are very close to the ones in the previous question. That is, the line you found in Question 1 is a *pretty good* fit for the points in Question 2. It makes sense to ask 'just how good is it?' and 'is there a better line'?\n",
    "\n",
    "Regardless of these questions, we can see both systems above as *overdetermined*. That is, there are more equations than variables. Overdetermined systems can either have a unique solution or no solution at all. We will see today that many problems can be cast in terms of using linear algebra techniques to find a 'best' model in the case that there is no solution.\n",
    "\n",
    "\n"
   ]
  },
  {
   "cell_type": "code",
   "execution_count": 3,
   "metadata": {},
   "outputs": [
    {
     "name": "stdout",
     "output_type": "stream",
     "text": [
      "[[ 1  1  1]\n",
      " [ 4  2  1]\n",
      " [16  4  1]]\n",
      "[[ 4.7]\n",
      " [11.6]\n",
      " [26.4]]\n"
     ]
    }
   ],
   "source": [
    "A = np.array([[1,1,1],[4,2,1],[16,4,1]])\n",
    "b = np.array([[4.7],[11.6],[26.4]])\n",
    "print(A)\n",
    "print(b)\n",
    "#print(np.linalg.inv(A) @b)"
   ]
  },
  {
   "cell_type": "markdown",
   "metadata": {},
   "source": [
    "## Fitting a Polynomial to Data\n",
    "\n",
    "\n",
    "**Question 3** Look back at the last part of Lab 3, where we used LU decomposition to fit an $n-1$ degree polynomial to $n$ data points.\n",
    "1. Use the techniques from Lab 3 to find a quadratic polynomial that fits the points from Question 2.<br><br>\n",
    "1. Plot your points, the line you found in Question 1, and the polynomial from the previous part of this question on the same axes. <br><br>\n",
    "1. Suppose that these points were the result of an experiment that produced the $y$-values from $x$-values. Suppose we wanted to use a model to find what the $y$ value corresponding to, say, $x=10$ should be. Which equation would you feel more comfortable using, the line or the polynomial? After you've done the reading in the pre-lab, explain your answer in terms of bias and variance. You may want to change your points slightly, recompute the quadratic, and look at how your predictions for $x=10$ vary.\n",
    "\n",
    "\n",
    "**Note:** To plot the functions, say, $x^2$ and $x^3$ in blue and red respectively, with domain $-25<x<25$, and the points $(1,4)$, $(5,0)$, and $(6,2)$, you can use the following code:\n",
    "\n",
    "```python\n",
    "%matplotlib inline\n",
    "import matplotlib.pyplot as plt\n",
    "x = np.linspace(-25,25,100) # 100 linearly spaced numbers - read up on the np.linspace() command!\n",
    "y1 = x**2\n",
    "y2 = x**3\n",
    "plt.plot(x,y1,'b',x,y2,'r')\n",
    "plt.scatter([1,5,6],[4,0,2])\n",
    "```"
   ]
  },
  {
   "cell_type": "code",
   "execution_count": 4,
   "metadata": {},
   "outputs": [
    {
     "name": "stdout",
     "output_type": "stream",
     "text": [
      "[[ 1.  1.  1.]\n",
      " [ 4.  2.  1.]\n",
      " [16.  4.  1.]]\n",
      "[[1.     0.     0.    ]\n",
      " [0.25   1.     0.    ]\n",
      " [0.0625 0.75   1.    ]]\n",
      "[26.4 11.6  4.7]\n",
      "[ 0.16666667  6.4        -1.86666667]\n"
     ]
    },
    {
     "data": {
      "text/plain": [
       "<matplotlib.collections.PathCollection at 0x2042895a550>"
      ]
     },
     "execution_count": 4,
     "metadata": {},
     "output_type": "execute_result"
    },
    {
     "data": {
      "image/png": "[encoded data removed]",
      "text/plain": [
       "<Figure size 432x288 with 1 Axes>"
      ]
     },
     "metadata": {
      "needs_background": "light"
     },
     "output_type": "display_data"
    }
   ],
   "source": [
    "a = np.array([1,2,4])\n",
    "v = np.array([4.7,11.6,26.4])\n",
    "rows = a.shape[0]\n",
    "AA = np.zeros((rows,rows))\n",
    "for i in range(0,rows):\n",
    "    x = pow(a,i)\n",
    "    AA[:,i] = x\n",
    "AA =np.fliplr(AA)\n",
    "#A = np.zeros((rows,rows+1))\n",
    "#A[:,:rows] = AA\n",
    "#A[:,rows] = v\n",
    "np.set_printoptions(suppress=True)\n",
    "\n",
    "print(AA)\n",
    "U,L,P = LU(AA)\n",
    "print(L)\n",
    "v = P@v\n",
    "print(v)\n",
    "y = fwdsub(L,v)\n",
    "print(backsub(U,y))\n",
    "\n",
    "\n",
    "%matplotlib inline\n",
    "import matplotlib.pyplot as plt\n",
    "x = np.linspace(-25,25,100) # 100 linearly spaced numbers - read up on the np.linspace() command!\n",
    "y1 = 7*x - 2\n",
    "y2 = 0.166666667*x**2 + 6.4*x - 1.8666666667\n",
    "plt.plot(x,y1,'b',x,y2,'r')\n",
    "plt.scatter([1,2,4],[4.7,11.6,26.4])\n"
   ]
  },
  {
   "cell_type": "markdown",
   "metadata": {},
   "source": [
    "## Least Squares\n",
    "\n",
    "\n",
    "### The 2-D Case\n",
    "\n",
    "As you talked about in class, the best fit line for a set of data is given by the line that minimizes the sum of the squares of the distances of the data points from the line.\n",
    "\n",
    "**Question 4** \n",
    "1. Suppose that the points $(x_1,y_1)$, $(x_2,y_2)$, and $(x_3,y_3)$ are collinear (that is, they fall on the same line). Write down a matrix equation for $m$ and $c$ (Hint: this is similar to Question 1). Explain in terms of linear combinations and fundamental spaces why your equation has a solution.<br><br>\n",
    "1. Suppose that the points $(x_1,y_1)$, $(x_2,y_2)$, and $(x_3,y_3)$ are *not* collinear. Write down a matrix equation for $m$ and $c$. Explain why your equation *does not* have a solution. Again, write your answer in terms of linear combinations and fundamental spaces.<br><br>\n",
    "1. If the three points are not collinear, then the vector on the right side of your equation is not in in the $\\underline{~~~~~~~~~~~~~~~~~~~~~~~~~~~}$ space of the matrix on the left. (Fill in the blank.)\n",
    "\n",
    "As we learned in class, when we cannot find a solution $x$ to the equation $Ax=b$, we can project $b$ onto the closest point $p$ in the $\\underline{~~~~~~~~~~~~~~~~~~~~~~~~~~~}$ space of $A$ and solve $A\\hat{x}=p$ instead. To do this, we solve the *normal equation*:\n",
    "\n",
    "$$\\large{A^TA\\hat{x}=A^Tb}$$\n",
    "\n",
    "**Question 5** Use your LU decomposition code from prior labs and the normal equation to find the best fit line to the set of points from Question 2. Plot the points and your line."
   ]
  },
  {
   "cell_type": "code",
   "execution_count": 5,
   "metadata": {},
   "outputs": [
    {
     "name": "stdout",
     "output_type": "stream",
     "text": [
      "[ 7.25714286 -2.7       ]\n"
     ]
    },
    {
     "data": {
      "text/plain": [
       "<matplotlib.collections.PathCollection at 0x20428a1a1c0>"
      ]
     },
     "execution_count": 5,
     "metadata": {},
     "output_type": "execute_result"
    },
    {
     "data": {
      "image/png": "[encoded data removed]",
      "text/plain": [
       "<Figure size 432x288 with 1 Axes>"
      ]
     },
     "metadata": {
      "needs_background": "light"
     },
     "output_type": "display_data"
    }
   ],
   "source": [
    "a = np.array([1,2,4])\n",
    "v = np.array([4.7,11.6,26.4])\n",
    "rows = a.shape[0]\n",
    "AA = np.zeros((rows,2))\n",
    "for i in range(0,rows-1):\n",
    "    x = pow(a,i)\n",
    "    AA[:,i] = x\n",
    "AA =np.fliplr(AA)\n",
    "v = AA.T @ v\n",
    "At = AA.T @ AA\n",
    "\n",
    "U,L,P = LU(At)\n",
    "v = P@v\n",
    "\n",
    "y = fwdsub(L,v)\n",
    "print(backsub(U,y))\n",
    "x = np.linspace(-25,25,10) # 100 linearly spaced numbers - read up on the np.linspace() command!\n",
    "y1 = 7.25714286*x - 2.7\n",
    "plt.plot(x,y1,'b')\n",
    "plt.scatter([1,2,4],[4.7,11.6,26.4])\n",
    "\n",
    "# Question 4 -> when the points are not collinear, the \"y\" vector is not a linear combination of the matrix between [c,m] and the matrix of x values to various powers.\n",
    "#solve by projecting normal equation into ___???\n",
    "#by using A transpose, A^T * A turns into just a matrix of dot products of the columns with itself.\n",
    "#^ and then on the righthand side, we get the dot product of each column (transposed) with the entire b vector. \n",
    "#**** basically, we are able to solve this by using the normal equation - there is definitively an answer to this equation \n",
    "#when the b vector is not in the column space of A.\n",
    "#doing A transpose b ensures that this lives in the col space of A^t = the row space of A."
   ]
  },
  {
   "cell_type": "markdown",
   "metadata": {},
   "source": [
    "**Question 6** (From Larsen, R.J., and Marx, M.L. (1986). An Introduction to Mathematical Statistics and its Applications, 2nd Edition. Case study 1.2.4., also from the first 105L Lab):\n",
    "\n",
    "> Since World War II, plutonium for use in atomic weapons has been produced at an Atomic Energy Commission facility in Hanford, Washington.  One of the major safety problems encountered there has been the storage of radioactive wastes.  Over the years, significant quantities of these substances, including strontium 90 and cesium 137---have leaked from their open-pit storage areas into the nearby Columbia River, which flows along the Washington-Oregon border, and eventually empties into the Pacific Ocean.\n",
    "\n",
    "To measure the extent to which exposure to the radiation affected cancer mortality rates during 1959-1964, researchers calculated an *index of exposure*.  The index takes into consideration the county's distance down the river from the plant and the distance from the river.  More precisely, the index is formulated on the assumption that county or city exposure is directly proportional to river frontage and inversely proportional both to the distance from the Hanford site and the square of the county's (or city's) average depth away from the river (David A. Smith and L.C. Moore, Calculus: Modeling and Application, 1996).  The following table gives the index of exposure and cancer mortalities (the average number of cancer deaths per 20,000 residents per year during the period 1959-1964).\n",
    "\n",
    "\n",
    "County | Exposure | Mortality |\n",
    "--- |:---:| ---:| \n",
    "Umatilla | 2.49 | 147.1 |\n",
    "Morrow | 2.57 | 130.1 |\n",
    "Gilliam | 3.41 | 129.9 |\n",
    "Sherman | 1.25 | 113.5 |\n",
    "Wasco | 1.62 | 137.5 |\n",
    "Hood River | 3.83 | 162.3 |\n",
    "Portland | 11.64 | 207.5 |\n",
    "Columbia | 6.41 | 177.9 |\n",
    "Clatsop | 8.34 | 210.3 |\n",
    "\n",
    "Compute a best fit line for this data and use to predict the mortality for a new development along the river whose index of exposure is calculated to be 10.\n",
    "\n",
    "**Note:** If you took 105L, compare your answer to the best fit line presented in the Cancer Mortality lab in that class.\n"
   ]
  },
  {
   "cell_type": "code",
   "execution_count": 6,
   "metadata": {},
   "outputs": [
    {
     "name": "stdout",
     "output_type": "stream",
     "text": [
      "[  9.23145627 114.71563082]\n",
      "207.03019352\n"
     ]
    },
    {
     "data": {
      "text/plain": [
       "<matplotlib.collections.PathCollection at 0x20428ed2700>"
      ]
     },
     "execution_count": 6,
     "metadata": {},
     "output_type": "execute_result"
    },
    {
     "data": {
      "image/png": "[encoded data removed]",
      "text/plain": [
       "<Figure size 432x288 with 1 Axes>"
      ]
     },
     "metadata": {
      "needs_background": "light"
     },
     "output_type": "display_data"
    }
   ],
   "source": [
    "a = np.array([2.49,2.57,3.41,1.25,1.62,3.83,11.64,6.41,8.34])\n",
    "A = np.ones([9,2])\n",
    "A[:,0] = a\n",
    "V = np.array([147.1,130.1,129.9,113.5,137.5,162.3,207.5,177.9,210.3])\n",
    "At = A.T @ A\n",
    "v = A.T @ V\n",
    "U,L,P = LU(At)\n",
    "v = P@v\n",
    "y = fwdsub(L,v)\n",
    "print(backsub(U,y))\n",
    "def mortality (x):\n",
    "    return x*9.23145627 +114.71563082\n",
    "print(mortality(10))\n",
    "x = np.linspace(-25,25,10) # 100 linearly spaced numbers - read up on the np.linspace() command!\n",
    "y1 = x*9.23145627 +114.71563082\n",
    "plt.plot(x,y1,'b')\n",
    "plt.scatter(a,V)"
   ]
  },
  {
   "cell_type": "markdown",
   "metadata": {},
   "source": [
    "### Fitting Polynomials to Data\n",
    "\n",
    "We saw above that fitting a line to data involved finding the slope and $y$-intercept of the line $y=mx+c$. Similarly, a quadratic function is given by $f(x)=ax^2+bx+c$.\n",
    "\n",
    "**Question 7** Consider the points $(1,2)$, $(2,4)$, and $(5,-1)$.\n",
    "* If a quadratic function $f(x)=ax^2+bx+c$ passes through these points, write down three equations satisfied by $a$, $b$, and $c$.<br><br>\n",
    "* Rewrite your equations as a matrix equation.\n",
    "\n",
    "**Note:** The question above is very similar to the work we did at the end of the LU decomposition lab and its associated homework."
   ]
  },
  {
   "cell_type": "code",
   "execution_count": 7,
   "metadata": {},
   "outputs": [
    {
     "name": "stdout",
     "output_type": "stream",
     "text": [
      "[[ 1  1  1]\n",
      " [ 4  2  1]\n",
      " [25  5  1]]\n"
     ]
    }
   ],
   "source": [
    "# a + b + c = 2\n",
    "# 4a + 2b + c = 4\n",
    "# 25a + 5b + c = -1\n",
    "\n",
    "A = np.array([[1,1,1],[4,2,1],[25,5,1]])\n",
    "print(A)\n"
   ]
  },
  {
   "cell_type": "markdown",
   "metadata": {},
   "source": [
    "**Question 8** Consider the four points $(-1,4)$, $(2,-10)$, $(0,-2)$, and $(4,5)$. By using the ideas from question 7 and the previous part, find a *best fit parabola* for these points. Plot your answer and the points."
   ]
  },
  {
   "cell_type": "code",
   "execution_count": 8,
   "metadata": {},
   "outputs": [
    {
     "name": "stdout",
     "output_type": "stream",
     "text": [
      "[[ 1. -1.  1.]\n",
      " [ 4.  2.  1.]\n",
      " [ 0.  0.  1.]\n",
      " [16.  4.  1.]]\n",
      "[ 2.24246231 -6.82035176 -3.99748744]\n"
     ]
    },
    {
     "data": {
      "text/plain": [
       "<matplotlib.collections.PathCollection at 0x20428f27e50>"
      ]
     },
     "execution_count": 8,
     "metadata": {},
     "output_type": "execute_result"
    },
    {
     "data": {
      "image/png": "[encoded data removed]",
      "text/plain": [
       "<Figure size 432x288 with 1 Axes>"
      ]
     },
     "metadata": {
      "needs_background": "light"
     },
     "output_type": "display_data"
    }
   ],
   "source": [
    "a = np.array([-1,2,0,4])\n",
    "v = np.array([4,-10,-2,5])\n",
    "rows = a.shape[0]\n",
    "A = np.zeros((rows,3))\n",
    "for i in range(0,rows-1):\n",
    "    x = pow(a,i)\n",
    "    A[:,i] = x\n",
    "A =np.fliplr(A)\n",
    "print(A)\n",
    "\n",
    "At = A.T @ A\n",
    "V = A.T @ v\n",
    "U,L,P = LU(At)\n",
    "V = P@V\n",
    "y = fwdsub(L,V)\n",
    "print(backsub(U,y))\n",
    "\n",
    "x = np.linspace(-25,25,100) \n",
    "y1 =  2.24246231*x**2 -6.82035176*x -3.99748744\n",
    "plt.plot(x,y1,'b')\n",
    "plt.scatter(a,v)"
   ]
  },
  {
   "cell_type": "markdown",
   "metadata": {},
   "source": [
    "# Affine Functions in Higher Dimensions\n",
    "\n",
    "In two dimensions, any line can written as $y=mx+c$. We can rearrange this as $y-mx-c=0$. In general, an *affine function* $f:\\mathbb{R}^2\\to\\mathbb{R}$ can be written as \n",
    "\n",
    "$$f(x,y)=ax+by+c.$$ \n",
    "\n",
    "\n",
    "**Note:** This is slightly different from a *linear* function. Linear functions always map the zero vector in the domain to the zero vector in the range. In this case, what condition would you have to impose on the above function to make it linear?\n",
    "\n",
    "\n",
    "An affine function in a higher dimension $n$, $f:\\mathbb{R}^n\\to\\mathbb{R}$ can be written as\n",
    "\n",
    "$$f(x_1,x_2,\\ldots,x_n)=a_0 + a_1x_1 + a_2x_2 + \\ldots + a_nx_n$$\n",
    "\n",
    "**Note:** What condition on this would make the function linear?\n",
    "\n"
   ]
  },
  {
   "cell_type": "markdown",
   "metadata": {},
   "source": [
    "## Machine Learning: Binary Classifiers\n",
    "\n",
    "A basic problem in machine learning is: 'Given a set of data, decide which part of it belongs in set A, and which does not. For example, given a set of images, we might ask 'Which of these contain a cat?'. The problem is building a *binary classifier*: \n",
    "\n",
    "* A *classifier* divides a data set into different parts;<br><br>\n",
    "* A classifier is *binary* if it divides the data set into precisely two parts.\n",
    "\n",
    "For example, a classifier that divides all images into 'those containing a cat' and 'those not containing a cat' is a binary classifier.\n",
    "\n",
    "The goal today is to build a binary classifier that will distinguish handwritten zeros from other handwritten digits. We will get there in a little while, but we'll start with two simpler examples.\n",
    "\n",
    "### Classifying Points in the Plane\n",
    "\n",
    "We'll start by generating random points in two clusters that are quite far apart in order to understand what our classifiers are going to look like, and how we compute them. We'll then look at the same idea when the two clusters overlap, and the answer isn't so straightforward.\n",
    "\n",
    "#### Two Distinct Clusters\n",
    "\n",
    "We will generate 200 random points in the $x-y$ plane. 100 of our points will be near $(2,3)$, and the rest near $(-4,-4)$. The command\n",
    "```python\n",
    "np.random.rand(n)\n",
    "```\n",
    "generates an vector of $n$ random numbers between $0$ and $1$, drawn from a uniform distribution (that is, any number in the range $[0,1]$ is equally likely to occur).\n",
    "\n",
    "**Question 9** Write code to generate two $100\\times2$ uniformlly distributed random arrays, where each row represents a point in the $x-y$ plane. The first array should contain points in a rectangle with opposite corners $(1.5,2)$ and $(2.5,4)$; The second array should contain points in a rectangle with opposite corners $(-5,-5)$ and $(-3,3)$. Plot your points, one set in red and the other in blue.\n",
    "\n",
    "**Note:** It is good NumPy practice to first create arrays of the right shape (using, e.g., `np.zeros((m,n))`, then fill them.) \n",
    "\n",
    "If the *x*-coordinates of your points are in the array *X1* and the *y*-coordinates in the array *Y1*, the following code plots the points in blue. Changing the **b** to **r** plots in red:\n",
    "```python\n",
    "plt.scatter(X1,Y1,c='b')\n",
    "```\n",
    "\n",
    "Lastly, the command\n",
    "```python\n",
    "plt.gca().set_aspect('equal') # Note: gca is 'get current axes'\n",
    "```\n",
    "will ensure your scales are the same. This may or may not be a good thing! It's up to you to decide when to use equal scales."
   ]
  },
  {
   "cell_type": "code",
   "execution_count": 9,
   "metadata": {},
   "outputs": [
    {
     "name": "stdout",
     "output_type": "stream",
     "text": [
      "[[-3.8237384   1.60371801]\n",
      " [-3.20457254 -1.91676351]\n",
      " [-3.21693854 -2.1652323 ]\n",
      " [-3.36832505 -1.57537182]\n",
      " [-4.92822083 -1.83947855]\n",
      " [-3.61648484  1.75703771]\n",
      " [-4.24263812 -2.00940953]\n",
      " [-3.96297811 -2.02735219]\n",
      " [-3.68409707 -1.67245634]\n",
      " [-4.61229956 -1.60364419]\n",
      " [-4.4553672   0.30243874]\n",
      " [-3.56278813 -3.4817926 ]\n",
      " [-3.43399278  0.77982921]\n",
      " [-3.29934472 -2.97071222]\n",
      " [-3.44951021  2.70139311]\n",
      " [-4.92667139 -3.93871003]\n",
      " [-4.76661253  1.45437358]\n",
      " [-3.4974386  -2.1600364 ]\n",
      " [-4.52156357 -4.32289356]\n",
      " [-4.49038797  0.84935021]\n",
      " [-3.28474894  2.97280684]\n",
      " [-3.10044195 -4.92325783]\n",
      " [-3.87662628 -3.0994129 ]\n",
      " [-4.64243896 -1.30460175]\n",
      " [-3.45949613  1.1220707 ]\n",
      " [-4.01523792  2.78002651]\n",
      " [-3.73749387  2.32757598]\n",
      " [-3.32100415 -0.30042575]\n",
      " [-4.07792121 -1.44499738]\n",
      " [-4.00411985 -1.47139248]\n",
      " [-3.64117776  0.55193097]\n",
      " [-3.69842817  0.81312779]\n",
      " [-4.46240952  0.87786206]\n",
      " [-4.86535067 -1.92623576]\n",
      " [-3.45710972  2.56316729]\n",
      " [-4.03803174  1.34935412]\n",
      " [-4.34158718 -2.93748268]\n",
      " [-3.97871789  0.09189554]\n",
      " [-4.47274234  1.76112419]\n",
      " [-4.3789769  -4.93779881]\n",
      " [-3.74629312 -4.38370981]\n",
      " [-3.88510038  2.91540111]\n",
      " [-4.36284088  1.3277201 ]\n",
      " [-4.21031356  0.89509904]\n",
      " [-4.48405083  1.93111877]\n",
      " [-3.83551775 -3.15396702]\n",
      " [-4.67674258 -4.155982  ]\n",
      " [-3.80373236  0.94348216]\n",
      " [-3.34835285 -1.19874925]\n",
      " [-4.68721656  1.07722267]\n",
      " [-3.53139896 -1.11205494]\n",
      " [-4.18271314 -2.79252967]\n",
      " [-3.44262419 -1.94573306]\n",
      " [-3.39205886  0.40961119]\n",
      " [-3.42785711  0.89176825]\n",
      " [-3.81542596  2.76483756]\n",
      " [-3.67102159  0.45090175]\n",
      " [-3.70686543 -1.07638401]\n",
      " [-4.14872704 -3.97277406]\n",
      " [-3.97286333 -0.96935255]\n",
      " [-3.99748431 -1.72264717]\n",
      " [-4.92583238 -2.95522099]\n",
      " [-3.58376781 -0.05547179]\n",
      " [-3.7591388   2.16011559]\n",
      " [-3.44438293  0.34001913]\n",
      " [-4.08118107 -0.39317315]\n",
      " [-4.24038889  0.18976386]\n",
      " [-4.41621559  2.68861413]\n",
      " [-3.88554228  1.91495398]\n",
      " [-4.8316728   1.26183021]\n",
      " [-3.73743666 -2.51117344]\n",
      " [-3.11085902 -2.82468912]\n",
      " [-3.21752493  2.65904434]\n",
      " [-3.24283484 -0.86845856]\n",
      " [-4.31049675 -1.66059578]\n",
      " [-3.59379894  0.11090455]\n",
      " [-3.94532479  0.51621889]\n",
      " [-3.68136609  1.14789196]\n",
      " [-4.46341873 -1.4571633 ]\n",
      " [-3.78446584  2.61051592]\n",
      " [-4.90368526 -0.73766972]\n",
      " [-3.60899872 -2.49150897]\n",
      " [-4.40145624 -3.37182349]\n",
      " [-4.66872889  2.88278095]\n",
      " [-4.33549612 -1.25728631]\n",
      " [-4.66912451  0.62343376]\n",
      " [-3.17072404 -3.7631673 ]\n",
      " [-4.43194999  0.84799509]\n",
      " [-4.78478547  0.28468835]\n",
      " [-4.76599646  0.89142942]\n",
      " [-3.4889528   2.25351433]\n",
      " [-3.32221108  1.34653051]\n",
      " [-4.92892595 -1.84024215]\n",
      " [-4.75711246  2.37724583]\n",
      " [-3.21798389 -4.67243746]\n",
      " [-3.96981553  1.35473687]\n",
      " [-3.15116198  1.7037732 ]\n",
      " [-3.83751474 -0.66458646]\n",
      " [-3.45348723  0.0429776 ]\n",
      " [-4.15464621  2.77987135]]\n"
     ]
    },
    {
     "data": {
      "image/png": "[encoded data removed]",
      "text/plain": [
       "<Figure size 432x288 with 1 Axes>"
      ]
     },
     "metadata": {
      "needs_background": "light"
     },
     "output_type": "display_data"
    }
   ],
   "source": [
    "def rectangle(array, corner1x, corner1y, corner2x, corner2y):\n",
    "    np.random.seed(20)\n",
    "    array[:,0] = (corner2x-corner1x)*np.random.rand(100)+corner1x \n",
    "    array[:,1] = (corner2y-corner1y)*np.random.rand(100)+corner1y \n",
    "    return array\n",
    "red = np.zeros((100,2))\n",
    "blue = np.zeros((100,2))\n",
    "red = rectangle(red, 1.5,2,2.5,4)\n",
    "blue = rectangle(blue, -5,-5,-3,3)\n",
    "plt.scatter(red[:,0],red[:,1],c='r')\n",
    "plt.scatter(blue[:,0],blue[:,1],c='b')\n",
    "print(blue)\n",
    "#plt.gca().set_aspect('equal')"
   ]
  },
  {
   "cell_type": "markdown",
   "metadata": {},
   "source": [
    "**Question 10** By looking at your plot above, write down a yes/no question that, given a point, will test whether it belongs in the red cluster or the blue."
   ]
  },
  {
   "cell_type": "markdown",
   "metadata": {},
   "source": [
    "Is the x value greater or less than zero? If greater, it is red. If less, it is blue."
   ]
  },
  {
   "cell_type": "markdown",
   "metadata": {},
   "source": [
    "#### Less Distinct Clusters\n",
    "\n",
    "**Question 11** Modify your above code so that the first cluster is in the square cornered by $(5,5)$ and $(10,10)$, and the second cluster is in a rectangle cornered by $(8,4)$ and $(12,8)$. Looking at your plot, can you come up with a yes/no question similar to the one above that will test which cluster a given point belongs in? Can you come up with a yes/no question that decides which cluster a given point *probably* belongs in?"
   ]
  },
  {
   "cell_type": "code",
   "execution_count": 10,
   "metadata": {},
   "outputs": [
    {
     "data": {
      "image/png": "[encoded data removed]",
      "text/plain": [
       "<Figure size 432x288 with 1 Axes>"
      ]
     },
     "metadata": {
      "needs_background": "light"
     },
     "output_type": "display_data"
    }
   ],
   "source": [
    "red = np.zeros((100,2))\n",
    "blue = np.zeros((100,2))\n",
    "red = rectangle(red, 5,5,10,10)\n",
    "blue = rectangle(blue, 8,4,12,8)\n",
    "plt.scatter(red[:,0],red[:,1],c='r')\n",
    "plt.scatter(blue[:,0],blue[:,1],c='b')\n",
    "plt.gca().set_aspect('equal')"
   ]
  },
  {
   "cell_type": "markdown",
   "metadata": {},
   "source": [
    "### Our Classifiers\n",
    "\n",
    "Ideally, we'd have a function takes one value, say, 1, on points from one cluster, and another value, say, -1, on points in the other cluster. If we had such a function, we'd be able to plug the coordinates of a point whose cluster is unknown into the function and read off the cluster from the result. Such a function rarely exists, even in a simple case like our second pair of clusters above, and certainly not in the case of handwritten digits.\n",
    "\n",
    "Instead, our strategy will be to to use the idea of least squares to find a affine function that best approximates our desired function. We'll start with our clearly separated clusters from the first example.\n",
    "\n",
    "Our ideal function would take the first 100 points and map them to 1, and the second 100 points to -1. That is, if $(x_1,y_1)$ is a point in the first cluster, then we'd like to find $a$, $b$, and $c$ such that \n",
    "\n",
    "$$ax_1+by_1+c=1,$$ \n",
    "\n",
    "and similarly for the second cluster (where a point should map to $-1$). Why doesn't such a function exist?\n",
    "\n",
    "**Question 12** Create a $200\\times 3$ array $A$ whose first two columns are the points in the clusters in Question 9 and whose last column is all ones. Write a matrix equation $Ax=v$ involving the coefficients of the ideal function described above (You may want to refer to Questions 1-4 above). Specifically, what are the vectors *x* and *v*?\n"
   ]
  },
  {
   "cell_type": "code",
   "execution_count": 11,
   "metadata": {},
   "outputs": [],
   "source": [
    "red = np.zeros((100,2))\n",
    "blue = np.zeros((100,2))\n",
    "red = rectangle(red, 1.5,2,2.5,4)\n",
    "blue = rectangle(blue, -5,-5,-3,3)\n",
    "A = np.ones((200,3))\n",
    "A[0:100,0:2] = red\n",
    "A[100:200,0:2] = blue\n",
    "#print(A)\n",
    "\n",
    "#x is a 3x1 array of the coefficients: a, b, c. v is an array of 1s and -1s according to which cluster it belongs to (red or blue)"
   ]
  },
  {
   "cell_type": "markdown",
   "metadata": {},
   "source": [
    "**Question 13** Create the vector *v*, then use the ideas above (and your LU code) to find the affine function that minimizes the sum of least squares from your ideal vector. Rewrite your function in slope-intercept form (Hint: Rearrange the equation $ax+by+c=0$). Lastly, plot your clusters and your function on the same set of axes. You should get quite a pretty picture!\n",
    "\n",
    "**Note:** We pick zero for the right hand side of our plot because we would ideally want points likely to belong to one cluster to give us $1$, and points likely to belong to the other cluster to give us $-1$ when we plug them into $ax+by+c$. Zero, being half way in between, gives us (maybe...) the best separator. Suppose you were tasked with using your classifier to predict which cluster a *new point* $(x_0, y_0)$ would most likely belong to, if $ax_0+by_0+c$ is positive, the classifier would predict it belongs to the first cluster. If it is negative, the classifier predicts it would belong to the second."
   ]
  },
  {
   "cell_type": "code",
   "execution_count": 12,
   "metadata": {},
   "outputs": [
    {
     "name": "stdout",
     "output_type": "stream",
     "text": [
      "[0.32079281 0.01226069 0.29548197]\n"
     ]
    },
    {
     "data": {
      "text/plain": [
       "[<matplotlib.lines.Line2D at 0x204294b6580>]"
      ]
     },
     "execution_count": 12,
     "metadata": {},
     "output_type": "execute_result"
    },
    {
     "data": {
      "image/png": "[encoded data removed]",
      "text/plain": [
       "<Figure size 432x288 with 1 Axes>"
      ]
     },
     "metadata": {
      "needs_background": "light"
     },
     "output_type": "display_data"
    }
   ],
   "source": [
    "v = np.ones((200,1))\n",
    "v[100:,0] = -1\n",
    "At = A.T @ A\n",
    "V = A.T @ v\n",
    "U,L,P = LU(At)\n",
    "V = P@V\n",
    "y = fwdsub(L,V)\n",
    "print(backsub(U,y))\n",
    "\n",
    "red = np.zeros((100,2))\n",
    "blue = np.zeros((100,2))\n",
    "red = rectangle(red, 1.5,2,2.5,4)\n",
    "blue = rectangle(blue, -5,-5,-3,3)\n",
    "plt.scatter(red[:,0],red[:,1],c='r')\n",
    "plt.scatter(blue[:,0],blue[:,1],c='b')\n",
    "y1 =  (-0.32079281*x  - 0.29548197)/0.01226069\n",
    "plt.plot(x,y1,'b')\n"
   ]
  },
  {
   "cell_type": "markdown",
   "metadata": {},
   "source": [
    "**Question 14** Repeat Question 13 for your second set of two clusters."
   ]
  },
  {
   "cell_type": "code",
   "execution_count": 19,
   "metadata": {},
   "outputs": [
    {
     "name": "stdout",
     "output_type": "stream",
     "text": [
      "[[ 7.94065401  9.12732376  1.        ]\n",
      " [ 9.48856864  6.92702281  1.        ]\n",
      " [ 9.45765365  6.77172981  1.        ]\n",
      " [ 9.07918739  7.14039261  1.        ]\n",
      " [ 5.17944793  6.97532591  1.        ]\n",
      " [ 8.45878791  9.22314857  1.        ]\n",
      " [ 6.89340471  6.86911905  1.        ]\n",
      " [ 7.59255473  6.85790488  1.        ]\n",
      " [ 8.28975733  7.07971479  1.        ]\n",
      " [ 5.96925109  7.12272238  1.        ]\n",
      " [ 6.36158201  8.31402421  1.        ]\n",
      " [ 8.59302967  5.94887963  1.        ]\n",
      " [ 8.91501805  8.61239326  1.        ]\n",
      " [ 9.2516382   6.26830486  1.        ]\n",
      " [ 8.87622447  9.81337069  1.        ]\n",
      " [ 5.18332153  5.66330623  1.        ]\n",
      " [ 5.58346868  9.03398349  1.        ]\n",
      " [ 8.7564035   6.77497725  1.        ]\n",
      " [ 6.19609108  5.42319152  1.        ]\n",
      " [ 6.27403007  8.65584388  1.        ]\n",
      " [ 9.28812766  9.98300427  1.        ]\n",
      " [ 9.74889513  5.04796385  1.        ]\n",
      " [ 7.80843429  6.18786694  1.        ]\n",
      " [ 5.8939026   7.30962391  1.        ]\n",
      " [ 8.85125967  8.82629419  1.        ]\n",
      " [ 7.4619052   9.86251657  1.        ]\n",
      " [ 8.15626533  9.57973499  1.        ]\n",
      " [ 9.19748961  7.93723391  1.        ]\n",
      " [ 7.30519698  7.22187664  1.        ]\n",
      " [ 7.48970037  7.2053797   1.        ]\n",
      " [ 8.39705559  8.46995686  1.        ]\n",
      " [ 8.25392957  8.63320487  1.        ]\n",
      " [ 6.34397619  8.67366379  1.        ]\n",
      " [ 5.33662333  6.92110265  1.        ]\n",
      " [ 8.85722569  9.72697956  1.        ]\n",
      " [ 7.40492066  8.96834632  1.        ]\n",
      " [ 6.64603204  6.28907333  1.        ]\n",
      " [ 7.55320528  8.18243471  1.        ]\n",
      " [ 6.31814414  9.22570262  1.        ]\n",
      " [ 6.55255775  5.03887574  1.        ]\n",
      " [ 8.13426719  5.38518137  1.        ]\n",
      " [ 7.78724905  9.94712569  1.        ]\n",
      " [ 6.5928978   8.95482506  1.        ]\n",
      " [ 6.9742161   8.6844369   1.        ]\n",
      " [ 6.28987293  9.33194923  1.        ]\n",
      " [ 7.91120562  6.15377061  1.        ]\n",
      " [ 5.80814355  5.52751125  1.        ]\n",
      " [ 7.9906691   8.71467635  1.        ]\n",
      " [ 9.12911789  7.37578172  1.        ]\n",
      " [ 5.78195859  8.79826417  1.        ]\n",
      " [ 8.6715026   7.42996566  1.        ]\n",
      " [ 7.04321716  6.37966895  1.        ]\n",
      " [ 8.89343952  6.90891684  1.        ]\n",
      " [ 9.01985284  8.38100699  1.        ]\n",
      " [ 8.93035722  8.68235515  1.        ]\n",
      " [ 7.96143509  9.85302348  1.        ]\n",
      " [ 8.32244601  8.40681359  1.        ]\n",
      " [ 8.23283643  7.45225999  1.        ]\n",
      " [ 7.12818239  5.64201621  1.        ]\n",
      " [ 7.56784167  7.51915466  1.        ]\n",
      " [ 7.50628922  7.04834552  1.        ]\n",
      " [ 5.18541905  6.27798688  1.        ]\n",
      " [ 8.54058048  8.09033013  1.        ]\n",
      " [ 8.102153    9.47507224  1.        ]\n",
      " [ 8.88904267  8.33751195  1.        ]\n",
      " [ 7.29704733  7.87926678  1.        ]\n",
      " [ 6.89902777  8.24360241  1.        ]\n",
      " [ 6.45946102  9.80538383  1.        ]\n",
      " [ 7.78614431  9.32184624  1.        ]\n",
      " [ 5.42081801  8.91364388  1.        ]\n",
      " [ 8.15640835  6.5555166   1.        ]\n",
      " [ 9.72285244  6.3595693   1.        ]\n",
      " [ 9.45618767  9.78690271  1.        ]\n",
      " [ 9.3929129   7.5822134   1.        ]\n",
      " [ 6.72375814  7.08712764  1.        ]\n",
      " [ 8.51550266  8.19431535  1.        ]\n",
      " [ 7.63668802  8.44763681  1.        ]\n",
      " [ 8.29658478  8.84243247  1.        ]\n",
      " [ 6.34145317  7.21427294  1.        ]\n",
      " [ 8.0388354   9.75657245  1.        ]\n",
      " [ 5.24078685  7.66395643  1.        ]\n",
      " [ 8.4775032   6.5678069   1.        ]\n",
      " [ 6.49635939  6.01761032  1.        ]\n",
      " [ 5.82817777  9.92673809  1.        ]\n",
      " [ 6.6612597   7.33919606  1.        ]\n",
      " [ 5.82718873  8.5146461   1.        ]\n",
      " [ 9.57318991  5.77302044  1.        ]\n",
      " [ 6.42012503  8.65499693  1.        ]\n",
      " [ 5.53803632  8.30293022  1.        ]\n",
      " [ 5.58500885  8.68214339  1.        ]\n",
      " [ 8.77761799  9.53344645  1.        ]\n",
      " [ 9.19447229  8.96658157  1.        ]\n",
      " [ 5.17768513  6.97484866  1.        ]\n",
      " [ 5.60721885  9.61077864  1.        ]\n",
      " [ 9.45504028  5.20472658  1.        ]\n",
      " [ 7.57546117  8.97171055  1.        ]\n",
      " [ 9.62209506  9.18985825  1.        ]\n",
      " [ 7.90621315  7.70963346  1.        ]\n",
      " [ 8.86628194  8.151861    1.        ]\n",
      " [ 7.11338447  9.86241959  1.        ]\n",
      " [10.3525232   7.30185901  1.        ]\n",
      " [11.59085491  5.54161825  1.        ]\n",
      " [11.56612292  5.41738385  1.        ]\n",
      " [11.26334991  5.71231409  1.        ]\n",
      " [ 8.14355834  5.58026073  1.        ]\n",
      " [10.76703033  7.37851886  1.        ]\n",
      " [ 9.51472377  5.49529524  1.        ]\n",
      " [10.07404378  5.4863239   1.        ]\n",
      " [10.63180586  5.66377183  1.        ]\n",
      " [ 8.77540087  5.69817791  1.        ]\n",
      " [ 9.08926561  6.65121937  1.        ]\n",
      " [10.87442373  4.7591037   1.        ]\n",
      " [11.13201444  6.8899146   1.        ]\n",
      " [11.40131056  5.01464389  1.        ]\n",
      " [11.10097958  7.85069655  1.        ]\n",
      " [ 8.14665723  4.53064498  1.        ]\n",
      " [ 8.46677494  7.22718679  1.        ]\n",
      " [11.0051228   5.4199818   1.        ]\n",
      " [ 8.95687286  4.33855322  1.        ]\n",
      " [ 9.01922406  6.9246751   1.        ]\n",
      " [11.43050212  7.98640342  1.        ]\n",
      " [11.7991161   4.03837108  1.        ]\n",
      " [10.24674743  4.95029355  1.        ]\n",
      " [ 8.71512208  5.84769913  1.        ]\n",
      " [11.08100773  7.06103535  1.        ]\n",
      " [ 9.96952416  7.89001326  1.        ]\n",
      " [10.52501226  7.66378799  1.        ]\n",
      " [11.35799169  6.34978712  1.        ]\n",
      " [ 9.84415759  5.77750131  1.        ]\n",
      " [ 9.99176029  5.76430376  1.        ]\n",
      " [10.71764447  6.77596549  1.        ]\n",
      " [10.60314366  6.90656389  1.        ]\n",
      " [ 9.07518095  6.93893103  1.        ]\n",
      " [ 8.26929867  5.53688212  1.        ]\n",
      " [11.08578055  7.78158365  1.        ]\n",
      " [ 9.92393653  7.17467706  1.        ]\n",
      " [ 9.31682563  5.03125866  1.        ]\n",
      " [10.04256422  6.54594777  1.        ]\n",
      " [ 9.05451531  7.38056209  1.        ]\n",
      " [ 9.2420462   4.03110059  1.        ]\n",
      " [10.50741375  4.3081451   1.        ]\n",
      " [10.22979924  7.95770056  1.        ]\n",
      " [ 9.27431824  7.16386005  1.        ]\n",
      " [ 9.57937288  6.94754952  1.        ]\n",
      " [ 9.03189834  7.46555938  1.        ]\n",
      " [10.32896449  4.92301649  1.        ]\n",
      " [ 8.64651484  4.422009    1.        ]\n",
      " [10.39253528  6.97174108  1.        ]\n",
      " [11.30329431  5.90062537  1.        ]\n",
      " [ 8.62556687  7.03861134  1.        ]\n",
      " [10.93720208  5.94397253  1.        ]\n",
      " [ 9.63457373  5.10373516  1.        ]\n",
      " [11.11475162  5.52713347  1.        ]\n",
      " [11.21588227  6.70480559  1.        ]\n",
      " [11.14428577  6.94588412  1.        ]\n",
      " [10.36914807  7.88241878  1.        ]\n",
      " [10.65795681  6.72545088  1.        ]\n",
      " [10.58626915  5.961808    1.        ]\n",
      " [ 9.70254592  4.51361297  1.        ]\n",
      " [10.05427334  6.01532373  1.        ]\n",
      " [10.00503137  5.63867642  1.        ]\n",
      " [ 8.14833524  5.0223895   1.        ]\n",
      " [10.83246438  6.47226411  1.        ]\n",
      " [10.4817224   7.58005779  1.        ]\n",
      " [11.11123414  6.67000956  1.        ]\n",
      " [ 9.83763786  6.30341342  1.        ]\n",
      " [ 9.51922222  6.59488193  1.        ]\n",
      " [ 9.16756881  7.84430706  1.        ]\n",
      " [10.22891545  7.45747699  1.        ]\n",
      " [ 8.33665441  7.13091511  1.        ]\n",
      " [10.52512668  5.24441328  1.        ]\n",
      " [11.77828195  5.08765544  1.        ]\n",
      " [11.56495014  7.82952217  1.        ]\n",
      " [11.51433032  6.06577072  1.        ]\n",
      " [ 9.37900651  5.66970211  1.        ]\n",
      " [10.81240213  6.55545228  1.        ]\n",
      " [10.10935042  6.75810944  1.        ]\n",
      " [10.63726782  7.07394598  1.        ]\n",
      " [ 9.07316253  5.77141835  1.        ]\n",
      " [10.43106832  7.80525796  1.        ]\n",
      " [ 8.19262948  6.13116514  1.        ]\n",
      " [10.78200256  5.25424552  1.        ]\n",
      " [ 9.19708751  4.81408825  1.        ]\n",
      " [ 8.66254222  7.94139047  1.        ]\n",
      " [ 9.32900776  5.87135685  1.        ]\n",
      " [ 8.66175098  6.81171688  1.        ]\n",
      " [11.65855192  4.61841635  1.        ]\n",
      " [ 9.13610002  6.92399755  1.        ]\n",
      " [ 8.43042906  6.64234417  1.        ]\n",
      " [ 8.46800708  6.94571471  1.        ]\n",
      " [11.0220944   7.62675716  1.        ]\n",
      " [11.35557783  7.17326525  1.        ]\n",
      " [ 8.14214811  5.57987892  1.        ]\n",
      " [ 8.48577508  7.68862292  1.        ]\n",
      " [11.56403222  4.16378127  1.        ]\n",
      " [10.06036894  7.17736844  1.        ]\n",
      " [11.69767605  7.3518866   1.        ]\n",
      " [10.32497052  6.16770677  1.        ]\n",
      " [11.09302555  6.5214888   1.        ]\n",
      " [ 9.69070758  7.88993567  1.        ]]\n",
      "[-0.34884877  0.21474861  1.55619634]\n"
     ]
    },
    {
     "data": {
      "text/plain": [
       "[<matplotlib.lines.Line2D at 0x20428fbe940>]"
      ]
     },
     "execution_count": 19,
     "metadata": {},
     "output_type": "execute_result"
    },
    {
     "data": {
      "image/png": "[encoded data removed]",
      "text/plain": [
       "<Figure size 432x288 with 1 Axes>"
      ]
     },
     "metadata": {
      "needs_background": "light"
     },
     "output_type": "display_data"
    }
   ],
   "source": [
    "red = np.zeros((100,2))\n",
    "blue = np.zeros((100,2))\n",
    "red = rectangle(red, 5,5,10,10)\n",
    "blue = rectangle(blue, 8,4,12,8)\n",
    "A = np.ones((200,3))\n",
    "A[0:100,0:2] = red\n",
    "A[100:200,0:2] = blue\n",
    "print(A)\n",
    "v = np.ones((200,1))\n",
    "v[100:,0] = -1\n",
    "At = A.T @ A\n",
    "V = A.T @ v\n",
    "U,L,P = LU(At)\n",
    "V = P@V\n",
    "y = fwdsub(L,V)\n",
    "print(backsub(U,y))\n",
    "\n",
    "\n",
    "plt.scatter(red[:,0],red[:,1],c='r')\n",
    "plt.scatter(blue[:,0],blue[:,1],c='b')\n",
    "y1 =  (0.34884877*x  - 1.55619634)/0.21474861\n",
    "plt.plot(x,y1,'purple')\n"
   ]
  },
  {
   "cell_type": "markdown",
   "metadata": {},
   "source": [
    "**Question 15** Suppose that you were tasked with using your classifier to decide which cluster a given point $(x_1,y_1)$ belongs to. Clearly, plugging it into your affine function won't give $1$ or $-1$ in general. How would you use the result to decide which cluster your point is likely to be in? Feel free to experiment with a few points, of course!"
   ]
  },
  {
   "cell_type": "markdown",
   "metadata": {},
   "source": [
    "If y1 - y (when y is the value of the equation) is greater than zero, that means it is above the line and belongs to that cluster (1). If it is less than zero, that means it is below the line and belongs to the lower cluster"
   ]
  },
  {
   "cell_type": "code",
   "execution_count": null,
   "metadata": {},
   "outputs": [],
   "source": []
  },
  {
   "cell_type": "markdown",
   "metadata": {},
   "source": [
    "In the next lab, we will apply these ideas to a large dataset and see if we can get a computer to recognize handwriting."
   ]
  }
 ],
 "metadata": {
  "kernelspec": {
   "display_name": "Python 3",
   "language": "python",
   "name": "python3"
  },
  "language_info": {
   "codemirror_mode": {
    "name": "ipython",
    "version": 3
   },
   "file_extension": ".py",
   "mimetype": "text/x-python",
   "name": "python",
   "nbconvert_exporter": "python",
   "pygments_lexer": "ipython3",
   "version": "3.8.8"
  }
 },
 "nbformat": 4,
 "nbformat_minor": 2
}
